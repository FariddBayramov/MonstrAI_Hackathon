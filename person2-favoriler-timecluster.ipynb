{
 "cells": [
  {
   "cell_type": "code",
   "execution_count": 1,
   "id": "ba9b238e",
   "metadata": {},
   "outputs": [],
   "source": [
    "import pandas as pd\n",
    "import numpy as np"
   ]
  },
  {
   "cell_type": "code",
   "execution_count": 2,
   "id": "db07ae58",
   "metadata": {},
   "outputs": [
    {
     "data": {
      "application/vnd.microsoft.datawrangler.viewer.v0+json": {
       "columns": [
        {
         "name": "index",
         "rawType": "int64",
         "type": "integer"
        },
        {
         "name": "device_aid",
         "rawType": "object",
         "type": "string"
        },
        {
         "name": "date",
         "rawType": "object",
         "type": "string"
        },
        {
         "name": "zaman_bolumu",
         "rawType": "object",
         "type": "string"
        },
        {
         "name": "Place",
         "rawType": "object",
         "type": "string"
        }
       ],
       "ref": "a6a68fc1-c8b0-4511-918f-c37d0652540c",
       "rows": [
        [
         "0",
         "01069bba-c0ed-4999-8515-22754c3fee3e",
         "2024-05-24",
         "sabah",
         "BigChefs Suadiye"
        ],
        [
         "1",
         "01069bba-c0ed-4999-8515-22754c3fee3e",
         "2024-05-24",
         "sabah",
         "Kahve Dünyası - Bağdat Caddesi Beyaz Köşk"
        ],
        [
         "2",
         "01069bba-c0ed-4999-8515-22754c3fee3e",
         "2024-05-24",
         "sabah",
         "İspark İçerenköy Açık Otoparkı"
        ],
        [
         "3",
         "01069bba-c0ed-4999-8515-22754c3fee3e",
         "2024-05-24",
         "sabah",
         "Caribou Coffee"
        ],
        [
         "4",
         "01069bba-c0ed-4999-8515-22754c3fee3e",
         "2024-05-24",
         "sabah",
         "Balık"
        ],
        [
         "5",
         "01069bba-c0ed-4999-8515-22754c3fee3e",
         "2024-05-01",
         "aksam",
         "Özgürlük Parkı"
        ],
        [
         "6",
         "01069bba-c0ed-4999-8515-22754c3fee3e",
         "2024-05-01",
         "gece",
         "Özgürlük Parkı"
        ],
        [
         "7",
         "01069bba-c0ed-4999-8515-22754c3fee3e",
         "2024-05-01",
         "oglen",
         "Özgürlük Parkı"
        ],
        [
         "8",
         "01069bba-c0ed-4999-8515-22754c3fee3e",
         "2024-05-01",
         "sabah",
         "Özgürlük Parkı"
        ],
        [
         "9",
         "01069bba-c0ed-4999-8515-22754c3fee3e",
         "2024-05-02",
         "gece",
         "Özgürlük Parkı"
        ],
        [
         "10",
         "01069bba-c0ed-4999-8515-22754c3fee3e",
         "2024-05-02",
         "oglen",
         "Özgürlük Parkı"
        ],
        [
         "11",
         "01069bba-c0ed-4999-8515-22754c3fee3e",
         "2024-05-02",
         "sabah",
         "Özgürlük Parkı"
        ],
        [
         "12",
         "01069bba-c0ed-4999-8515-22754c3fee3e",
         "2024-05-03",
         "aksam",
         "Özgürlük Parkı"
        ],
        [
         "13",
         "01069bba-c0ed-4999-8515-22754c3fee3e",
         "2024-05-03",
         "gece",
         "Özgürlük Parkı"
        ],
        [
         "14",
         "01069bba-c0ed-4999-8515-22754c3fee3e",
         "2024-05-03",
         "oglen",
         "Özgürlük Parkı"
        ],
        [
         "15",
         "01069bba-c0ed-4999-8515-22754c3fee3e",
         "2024-05-04",
         "aksam",
         "Özgürlük Parkı"
        ],
        [
         "16",
         "01069bba-c0ed-4999-8515-22754c3fee3e",
         "2024-05-04",
         "gece",
         "Özgürlük Parkı"
        ],
        [
         "17",
         "01069bba-c0ed-4999-8515-22754c3fee3e",
         "2024-05-04",
         "oglen",
         "Özgürlük Parkı"
        ],
        [
         "18",
         "01069bba-c0ed-4999-8515-22754c3fee3e",
         "2024-05-04",
         "sabah",
         "Özgürlük Parkı"
        ],
        [
         "19",
         "01069bba-c0ed-4999-8515-22754c3fee3e",
         "2024-05-05",
         "aksam",
         "Özgürlük Parkı"
        ],
        [
         "20",
         "01069bba-c0ed-4999-8515-22754c3fee3e",
         "2024-05-05",
         "oglen",
         "Özgürlük Parkı"
        ],
        [
         "21",
         "01069bba-c0ed-4999-8515-22754c3fee3e",
         "2024-05-06",
         "aksam",
         "Özgürlük Parkı"
        ],
        [
         "22",
         "01069bba-c0ed-4999-8515-22754c3fee3e",
         "2024-05-06",
         "gece",
         "Özgürlük Parkı"
        ],
        [
         "23",
         "01069bba-c0ed-4999-8515-22754c3fee3e",
         "2024-05-06",
         "oglen",
         "Balık"
        ],
        [
         "24",
         "01069bba-c0ed-4999-8515-22754c3fee3e",
         "2024-05-06",
         "sabah",
         "Özgürlük Parkı"
        ],
        [
         "25",
         "01069bba-c0ed-4999-8515-22754c3fee3e",
         "2024-05-07",
         "aksam",
         "Özgürlük Parkı"
        ],
        [
         "26",
         "01069bba-c0ed-4999-8515-22754c3fee3e",
         "2024-05-07",
         "gece",
         "Özgürlük Parkı"
        ],
        [
         "27",
         "01069bba-c0ed-4999-8515-22754c3fee3e",
         "2024-05-07",
         "oglen",
         "Özgürlük Parkı"
        ],
        [
         "28",
         "01069bba-c0ed-4999-8515-22754c3fee3e",
         "2024-05-07",
         "sabah",
         "Özgürlük Parkı"
        ],
        [
         "29",
         "01069bba-c0ed-4999-8515-22754c3fee3e",
         "2024-05-08",
         "aksam",
         "Özgürlük Parkı"
        ],
        [
         "30",
         "01069bba-c0ed-4999-8515-22754c3fee3e",
         "2024-05-08",
         "gece",
         "Özgürlük Parkı"
        ],
        [
         "31",
         "01069bba-c0ed-4999-8515-22754c3fee3e",
         "2024-05-08",
         "oglen",
         "Özgürlük Parkı"
        ],
        [
         "32",
         "01069bba-c0ed-4999-8515-22754c3fee3e",
         "2024-05-08",
         "sabah",
         "Özgürlük Parkı"
        ],
        [
         "33",
         "01069bba-c0ed-4999-8515-22754c3fee3e",
         "2024-05-09",
         "aksam",
         "Özgürlük Parkı"
        ],
        [
         "34",
         "01069bba-c0ed-4999-8515-22754c3fee3e",
         "2024-05-09",
         "gece",
         "Özgürlük Parkı"
        ],
        [
         "35",
         "01069bba-c0ed-4999-8515-22754c3fee3e",
         "2024-05-09",
         "oglen",
         "Özgürlük Parkı"
        ],
        [
         "36",
         "01069bba-c0ed-4999-8515-22754c3fee3e",
         "2024-05-09",
         "sabah",
         "Özgürlük Parkı"
        ],
        [
         "37",
         "01069bba-c0ed-4999-8515-22754c3fee3e",
         "2024-05-10",
         "aksam",
         "Özgürlük Parkı"
        ],
        [
         "38",
         "01069bba-c0ed-4999-8515-22754c3fee3e",
         "2024-05-10",
         "gece",
         "Özgürlük Parkı"
        ],
        [
         "39",
         "01069bba-c0ed-4999-8515-22754c3fee3e",
         "2024-05-10",
         "oglen",
         "Özgürlük Parkı"
        ],
        [
         "40",
         "01069bba-c0ed-4999-8515-22754c3fee3e",
         "2024-05-10",
         "sabah",
         "Özgürlük Parkı"
        ],
        [
         "41",
         "01069bba-c0ed-4999-8515-22754c3fee3e",
         "2024-05-11",
         "aksam",
         "Özgürlük Parkı"
        ],
        [
         "42",
         "01069bba-c0ed-4999-8515-22754c3fee3e",
         "2024-05-11",
         "gece",
         "Özgürlük Parkı"
        ],
        [
         "43",
         "01069bba-c0ed-4999-8515-22754c3fee3e",
         "2024-05-11",
         "oglen",
         "Özgürlük Parkı"
        ],
        [
         "44",
         "01069bba-c0ed-4999-8515-22754c3fee3e",
         "2024-05-11",
         "sabah",
         "Özgürlük Parkı"
        ],
        [
         "45",
         "01069bba-c0ed-4999-8515-22754c3fee3e",
         "2024-05-12",
         "aksam",
         "Özgürlük Parkı"
        ],
        [
         "46",
         "01069bba-c0ed-4999-8515-22754c3fee3e",
         "2024-05-12",
         "gece",
         "Özgürlük Parkı"
        ],
        [
         "47",
         "01069bba-c0ed-4999-8515-22754c3fee3e",
         "2024-05-12",
         "oglen",
         "Balık"
        ],
        [
         "48",
         "01069bba-c0ed-4999-8515-22754c3fee3e",
         "2024-05-12",
         "sabah",
         "Özgürlük Parkı"
        ],
        [
         "49",
         "01069bba-c0ed-4999-8515-22754c3fee3e",
         "2024-05-13",
         "aksam",
         "Özgürlük Parkı"
        ]
       ],
       "shape": {
        "columns": 4,
        "rows": 2969
       }
      },
      "text/html": [
       "<div>\n",
       "<style scoped>\n",
       "    .dataframe tbody tr th:only-of-type {\n",
       "        vertical-align: middle;\n",
       "    }\n",
       "\n",
       "    .dataframe tbody tr th {\n",
       "        vertical-align: top;\n",
       "    }\n",
       "\n",
       "    .dataframe thead th {\n",
       "        text-align: right;\n",
       "    }\n",
       "</style>\n",
       "<table border=\"1\" class=\"dataframe\">\n",
       "  <thead>\n",
       "    <tr style=\"text-align: right;\">\n",
       "      <th></th>\n",
       "      <th>device_aid</th>\n",
       "      <th>date</th>\n",
       "      <th>zaman_bolumu</th>\n",
       "      <th>Place</th>\n",
       "    </tr>\n",
       "  </thead>\n",
       "  <tbody>\n",
       "    <tr>\n",
       "      <th>0</th>\n",
       "      <td>01069bba-c0ed-4999-8515-22754c3fee3e</td>\n",
       "      <td>2024-05-24</td>\n",
       "      <td>sabah</td>\n",
       "      <td>BigChefs Suadiye</td>\n",
       "    </tr>\n",
       "    <tr>\n",
       "      <th>1</th>\n",
       "      <td>01069bba-c0ed-4999-8515-22754c3fee3e</td>\n",
       "      <td>2024-05-24</td>\n",
       "      <td>sabah</td>\n",
       "      <td>Kahve Dünyası - Bağdat Caddesi Beyaz Köşk</td>\n",
       "    </tr>\n",
       "    <tr>\n",
       "      <th>2</th>\n",
       "      <td>01069bba-c0ed-4999-8515-22754c3fee3e</td>\n",
       "      <td>2024-05-24</td>\n",
       "      <td>sabah</td>\n",
       "      <td>İspark İçerenköy Açık Otoparkı</td>\n",
       "    </tr>\n",
       "    <tr>\n",
       "      <th>3</th>\n",
       "      <td>01069bba-c0ed-4999-8515-22754c3fee3e</td>\n",
       "      <td>2024-05-24</td>\n",
       "      <td>sabah</td>\n",
       "      <td>Caribou Coffee</td>\n",
       "    </tr>\n",
       "    <tr>\n",
       "      <th>4</th>\n",
       "      <td>01069bba-c0ed-4999-8515-22754c3fee3e</td>\n",
       "      <td>2024-05-24</td>\n",
       "      <td>sabah</td>\n",
       "      <td>Balık</td>\n",
       "    </tr>\n",
       "    <tr>\n",
       "      <th>...</th>\n",
       "      <td>...</td>\n",
       "      <td>...</td>\n",
       "      <td>...</td>\n",
       "      <td>...</td>\n",
       "    </tr>\n",
       "    <tr>\n",
       "      <th>2964</th>\n",
       "      <td>fa697609-b068-4af2-8d7d-c3cc53fb128a</td>\n",
       "      <td>2024-05-24</td>\n",
       "      <td>oglen</td>\n",
       "      <td>Leman Kaya İlkokulu</td>\n",
       "    </tr>\n",
       "    <tr>\n",
       "      <th>2965</th>\n",
       "      <td>fa697609-b068-4af2-8d7d-c3cc53fb128a</td>\n",
       "      <td>2024-05-24</td>\n",
       "      <td>sabah</td>\n",
       "      <td>Bostanci Lunapark</td>\n",
       "    </tr>\n",
       "    <tr>\n",
       "      <th>2966</th>\n",
       "      <td>fa697609-b068-4af2-8d7d-c3cc53fb128a</td>\n",
       "      <td>2024-05-23</td>\n",
       "      <td>oglen</td>\n",
       "      <td>Clubsporium Halı Saha</td>\n",
       "    </tr>\n",
       "    <tr>\n",
       "      <th>2967</th>\n",
       "      <td>fa697609-b068-4af2-8d7d-c3cc53fb128a</td>\n",
       "      <td>2024-05-24</td>\n",
       "      <td>oglen</td>\n",
       "      <td>Clubsporium Halı Saha</td>\n",
       "    </tr>\n",
       "    <tr>\n",
       "      <th>2968</th>\n",
       "      <td>fa697609-b068-4af2-8d7d-c3cc53fb128a</td>\n",
       "      <td>2024-05-23</td>\n",
       "      <td>oglen</td>\n",
       "      <td>Tatar Ağası Camii</td>\n",
       "    </tr>\n",
       "  </tbody>\n",
       "</table>\n",
       "<p>2969 rows × 4 columns</p>\n",
       "</div>"
      ],
      "text/plain": [
       "                                device_aid        date zaman_bolumu  \\\n",
       "0     01069bba-c0ed-4999-8515-22754c3fee3e  2024-05-24        sabah   \n",
       "1     01069bba-c0ed-4999-8515-22754c3fee3e  2024-05-24        sabah   \n",
       "2     01069bba-c0ed-4999-8515-22754c3fee3e  2024-05-24        sabah   \n",
       "3     01069bba-c0ed-4999-8515-22754c3fee3e  2024-05-24        sabah   \n",
       "4     01069bba-c0ed-4999-8515-22754c3fee3e  2024-05-24        sabah   \n",
       "...                                    ...         ...          ...   \n",
       "2964  fa697609-b068-4af2-8d7d-c3cc53fb128a  2024-05-24        oglen   \n",
       "2965  fa697609-b068-4af2-8d7d-c3cc53fb128a  2024-05-24        sabah   \n",
       "2966  fa697609-b068-4af2-8d7d-c3cc53fb128a  2024-05-23        oglen   \n",
       "2967  fa697609-b068-4af2-8d7d-c3cc53fb128a  2024-05-24        oglen   \n",
       "2968  fa697609-b068-4af2-8d7d-c3cc53fb128a  2024-05-23        oglen   \n",
       "\n",
       "                                          Place  \n",
       "0                              BigChefs Suadiye  \n",
       "1     Kahve Dünyası - Bağdat Caddesi Beyaz Köşk  \n",
       "2                İspark İçerenköy Açık Otoparkı  \n",
       "3                                Caribou Coffee  \n",
       "4                                         Balık  \n",
       "...                                         ...  \n",
       "2964                        Leman Kaya İlkokulu  \n",
       "2965                          Bostanci Lunapark  \n",
       "2966                      Clubsporium Halı Saha  \n",
       "2967                      Clubsporium Halı Saha  \n",
       "2968                          Tatar Ağası Camii  \n",
       "\n",
       "[2969 rows x 4 columns]"
      ]
     },
     "execution_count": 2,
     "metadata": {},
     "output_type": "execute_result"
    }
   ],
   "source": [
    "data = pd.read_csv('id-date-zaman_bolumu-place.csv')\n",
    "data"
   ]
  },
  {
   "cell_type": "code",
   "execution_count": 3,
   "id": "e6903062",
   "metadata": {},
   "outputs": [
    {
     "name": "stdout",
     "output_type": "stream",
     "text": [
      "['BigChefs Suadiye' 'Kahve Dünyası - Bağdat Caddesi Beyaz Köşk'\n",
      " 'İspark İçerenköy Açık Otoparkı' 'Caribou Coffee' 'Balık'\n",
      " 'Özgürlük Parkı' 'Ataşehir Organik Cafe' 'Migros' 'Açık Otopark' 'Büfe'\n",
      " 'Huzur Hoca Parkı' 'Muayenehane' 'Akbank' 'İETT Anadolu Garajı'\n",
      " 'İstanbul Darülaceze' 'Yeditepe Üniversitesi' 'Kozyatağı Köprüsü'\n",
      " 'Mozaik Çarşı' 'Özkuruşlar' '80. Yıl Cumhuriyet Parkı'\n",
      " 'Uphill Court Ataşehir' '15 Temmuz Şehitler Köprüsü'\n",
      " 'Göztepe 60. Yıl Parkı' 'Gül Bahçesi'\n",
      " 'Yeditepe Üniversitesi Kozyatağı Hastanesi'\n",
      " 'Fatih Sultan Mehmet Eğitim ve Araştırma Hastanesi' 'Çınar Parkı'\n",
      " 'Geleneksel Meyhane' 'Avni Akyol Güzel Sanatlar ve Spor Lisesi'\n",
      " 'Erenköy Ruh ve Sinir Hastalıkları Eğitim ve Araştırma Hastanesi'\n",
      " 'Kadıköy Belediyesi Ek Hizmet Biansı'\n",
      " 'Ataşehir 100. Yıl Cumhuriyet Anadolu Lisesi' 'İspark'\n",
      " 'İspark Kadıköy Metro 2 Açık Otoparkı' \"d'Orient | Kadıköy\"\n",
      " 'Ülker Stadyumu' 'Müjdat Gezen Sanat Merkezi' 'Marmara Üniversitesi'\n",
      " 'Göztepe Prof. Dr. Süleyman Yalçın Şehir Hastanesi'\n",
      " 'Faik Reşit Unat Ortaokulu'\n",
      " 'Erenköy Fizik Tedavi ve Reahabilitasyon Hastanesi'\n",
      " 'Göztepe Mesleki ve Teknik Anadolu Lisesi' 'Dumlupınar Parkı'\n",
      " 'ANAKENT ORTAOKULU, ANAKENT KOLEJİ, ANAKENT ANAOKULU, ANAKENT İLKOKULU'\n",
      " 'Sahrayı Cedid Camii' 'Semiha Şakir İlkokulu' \"Robert's Coffee\"\n",
      " 'Defne Parkı' 'Sare Selahattin Uzal İlkokulu'\n",
      " 'Fabrika Aygıtları Sistem Teknolojisi A.Ş. (F.A.S.T.)'\n",
      " 'Mehmet Rüştü Aşıkkutlu Camii' 'DÜŞLER ŞATOSU ANAOKULU'\n",
      " 'Türkiye İş Bankası' 'İETT Kadıköy Peronları' 'Ziraat Bankası'\n",
      " 'Vakıfbank' 'Parktürk Söğütlüçeşme Kadıköy'\n",
      " 'İETT Uzunçayır Metrobüs Peronları' 'Göztepe Köprüsü'\n",
      " 'Medical Park Göztepe' 'Gloria Jeans' 'Aşık Veysel Parkı' 'Andromeda AVM'\n",
      " 'Meşe Adası' 'İstanbul Adası' 'Modern Pub & Bistro' 'Mimar Sinan Parkı'\n",
      " 'Anadolu Adası' 'İMES Köprüsü' 'İETT Harem Peronları' 'Harem Peronları'\n",
      " 'Haydarpaşa Numune Eğitim ve Araştırma Hastanesi'\n",
      " 'SBÜ Sultan Abdülhamid Han Eğitim ve Araştırma Hastanesi' 'Bahar Parkı'\n",
      " 'koşuyolu parkı' 'Acıbadem Köprüsü' 'Atıfbey Parkı' 'Açelya Park'\n",
      " 'Esatpaşa Parkı' 'Çeşmeli Parkı' 'Şehit Cengiz Hasbal Ortaokulu'\n",
      " 'Esatpaşa Anadolu İmam Hatip Lisesi' 'Volkan Tekel'\n",
      " 'Bellona Yetkili Servisi' '30 Ağustos Mesleki ve Teknik Anadolu Lisesi'\n",
      " 'Selimiye Parkı' 'Harem Otogarı' 'Öğretmenler Parkı'\n",
      " 'Türkkan Sabancı Görme Engelliler İlkokulu'\n",
      " 'İspark Acıbadem Açık Otoparkı' 'Tekne-Event Hall-Catering'\n",
      " 'Uğur Okulları Atakent Ümraniye Kampüsü' 'HZ. Hamza Camii' 'Çakmak Parkı'\n",
      " 'İspark Şemsipaşa Açık Otoparkı' 'Çetinkaya' 'Çinili Polis Karakolu'\n",
      " 'Vakıfbank Bağlarbaşı Spor Sarayı' 'Altunizade Köprüsü' 'Millet Parkı'\n",
      " 'Kısıklı Emniyet Müdürlüğü' 'Kısıklı Parkı'\n",
      " 'Çamlıca Şehit Ensar Ayanoğlu İlkokulu'\n",
      " 'Ümraniye Metro Minibüs Durakları' 'Doktor Sadık Ahmet Parkı'\n",
      " 'Atakent Doğa Koleji' 'Üsküdar Sınav Koleji' 'Papatya Parkı'\n",
      " 'Caddebostan Sahil Parkı' 'Dalyan Parkı' '50. Yıl Tahran Anadolu Lisesi'\n",
      " 'Veni Vidi Göz' 'Pub & Bistro & Kokteyl Bar'\n",
      " 'Mustafa Mihriban Boysan Ortaokulu'\n",
      " 'Kirpiks Beauty (Bağdat Caddesi, İstanbul)' 'Starbucks' 'Galip Paşa Cami'\n",
      " 'Kadıköy İlçe Emniyet Müdürlüğü' 'Ataşehir Memorial Hastanesi' 'İSPARK'\n",
      " 'Bahçeşehir Koleji Ataşehir Kampüsü' 'TEB Ataşehir Anadolu Lisesi'\n",
      " 'Fesleğen Parkı' 'Dilek Sabancı Mesleki ve Teknik Anadolu Lisesi' 'Bof'\n",
      " 'Bahçeşehir Koleji Çamlıca Kampüsü' 'Tchibo' '23 Nisan Parkı' 'Doga Park'\n",
      " 'Arapgirli Hüseyin Avni Efendi Cami' 'Şener Birsöz İlkokulu' 'Spora'\n",
      " 'Meet Lab Coffee' 'Paidar Parki' 'Yazgülü Parkı'\n",
      " 'Mehmet Rauf Anadolu Lisesi' 'Valide-i Atik Hamamı' 'Filizler Köftecisi'\n",
      " 'Halil Rüştü İlkokulu' 'Hacıbaba Parkı' 'Üsküdar İlçe emniyet müdürlüğü'\n",
      " 'Paşalimanı Parkı' 'Nakkaştepe Millet Bahçesi'\n",
      " 'Ümraniye 15 Temmuz Şehitler Meydanı' 'Salı Pazarı' 'Open Servis'\n",
      " 'içerenköy parkı' 'Yahya Kemal Beyatlı Ortaokulu' 'Dut Ağacı Parkı'\n",
      " 'Ataşehir Kız Anadolu İmam Hatip Lisesi' 'Mustafa Efendi Camii'\n",
      " 'Denizatı Anadolu Lisesi' 'Ekin Parkı' 'QNB Finansbank' 'Coffeenutz'\n",
      " 'Deniz Gezmiş Parkı' 'Gece Kulübü' 'Söğütlüçeşme (Metrobüs)'\n",
      " 'Şehit Sinan Gümüştaş Parkı' 'Okan Koleji'\n",
      " 'Acıbadem Üniversitesi Kerem Aydınlar Yerleşkesi' 'Marriott'\n",
      " 'Cemile Besler İlkokulu' 'Ataşehir Kent Parkı' 'Selman-i Farasi Camii'\n",
      " 'Şuca Ahmet Paşa Cami' 'Kebap' 'Faik Bey Cami'\n",
      " 'PTT 150.Yıl Anadolu Yakası Posta İşleme Merkezi' 'Libadiye Parkı'\n",
      " 'Gazi Mustafa Kemal Paşa Ortaokulu' 'Coffy' 'Espressolab Bostancı'\n",
      " 'Kanuni Sultan Süleyman İlkokulu' 'Ertruğrul Adası'\n",
      " 'Toki Madenler Mevlana İlkokulu' 'Hayvan Hastanesi'\n",
      " 'The Hera Platinum Hotel' 'Sahrayıcedit Park' 'Brandium AVM'\n",
      " 'Anabilim Ataşehir Kampüsü (Fen Teknoloji Lisesi ve Anadolu Lisesi)'\n",
      " 'Şeyh Şamil Mesleki ve Teknik Anadolu Lisesi'\n",
      " 'İstanbul Medeniyet Üniversitesi Güney Yerleşkesi'\n",
      " 'Aydın Doğan Güzel Sanatlar Lisesi'\n",
      " 'Ataşehir Mustafa Saffet Kültür Merkezi'\n",
      " 'Ataşehir Doğuş Spor Kulübü Emre İncemollaoğlu Tesisleri'\n",
      " 'Mustafa Kemal Anadolu Lisesi' 'Batı Ataşehir Peronlar' 'Berrak Parkı'\n",
      " 'Tırnak Butik (Ataşehir, İstanbul)' 'Aybike Parkı'\n",
      " 'Sağlık Bilimleri Üniversitesi Hamidiye Yerleşkesi'\n",
      " 'Dr. Siyami Ersek Göğüs Kalp ve Damar Cerrahisi Eğitim ve Araştırma Hastanesi'\n",
      " 'Balık Ye'\n",
      " 'Başkent Üniversitesi İstanbul Sağlık Uygulama ve Araştırma Merkezi Hastanesi'\n",
      " 'Mercure Istanbul Altunizade' 'Kalamış Parkı' 'Setur Kalamış Marina'\n",
      " 'Fenerbahçe Spor Kulübü Dereağzı Tesisleri' 'Coffeemania' 'Prestij'\n",
      " 'İstanbul Atatürk Fen Lisesi' \"Gloria Jean's Coffees Marmara University\"\n",
      " 'Kahve Dünyası - Ziverbey' 'Brew Crew Coffee'\n",
      " 'göztepe ağız ve diş sağlığı merkezi' 'Leylak Parkı'\n",
      " 'göztepe echomar hastanesi' 'Hasanpaşa Camii' 'Mehtap Bülbül Parkı'\n",
      " 'digitALL - Digital Marketing Agency' 'Söğütlüçeşme Hamamı'\n",
      " 'Tepe Nautilus Alışveriş Merkezi' 'Kadıköy Belediyesi'\n",
      " 'Kadıköy İftaiyesi' 'Kemal Sunal Parkı' 'Ihsaniye Camii'\n",
      " 'Tunçludemir Plaza' 'Bayraktar Yeni Camii' 'Ali Fuat Cebesoy Ortaokulu'\n",
      " 'Renault Tepretoğulları' 'Medipol' 'Erdem Parkı'\n",
      " 'Yaman Dede İmam Hatip Ortaokulu' 'Abdullah Bey Camii'\n",
      " 'Alvarlızade Camii' 'Tchibo Coffee To Go'\n",
      " 'Bahçeşehir Koleji Nakkaştepe 50. Yıl Kampüsü' 'Ev Hayvanı Satış Yeri'\n",
      " 'Tchibo Canpark AVM' 'Çamlıca Kız Anadolu Lisesi' '30 Ağustos İlkokulu'\n",
      " 'Antaş Hipermarketleri' 'Bilfen Çamlıca İlkokulu'\n",
      " 'Şehit Erol İnce Kız Anadolu İmam Hatip Lisesi' 'Ali Vercetti Parkı'\n",
      " 'Bilfen Esenşehir İlköğretim Okulu'\n",
      " '75.Yıl Cumhuriyet Mesleki ve Teknik Anadolu Lisesi'\n",
      " 'Beşiktaş Nevzat Demir Tesisleri' 'Moda İlköğretim Okulu'\n",
      " 'Fine Dining (D.Mutf-Şar.Evi)' 'İspark Eski Salı Pazarı Otoparkı'\n",
      " 'Büyük Çamlıca Camii' 'Kuleli Parkı' 'Haldun Taner Sahnesi'\n",
      " 'Doğancılar Parkı' 'Niyazibey' 'Üsküdar Belediyesi' 'Mesut Cafe'\n",
      " 'Ahmediye Cami' 'Kahve Dünyası - Nevçarşı AVM'\n",
      " 'Toygar Hamza Çelebi Camii' 'Sahrayıcedit Korusu' 'Toyota Nataş'\n",
      " 'Tellioğlu Otopark' 'Kazım Karabekir Paşa Müzesi'\n",
      " 'İçerenköy Hasan Leyli İlkokulu' 'meskenler parkı'\n",
      " 'Ataşehir Ve Kadıköy Tapu ve Kadastro Müdürlükleri'\n",
      " 'Palladium Alışveriş Merkezi' 'Tchibo Kahve Mamulleri' 'Beyaz Fırın'\n",
      " 'Uğur Okulları Ataşehir Kampüsü' 'Özel Bil Koleji Ataşehir-3 Kampüsü'\n",
      " 'Volkan Arpacı' 'Metin Sabancı Merkezi' 'Fenerbahçe Koleji'\n",
      " 'Ataşehir Köprüsü' 'Nezahat Gökyiğit Botanik Bahçesi Ümraniye Girişi'\n",
      " 'Gezi Parkı' 'Yunus Emre Özel Eğitim İş Uygulama Okulu'\n",
      " 'Ataşehir Golf Club' 'Genç Turizm Dudullu Terminali'\n",
      " 'Selin Beauty Center (Ataşehir, İstanbul)' 'Geleneksel Birahane'\n",
      " 'Bahçeşehir Koleji' 'Yeni Nesil Meyhane' 'Halkbank'\n",
      " 'TÜRKÇİMENTO Mesleki ve Teknik Anadolu Lisesi' 'Şelale Parkı'\n",
      " 'İkbal 1 Parkı' 'Mopaş' 'Kaizen Balo ve Davet Salonu'\n",
      " 'Derya Öncü College' 'Halilürrahman Camii' 'Ümraniye İftaiye İstasyonu'\n",
      " 'Ankastre Center' \"Gloria Jean's-şaşkınbakkal\"\n",
      " 'İSTEK ÖZEL SEMİHA ŞAKİR ANADOLU LİSESİ, İSTEK ÖZEL SEMİHA ŞAKİR OKULLARI İLKOKULU, İSTEK VAKFI SEMİHA ŞAKİR OKULLARI İLKOKULU, İSTEK VAKFI SEMİHA ŞAKİR OKULLARI ANAOKULU, İSTEK VAKFI SEMİHA ŞAKİR OKULLARI ORTAOKULU'\n",
      " 'Göztepe İhsan Kurşunoğlu Anadolu Lisesi' 'Erenköy Kız Lisesi'\n",
      " 'Millî Hakimiyet Parkı' 'Emintaş İş Merkezi' 'Askeri Birlik-Sosyal Tesis'\n",
      " 'İSTEK VAKFI ACIBADEM OKULLARI ORTAOKULU, İSTEK VAKFI ACIBADEM OKULLARI ANAOKULU'\n",
      " 'Beylerbeyi Sarayı Kompleksi' 'Doğuş Üniversitesi Çengelköy Yerleşkesi'\n",
      " 'İstanbul Caddebostan Coffy' 'Şekerevler Parkı' 'METRO'\n",
      " 'Perihan Aktürk Anaokulu' 'Melahat Şefizade Ortaokulu'\n",
      " 'Ataşehir Remzi Bayraktar Mesleki ve Teknik Anadolu Lisesi'\n",
      " 'Taylan Doğuer Kandilli İlkokulu' 'Kandilli Kız Anadolu Lisesi'\n",
      " 'Küçüksu Kasrı Mesire Alanı' 'İstiklal Şehit Lokman Oktay Ortaokulu'\n",
      " 'Hz Ali Camii' 'Turk Telekom-Avea' 'Meyveli Bahçe Cami'\n",
      " 'Fenerbahçe Parkı' 'Setur Fenerbahçe Marina' 'Selamiçeşme Özgürlük Parkı'\n",
      " 'C Bölgesi Trafik Amirliği' 'Final Özel Öğretim Kursu' 'Kılıç'\n",
      " 'Kuşdili Otoparkı' 'Surp Levon' 'Kadıköy Boğa Coffy'\n",
      " 'İspark Söğütlüçeşme Açık Otoparkı' 'Kadim Kahve' 'Behiçe Yazgan Parkı'\n",
      " 'Çamlık Parkı' 'Carrefour Express' 'Selamiçeşme Cami'\n",
      " 'Kaptan Faruk Türker Camii' 'Coffee World - Optimum Istanbul'\n",
      " 'Akşemsettin İlkokulu' 'Çağla Koleji'\n",
      " 'Paşakapısı Kapalı Ceza İnfaz Kurumu' 'Şakirin Cami' 'Mimoza Parkı'\n",
      " 'Üsküdar' 'İrfan Fen Anadolu Lisesi' 'Academic Hospital'\n",
      " 'Özel Nitelikli Umutlu Nesiller Anadolu Lisesi'\n",
      " 'Üsküdar İlkokulu - Ortaokulu' 'Bonjour' 'Ufuk Halısaha'\n",
      " 'Burhaniye Camii' 'Ali Fuat Başgil İmam Hatip Ortaokulu' 'Mini Market'\n",
      " 'Ali Fuat Başgil İlkokulu' 'Emin Hipermarket'\n",
      " 'Hacı Rahime Ulusoy Mesleki ve Teknik Anadolu Lisesi' 'Kokomusti'\n",
      " 'Midpoint' 'Kadıköy Sosyal Yardımlaşma ve Dayanışma Vakfı'\n",
      " 'Çemenzar Camii' 'Habire Yahşi Anadolu Lisesi' 'Karikatür Evi'\n",
      " 'Müze Gazhane' 'Kadıköy Key Koleji' 'Holiday Inn Kadıköy'\n",
      " 'Yeditepe Üniversitesi İhtisas Hastanesi' 'Mihriban Suat Bedük İlkokulu'\n",
      " 'Esatpaşa' 'Esatpaşa Merkez Camii' 'Menekşe Parkı' 'Erdem Hastanesi'\n",
      " 'Beyaz Köşk Çocuk Evi' 'Şehit Öğretmen Hasan Akan İlkokulu' 'Child Park'\n",
      " 'İspark Bostancı İdo Açık Otoparkı 1' 'Leman Kaya İlkokulu'\n",
      " 'Medicana Kadıköy' 'Caribou Coffee Head Office' 'Bağlariçi Camii'\n",
      " 'Sınav Anadolu Lisesi' 'a blok' 'Küçükbakkalköy Merkez Camii'\n",
      " 'Sanat Parkı' 'Yenisahra Merkez Camii'\n",
      " 'Dr. Nureddin - Perihan Erk Anadolu Teknik Lisesi'\n",
      " 'Big Chefs - Palladium AVMŞubesi' 'Acıbadem Ataşehir Cerrahi Tıp Merkezi'\n",
      " 'Yenilikçi Öğrenme Kurumları Ataşehir Yerleşkesi' 'Mustafa Kanat Cami'\n",
      " 'Ata İlkokulu' 'Erguvan Barış Parkı' 'Emp Clinics' 'Rotary Parkı'\n",
      " 'İstanbul Büyükşehir Belediyesi Spor Salonu'\n",
      " 'Barbaros Kapalı Semt Pazarı' 'Zeytinlik Cafe' 'Ata Büfe'\n",
      " 'Ala Makeup Studio + Ala Nail Bar (Ataşehir, İstanbul)' 'Kent Çarşı'\n",
      " 'Özel Bilfen Koleji' 'Acıbadem Ataşehir Hastanesi' 'Kahve Dünyası' 'Cami'\n",
      " 'Kadıköy Belediyesi Geçici Hayvan Bakımevi' 'Ataşehir Parkı'\n",
      " 'Acıbadem Kadıköy Hastanesi' 'Emre İncemollaoğlu Parkı'\n",
      " 'Ümraniye Cumhuriyet Mesleki ve Teknik Anadolu Lisesi'\n",
      " 'Çakmak Polis Merkezi Amirliği' 'Erkut Soyak Anadolu Lisesi'\n",
      " 'Palmiye Evleri Parkı'\n",
      " 'Mahmut Celalettin Ökten Gençlik Kültür Ve Eğitim Merkezi'\n",
      " 'İkbal 2 Parkı' 'Korkmaz Camii' 'Özsaray' 'Gusto'\n",
      " 'Hacı İsmail ve Zehra Alkılıç Camii' 'Yavuz Sultan Selim Parkı'\n",
      " 'Doğa Koleji Acıbadem Kampüsü' 'İSMEK Meslek Edindirme Kursu'\n",
      " 'Marmara Üniversitesi Bağlarbaşı Yerleşkesi' 'Ümraniye Millet Bahçesi'\n",
      " 'Şehit Mete Sertbaş' 'Damalis' 'Sokullu Mehmet Paşa İlkokulu'\n",
      " 'Dostluk Parkı' 'Mahmut Karaca Aile Sağlığı Merkezi' 'Nevmekân Sahil'\n",
      " 'Arabica Coffee House Nev Çarşı' 'Selmanağa Camii' 'Çinili Hamam'\n",
      " 'Sultantepe Ortaokulu' 'Necmettin Öztürk Parkı'\n",
      " 'Hattat İsmail Hakkı İlkokulu' 'Bağlarbaşı Parkı' 'Çınaraltı Parkı'\n",
      " 'Üsküdar University South Campus' 'Beth Yaakov Sinagogu'\n",
      " 'Kuzguncuk Bostanı' 'Kuzguncuk İlköğretim Okulu' 'Yaşam Merkezi'\n",
      " 'Beylerbeyi Camii' 'Cennet Cami'\n",
      " 'İTÜ GELİŞTİRME VAKFI OKULLAR BEYLERBEYİ YERLEŞKESİ BEYLERBEYİ ÖZEL ORTAOKULU, İTÜ GELİŞTİRME VAKFI OKULLAR BEYLERBEYİ YERLEŞKESİ BEYLERBEYİ ÖZEL İLKOKULU, İTÜ GELİŞTİRME VAKFI OKULLAR BEYLERBEYİ YERLEŞKESİ BEYLERBEYİ ÖZEL ANAOKULU'\n",
      " 'Mehmet Çakır Kültür ve Spor Merkezi' 'Maltepe-Küçükyalı Minibüs Durağı'\n",
      " 'Doğuş Üniversitesi Dudullu Yerleşkesi' 'Özel Gökkuşağı Koleji'\n",
      " 'Candy Kids' 'Espressolab Suadiye' 'Sare Şafak Anaokulu' 'sefa hamamı'\n",
      " 'Mehmet Bayazıd Anadolu Lisesi' \"Gloria Jean's\" 'Minibüs Durakları'\n",
      " 'Seçkin Otomotiv' 'Şehit Recep Büyük Parkı'\n",
      " 'Fetih Borsa İstanbul İlkokulu' 'Zeynep Kamil Cami'\n",
      " 'Selin Beauty Center (Acıbadem, İstanbul)' 'Hacı Arif Şimşek Parkı'\n",
      " 'Genç Osman İlkokulu'\n",
      " 'Üsküdar Dış Ticaret Mesleki ve Teknik Anadolu Lisesi'\n",
      " 'Hakkı Demir Anadolu İmam Hatip Lisesi' 'İzzettin Bey Parkı'\n",
      " 'Bostanci Lunapark' 'Clubsporium Halı Saha' 'Club Sporium'\n",
      " 'Öğretmen Harun Reşit İlkokulu' 'Yenisahra Arena' 'Cumhuriyet Parkı'\n",
      " 'Merkez Adası' 'Melike Adıgüzel' 'İnönü İlkokulu'\n",
      " 'Akasya Alışveriş Merkezi' 'Hüseyin Ayaz Ortaokulu' 'Özel Doğa Koleji'\n",
      " 'Şehit Jandarma Er Çağlar Mengü Parkı'\n",
      " 'İçerenköy Halil Atamavcı İlkokulu' 'Özel Atacan Eğitim Kurumları'\n",
      " 'Erenköy Şehit Orhun Göytan İlkokulu'\n",
      " 'Mediha - Turhan Tansel Özel Eğitim Uygulama Okulu'\n",
      " 'Fehmi Ekşioğlu Ortaokulu' 'Onikiler Camii'\n",
      " 'Sevda Şener Sahnesi - Gazometre' 'Espresso Lab' 'Divanev'\n",
      " 'IRMAK ORTAOKULU, IRMAK İLKOKULU, IRMAK CADDEBOSTAN ANAOKULU, IRMAK ANADOLU LİSESİ'\n",
      " 'Irmak Okulları' 'Büyük Kulüp İskele' 'Nurten Ev Yemekleri' 'Büyük Kulüp'\n",
      " 'Kadıköy Florence Nightingale Tıp Merkezi'\n",
      " 'İspark Caddebostan Açık Otoparkı' 'Caffe Nero' 'Gümrük Parkı'\n",
      " 'Doğuş Üniversitesi' 'Huqqabaz' 'Watergarden AVM'\n",
      " 'Ahmet Keleşoğlu Fen Lisesi' 'Bien Seramik' 'Koşuyolu Parkı'\n",
      " 'MBA Okulları' '19 Mayıs Parkı' 'Anadolu Sağlık Ataşehir Tıp Merkezi'\n",
      " 'Atatürk Ortaokulu' 'Capitol Ortaokulu'\n",
      " 'İstanbul Sabahattin Zaim Üniversitesi Altunizade Yerleşkesi'\n",
      " 'Ümraniye Merkez Anadolu Lisesi' 'Kahve Dünyası - Canpark AVM'\n",
      " 'Yamanevler Ortaokulu'\n",
      " 'Haldun Alahaş Şehir Tiyatroları ve Ümraniye Sahnesi' 'Lavazza'\n",
      " 'Hekimbaşı Atık Aktarma Merkezi' 'Ümraniye Kapalı Cezaevi'\n",
      " 'Kids Aloud İngilizce Anaokulu' 'Sütaş'\n",
      " 'Galatasaray SK Taç Spor Tesisleri' 'Profesör Faik Somer Spor Lisesi'\n",
      " 'Halkalı Atık Aktarma Merkezi' 'AsMed' 'Amfili Park' 'Halk Sokak Parkı'\n",
      " 'Suzuki' 'Koşuyolu Parkı Basketbol Sahası'\n",
      " 'Marmara Üniversitesi Güzel Sanatlar Fakültesi' 'Ceviz Ağacı'\n",
      " 'Kahve Dünyası - Koşuyolu' 'Validebağ Taksi Durağı'\n",
      " 'Caddebostan Kültür Merkezi' 'Cup of Joy - Bagdat caddesi'\n",
      " 'Tchibo Caddebostan' 'Starbucks Goztepe Loft'\n",
      " 'Tütüncü Mehmet Efendi Camii' 'Göztepe Mahallesi Muhtarlığı'\n",
      " 'Kadıköy Belediyesi Bahriye Üçok Ekolojik Çocuk Yuvası'\n",
      " 'Starbucks Bostancı Minibüs Yolu' 'Central Hospital'\n",
      " 'Bayındır Hastanesi İçerenköy' 'Kozzy Alışveriş Merkezi'\n",
      " 'Kadıköy Belediyesi Akademi' 'Ahmet Taner Kışlalı Parkı'\n",
      " 'Zübeyde Hanım Parkı' 'Dönerci Ali Usta Ataşehir'\n",
      " 'Nevzad Ayasbeyoğlu Ortaokulu' 'Feridun Paşa Camii' 'DAİKİN'\n",
      " 'Ümran Diş Namıkkemal' 'Namık Kemal Anadolu İmam Hatip Lisesi'\n",
      " 'Ümraniye Verem Savaş Dispanser Bahçesi' 'Medicana'\n",
      " 'Ümraniye Esnaf Odası Mescidi' 'Cevherağa Cami' 'Gamame Camii'\n",
      " 'Trabzon Parkı' 'Kadıköy Erenköy Zihnipaşa Halk Eğitimi Merkezi'\n",
      " 'Zihnipaşa İlkokulu' 'Erenköy Fizik Tedavi ve Rehabilitasyon Hastanesi'\n",
      " 'Coffy Kazasker' 'Buhara Parkı' 'Çeşme Parkı'\n",
      " 'Mazharbey Hüseyin Avni Çeviköz Camii'\n",
      " 'Çamlıca Kız Anadolu İmam Hatip Lisesi'\n",
      " 'Kadıköy Anadolu İmam Hatip Lisesi' 'Bilim Üsküdar'\n",
      " 'İstanbul Site Spor Kulübü' 'Prof Dr Necmettin Erbakan Parkı'\n",
      " 'Şehit Haşim Usta İmam Hatip Ortaokulu'\n",
      " 'Haydarpaşa Mesleki ve Teknik Anadolu Lisesi' 'Bülent Ecevit Parkı'\n",
      " 'Acıbadem Altunizade Hastanesi' 'Barış Manço Parkı'\n",
      " 'Sevinç Koleji Altunizade' 'Divitciler Camii'\n",
      " 'Fatih Sultan Mehmet Vakıf Üniversitesi Üsküdar Yerleşkesi'\n",
      " 'Murat Reis Camii' 'Coffy Ümraniye Merkez' 'Çalıbaba Parkı'\n",
      " 'Nezahat Ahmet Keleşoğlu Ortaokulu' 'Seyhanlar' 'Fıstıkağacı Parkı'\n",
      " 'Ege Menteş Seramik Atölyesi' 'Kadıköy Kuşdili Mezarlığı' 'Mesire Adası'\n",
      " 'III. Selim İlköğretim ve İmam Hatip' 'Kronotrop Ayşeçavuş Suadiye'\n",
      " 'Kozyatağı Şükran Karabelli İlkokulu' 'Akasya Parkı'\n",
      " 'Özel Ataşehir Florence Nightingale Hastanesi'\n",
      " 'Özdemiroğlu İmam Hatip Ortaokulu' 'Kandilli Botanik'\n",
      " 'Özel Acıbadem Okulu Merkez Kampüsü' 'Acıbadem Okulları Çamlıca Kampüsü'\n",
      " 'Beylerbeyi Sabancı Polis Evi' 'Bostancı Atatürk Ortaokulu'\n",
      " 'Şenesenevler Mualla Selcanoğlu Mesleki ve Teknik Anadolu Lisesi'\n",
      " 'Mert Otomotiv Lassa-Bridgestone' 'enza home'\n",
      " 'TDV İslam Araştırmaları Merkezi (İSAM)' 'Çağrıbey Anadolu Lisesi'\n",
      " \"Gloria Jean's Coffees\" 'Ihlamurkuyu Merkez Camii' 'Buyaka AVM'\n",
      " 'MOC MEYDANİSTANBUL' 'IKEA' 'İETT Tepeüstü Peronları'\n",
      " 'Ümraniye Kapalı Yüzme Havuzu' 'Spor Center Halı Saha' 'Kuleli 2 Parkı'\n",
      " 'Moda Sahil Parkı'\n",
      " 'Kadıköy İlçe Milli Emniyet Müdürlüğü Çocuk Büro Amirliği'\n",
      " 'Mevhibe İnönü Kreş ve Çocuk Yuvası'\n",
      " 'Kadıköy Ahmet Sani Gezici Kız Anadolu İmam Hatip Lisesi'\n",
      " 'Emrullah Turanlı İlköğretim Okulu' 'Çağrı Market Müşteri Park Alanı'\n",
      " 'EspressolabŞerifali' 'Minik Dostlar Parkı / Kaşif Kalkavan Parkı'\n",
      " 'Semsipaşa İlkokulu' \"Gloria Jean's Coffees Ümraniye\" 'Shell Select'\n",
      " 'Hasan Hüseyin Şentürk Camii' 'Bostancı Deniz Otobüsü İskelesi'\n",
      " 'Tatar Ağası Camii']\n",
      "612\n"
     ]
    }
   ],
   "source": [
    "places = data[\"Place\"].unique()\n",
    "print(places)\n",
    "print(len(places))"
   ]
  },
  {
   "cell_type": "code",
   "execution_count": 4,
   "id": "cd197ea4",
   "metadata": {},
   "outputs": [
    {
     "name": "stdout",
     "output_type": "stream",
     "text": [
      "Arabica Coffee House Nev Çarşı\n",
      "Arabicano Coffee\n",
      "Best Coffee Shop Lavazza\n",
      "Big Chef kahvaltı deniz manzaralı\n",
      "Big Chefs - Capitol AVMŞubesi\n",
      "Big Chefs - Moda TerasŞubesi\n",
      "Big Chefs - Palladium AVMŞubesi\n",
      "Big Chefs - Tepe NautilusŞubesi\n",
      "Big Chefs -İstanbul Watergarden AVMŞubesi\n",
      "Big Chefs -Şerifali QuattroŞubesi\n",
      "BigChefs\n",
      "BigChefs Emaar Square Mall\n",
      "BigChefs Fenerbahçe\n",
      "BigChefs Suadiye\n",
      "Brew Crew Coffee\n",
      "Cafe nero\n",
      "Caffe Nero\n",
      "Caribou Coffee\n",
      "Caribou Coffee And Plaza\n",
      "Caribou Coffee Head Office\n",
      "Caribou Coffee Kalamış By Kököz\n",
      "CARİBOU COFFEE METROGARDEN AVM\n",
      "Coffee Beans\n",
      "Coffee LAB Caddebostan\n",
      "Coffee Sapiens Caddebostan\n",
      "Coffee Truck\n",
      "Coffee World - Optimum Istanbul\n",
      "Coffeemania\n",
      "Coffeemania Next | Metrogarden\n",
      "Cup of Joy - Bagdat caddesi\n",
      "Espresso Lab\n",
      "Espressolab\n",
      "Espressolab Acıbadem\n",
      "Espressolab Ataşehir Golfclub\n",
      "Espressolab Bağdat Caddesi\n",
      "Espressolab Bostancı\n",
      "Espressolab Caddebostan\n",
      "Espressolab Çengelköy\n",
      "Espressolab Çiftehavuzlar\n",
      "Espressolab Erenköy\n",
      "Espressolab Erenköy Ethemefendi\n",
      "Espressolab Fikirtepe\n",
      "Espressolab Kadıköy\n",
      "Espressolab Kadıköy Moda\n",
      "Espressolab Koşuyolu\n",
      "Espressolab Kozyatağı\n",
      "Espressolab Nato Yolu\n",
      "Espressolab Nev Çarşı Üsküdar\n",
      "Espressolab Sahrayıcedit\n",
      "Espressolab Suadiye\n",
      "Espressolab Ümraniye Alemdağ\n",
      "Espressolab Üsküdar Gastronomi\n",
      "Espressolab Üsküdarİcadiye\n",
      "Espressolab Watergarden AVM\n",
      "EspressolabŞerifali\n",
      "Gloria Jeans\n",
      "Gloria Jean's\n",
      "Gloria Jeans Coffee Fikirtepe\n",
      "Gloria Jean's Coffees\n",
      "Gloria Jeans Coffees Emaar\n",
      "Gloria Jean's Coffees Idealist Park\n",
      "Gloria Jean's Coffees Marmara University\n",
      "Gloria Jean's Coffees Sahrayicedit\n",
      "Gloria Jean's Coffees Ümraniye\n",
      "Gloria Jean's-şaşkınbakkal\n",
      "Kahve Dünyası\n",
      "Kahve Dünyası - Acıbadem\n",
      "Kahve Dünyası - Akasya Acıbadem AVM\n",
      "Kahve Dünyası - Ataşehir WaterGarden\n",
      "Kahve Dünyası - Bağdat Caddesi Beyaz Köşk\n",
      "Kahve Dünyası - Bostancı\n",
      "Kahve Dünyası - Buyaka AVM\n",
      "Kahve Dünyası - Caddebostan\n",
      "Kahve Dünyası - Canpark AVM\n",
      "Kahve Dünyası - Emaar Square AVM\n",
      "Kahve Dünyası - Göztepe\n",
      "Kahve Dünyası - Kadıköy Çarşı\n",
      "Kahve Dünyası - Koşuyolu\n",
      "Kahve Dünyası - Meydan AVM\n",
      "Kahve Dünyası - Moda\n",
      "Kahve Dünyası - Nevçarşı AVM\n",
      "Kahve Dünyası - Palladium Ataşehir\n",
      "Kahve Dünyası - Suadiye\n",
      "Kahve Dünyası - Ziverbey\n",
      "Kahve Dünyası Algötür - Caddebostan\n",
      "Kahve Dünyası Algötür - Capitol AVM\n",
      "Kahve Dünyası Algötür - Kadıköy Vapurİskelesi\n",
      "Kronotrop\n",
      "Kronotrop Ayşeçavuş Suadiye\n",
      "Kronotrop Caddebostan Grove\n",
      "Kronotrop Emaar Square\n",
      "Kronotrop Feneryolu Eatery\n",
      "Kronotrop Moda\n",
      "Kronotrop Moda Eatery\n",
      "Lavazza\n",
      "Lavazza Best Coffee Shop\n",
      "Lavazza Çengelköy\n",
      "lavazza huawei\n",
      "Meet Coffee Lab\n",
      "Meet Lab Coffee\n",
      "MOC MEYDANİSTANBUL\n",
      "MOC Üsküdar\n",
      "Robert's Coffee\n",
      "Robert's Coffee Ataşehir\n",
      "Robert's Coffee Genel Müdürlük\n",
      "Starbucks\n",
      "Starbucks Bostancı Minibüs Yolu\n",
      "Starbucks Goztepe Loft\n",
      "Tchibo\n",
      "Tchibo Buyaka AVM\n",
      "Tchibo Caddebostan\n",
      "Tchibo Canpark AVM\n",
      "Tchibo Coffee To Go\n",
      "Tchibo Kadıköy\n",
      "Tchibo Kadıköy Bahariye\n",
      "Tchibo Kahve Mamulleri\n",
      "Tchibo Koşuyolu\n",
      "Tchibo Kozzy AVM\n",
      "Tchibo My Office\n",
      "Tchibo Palladium AVM\n",
      "Tchibo Tepe Nautilus\n",
      "The House Cafe Emaar\n",
      "Coffy\n",
      "Coffy Kadikoy\n",
      "Coffy Kazasker\n",
      "Coffy Ümraniye Madenler\n",
      "Coffy Ümraniye Merkez\n",
      "Halitağa Coffy\n",
      "İstanbul Bahariye Coffy\n",
      "İstanbul Caddebostan Coffy\n",
      "Kadıköy Boğa Coffy\n",
      "Kadıköy Moda Coffy\n",
      "Üsküdar Coffy\n"
     ]
    }
   ],
   "source": [
    "# Kategorizasyon için Kafe isimlerini alıyoruz, diğer kategorizasyonlar bir alttaki hücrede\n",
    "\n",
    "# CSV dosyasını oku\n",
    "df_kahve = pd.read_csv('Kahve_New.csv')\n",
    "\n",
    "# Kafe isimlerinin bulunduğu sütunun adını değiştirin (ör: 'Kafe İsmi')\n",
    "kafe_sutun_adi = 'isim'\n",
    "\n",
    "# Benzersiz kafe isimlerini al\n",
    "unique_kafeler = df_kahve[kafe_sutun_adi].dropna().unique()\n",
    "\n",
    "# Sonuçları yazdır\n",
    "for kafe in unique_kafeler:\n",
    "    print(kafe)\n",
    "\n",
    "del df_kahve\n",
    "del kafe_sutun_adi"
   ]
  },
  {
   "cell_type": "code",
   "execution_count": 5,
   "id": "d7814519",
   "metadata": {},
   "outputs": [],
   "source": [
    "#Bu Python kodu, listelediğiniz “places” değişkenindeki mekân adlarını belirttiğiniz kurallara göre başlıca\n",
    "#kategorilere (Hastane, Otopark, Park, Banka, Cami, Okul, Restoran, Veteriner ve Diğer) ayırır\n",
    "\n",
    "# Define categories and keywords\n",
    "hospital_keywords = ['hastane', 'hastanesi', 'medicana', 'hospital', 'clinic', 'klinik', 'sağlık', 'saglik', 'tıp merkezi', 'tip merkezi', 'tıp hastanesi', 'tip hastanesi']\n",
    "parking_keywords = ['otoparkı', 'otoparki', 'otopark']\n",
    "park_keywords = ['parkı', 'parki', 'park', 'bahçe', 'bahce', 'bahcesi', 'koru', 'korusu', 'orman', 'ormanlık', 'doğa parkı', 'dogaparki', 'doğa parkı', 'dogaparki', 'rekreasyon alanı', 'rekreasyon alanı', 'piknik', 'mesire', 'mesire alanı']\n",
    "bank_keywords = ['banka', 'bankası', 'bankasi', 'bank']\n",
    "mosque_keywords = ['cami', 'camii', 'camisi', 'camiisi']\n",
    "school_keywords = ['lise', 'ilkokul', 'ortaokul', 'anaokulu', 'okul', 'kolej', 'üniversite', 'üniversitesi', 'universite', 'üniversitesi', 'okulu', 'okulu']\n",
    "cafe_keywords = ['kafe', 'cafe', 'kahve', 'çay', 'çay bahçesi', 'çaybahçesi']\n",
    "market_keywords = ['market', 'bim', 'a101', 'migros', 'carrefour', 'şok', 'çarşı', 'pazar', 'özkuruşlar', 'seramik']\n",
    "transport_keywords = ['yol', 'cadde', 'sokak', 'bulvar', 'avenue', 'street', 'avenue', 'boulevard', \"köprü\", \"köprüsü\", 'garaj', 'terminal', 'otogar', 'peron', 'metro', 'tramvay', 'otobüs', 'otobus', 'dolmuş', 'dolmus', 'minibüs', 'minibus', 'taksi', 'taksi durağı', 'taksi duragi', 'metrobüs', 'metrobus']\n",
    "kamu_keywords = ['belediye', 'polis', 'emniyet', 'kaymakamlık']\n",
    "museum_keywords = ['müze', 'museum', 'sanat galerisi', 'sanat galerisi', 'galeri', 'sergi salonu', 'sanat', 'art']\n",
    "mall_keywords = ['alışveriş merkezi', 'alisveris merkezi', 'shopping mall', 'shopping center', 'outlet', 'outlet center', 'avmler', 'avm']\n",
    "sport_keywords = ['spor salonu', 'fitness', 'gym', 'spor merkezi', 'spor kompleksi', 'spor tesisi', 'spor alanı', 'spor alanı', 'stadium', 'stad', 'stadyum', 'spor']\n",
    "\n",
    "ickili_list = [\n",
    "    'Modern Pub & Bistro', 'Geleneksel Meyhane', 'Yeni Nesil Meyhane', 'Pub & Bistro & Kokteyl Bar', 'Gece Kulübü',\n",
    "    'Tekne-Event Hall-Catering', 'Geleneksel Birahane'\n",
    "]\n",
    "\n",
    "restaurant_list = [\n",
    "    'Kebap', 'Balık', 'Fine Dining (D.Mutf-Şar.Evi)','Askeri Birlik-Sosyal Tesis',\n",
    "]\n",
    "\n",
    "veterinary_list = ['Muayenehane', 'Ev Hayvanı Satış Yeri', 'Hayvan Hastanesi']\n",
    "cafe_list = unique_kafeler.tolist()\n",
    "\n",
    "# Function to categorize a single place\n",
    "\n",
    "def categorize(place):\n",
    "    name_lower = place.lower()\n",
    "\n",
    "    # Hospital\n",
    "    if any(keyword in name_lower for keyword in hospital_keywords):\n",
    "        return 'Hastane'\n",
    "\n",
    "    # Parking (check before park)\n",
    "    if any(keyword in name_lower for keyword in parking_keywords):\n",
    "        return 'Otopark'\n",
    "\n",
    "    # Park\n",
    "    if any(keyword in name_lower for keyword in park_keywords):\n",
    "        return 'Park'\n",
    "\n",
    "    # Bank\n",
    "    if any(keyword in name_lower for keyword in bank_keywords):\n",
    "        return 'Banka'\n",
    "\n",
    "    # Mosque\n",
    "    if any(keyword in name_lower for keyword in mosque_keywords):\n",
    "        return 'Cami'\n",
    "\n",
    "    # School\n",
    "    if any(keyword in name_lower for keyword in school_keywords):\n",
    "        return 'Okul'\n",
    "    \n",
    "    # Market\n",
    "    if any(keyword in name_lower for keyword in market_keywords):\n",
    "        return 'Market'\n",
    "    \n",
    "    # Transport\n",
    "    if any(keyword in name_lower for keyword in transport_keywords):\n",
    "        return 'Ulaşım'\n",
    "    \n",
    "    # Kamu\n",
    "    if any(keyword in name_lower for keyword in kamu_keywords):\n",
    "        return 'Kamu Kurumu'\n",
    "    \n",
    "    # Museum\n",
    "    if any(keyword in name_lower for keyword in museum_keywords):\n",
    "        return 'Müze'\n",
    "    \n",
    "    # Mall\n",
    "    if any(keyword in name_lower for keyword in mall_keywords):\n",
    "        return 'Alışveriş Merkezi'\n",
    "\n",
    "    # Restaurant\n",
    "    if place in restaurant_list:\n",
    "        return 'Restoran'\n",
    "    \n",
    "    # İçkili Mekanlar\n",
    "    if place in ickili_list:\n",
    "        return 'İçkili Mekan'\n",
    "\n",
    "    # Veterinary\n",
    "    if place in veterinary_list:\n",
    "        return 'Veteriner'\n",
    "    \n",
    "    # Veterinary\n",
    "    if place in cafe_list or any(keyword in name_lower for keyword in cafe_keywords):\n",
    "        return 'Kafe'\n",
    "\n",
    "    return 'Diğer'\n",
    "\n",
    "# Build dictionary\n",
    "categorized = {place: categorize(place) for place in places}"
   ]
  },
  {
   "cell_type": "code",
   "execution_count": 6,
   "id": "2c8fcf64",
   "metadata": {},
   "outputs": [],
   "source": [
    "data['Place Category'] = data['Place'].apply(categorize)"
   ]
  },
  {
   "cell_type": "code",
   "execution_count": 7,
   "id": "24572250",
   "metadata": {},
   "outputs": [
    {
     "data": {
      "text/plain": [
       "array(['Kafe', 'Ulaşım', 'Otopark', 'Restoran', 'Park', 'Market', 'Diğer',\n",
       "       'Veteriner', 'Banka', 'Okul', 'Hastane', 'İçkili Mekan',\n",
       "       'Kamu Kurumu', 'Müze', 'Cami', 'Alışveriş Merkezi'], dtype=object)"
      ]
     },
     "execution_count": 7,
     "metadata": {},
     "output_type": "execute_result"
    }
   ],
   "source": [
    "data['Place Category'].unique()"
   ]
  },
  {
   "cell_type": "code",
   "execution_count": 8,
   "id": "5df02ef4",
   "metadata": {},
   "outputs": [
    {
     "data": {
      "application/vnd.microsoft.datawrangler.viewer.v0+json": {
       "columns": [
        {
         "name": "device_aid",
         "rawType": "object",
         "type": "string"
        },
        {
         "name": "aksam",
         "rawType": "int64",
         "type": "integer"
        },
        {
         "name": "gece",
         "rawType": "int64",
         "type": "integer"
        },
        {
         "name": "oglen",
         "rawType": "int64",
         "type": "integer"
        },
        {
         "name": "sabah",
         "rawType": "int64",
         "type": "integer"
        }
       ],
       "ref": "d175d5dd-2aed-44eb-81dc-ee1df4e26e07",
       "rows": [
        [
         "01069bba-c0ed-4999-8515-22754c3fee3e",
         "46",
         "49",
         "49",
         "51"
        ],
        [
         "02712699-4a57-400b-a04a-d39bd5c8eba1",
         "0",
         "0",
         "8",
         "12"
        ],
        [
         "02d49c46-cfba-4bfb-9a46-5fa417c4ac6e",
         "32",
         "14",
         "50",
         "55"
        ],
        [
         "05e5adce-840a-430c-81d7-22a7ca96f534",
         "0",
         "0",
         "4",
         "12"
        ],
        [
         "0773956e-e6f8-459e-961f-ec1470c80462",
         "0",
         "0",
         "2",
         "9"
        ],
        [
         "0b6f7672-c2e9-4a3b-a157-5d84a2bfb2f5",
         "9",
         "9",
         "9",
         "9"
        ],
        [
         "0ed30dd7-671b-468f-9047-11ab8016ca9f",
         "0",
         "0",
         "1",
         "1"
        ],
        [
         "0fae98ed-dbc3-464c-aa49-11cf57bf5089",
         "12",
         "8",
         "9",
         "18"
        ],
        [
         "103d9479-f7fe-40cc-bb2c-7be268b97ef8",
         "3",
         "5",
         "11",
         "5"
        ],
        [
         "152c006d-1cd2-4214-bede-dbef40600b31",
         "0",
         "1",
         "2",
         "1"
        ],
        [
         "16e1ec7f-01be-685d-21ef-0091fa1d7e3a",
         "1",
         "2",
         "1",
         "2"
        ],
        [
         "18d6db6c-c0a3-49b1-bbde-09942dba4969",
         "3",
         "0",
         "6",
         "0"
        ],
        [
         "18d82eca-a739-4a3d-9adc-661ebcc531ee",
         "11",
         "10",
         "18",
         "11"
        ],
        [
         "1c5be4ec-3c19-4335-bf49-b9d4b2b8c482",
         "0",
         "0",
         "3",
         "1"
        ],
        [
         "1fc9f45f-8b40-48fa-9ee3-8efb1d166b4c",
         "11",
         "10",
         "10",
         "12"
        ],
        [
         "27a09610-3cbd-4425-8cc0-e30f9217f6c8",
         "4",
         "9",
         "13",
         "5"
        ],
        [
         "2831b99e-0d44-4220-a92b-14d11899ee36",
         "1",
         "0",
         "3",
         "1"
        ],
        [
         "296a2694-fce6-41c0-a6f9-822def29d9b1",
         "2",
         "2",
         "2",
         "5"
        ],
        [
         "29d09d1a-6346-4c36-b1b1-e77fb8e9afe8",
         "0",
         "3",
         "9",
         "6"
        ],
        [
         "2a7e3528-bd56-4f6b-acae-c314bfd970b4",
         "4",
         "13",
         "11",
         "7"
        ],
        [
         "2ad4a778-8379-48b8-a3a7-09ce1a245592",
         "34",
         "7",
         "35",
         "30"
        ],
        [
         "2cafff3f-d853-4bac-8e94-ea0c8dc90e02",
         "7",
         "2",
         "2",
         "5"
        ],
        [
         "2ec5ae7b-ae83-4a54-92f7-42bd37badf42",
         "2",
         "3",
         "10",
         "7"
        ],
        [
         "2fea40c5-e464-4ddf-ab0f-ceeb93836844",
         "0",
         "0",
         "1",
         "13"
        ],
        [
         "30c55c28-45e8-6980-ad1d-7064b7c84051",
         "6",
         "12",
         "12",
         "6"
        ],
        [
         "30e0503b-8049-46c4-8dbd-3eba42ce5222",
         "20",
         "40",
         "35",
         "23"
        ],
        [
         "31c91da5-8ee8-470f-a365-d9021e632eda",
         "3",
         "7",
         "12",
         "8"
        ],
        [
         "35b845d0-fba5-412a-a8f1-f987fa94ffaa",
         "0",
         "1",
         "6",
         "7"
        ],
        [
         "39ed42b2-4f6c-6c6f-185d-6912c0e2151d",
         "2",
         "3",
         "7",
         "4"
        ],
        [
         "3c178966-1b80-4180-8eb9-782c1fb4f718",
         "0",
         "0",
         "6",
         "9"
        ],
        [
         "3ccd8371-c1c6-6d71-180f-578a9366763f",
         "0",
         "6",
         "21",
         "22"
        ],
        [
         "3d0d3542-d428-425f-89a2-16e873350b25",
         "0",
         "0",
         "6",
         "6"
        ],
        [
         "44be75cd-bf73-4cf6-bde3-aba66c2374d3",
         "1",
         "0",
         "2",
         "2"
        ],
        [
         "44c482d2-d32b-4324-b6ac-acc1c230a2c3",
         "8",
         "6",
         "12",
         "6"
        ],
        [
         "4d4b939f-3f71-4366-aea0-ebfbb1906b9f",
         "3",
         "4",
         "18",
         "20"
        ],
        [
         "56437dbb-f7c6-48ed-8adf-59fc28147213",
         "6",
         "2",
         "6",
         "5"
        ],
        [
         "5b3760b6-82b0-4057-99ac-b7b56260d977",
         "0",
         "0",
         "2",
         "0"
        ],
        [
         "613e61d6-2791-46da-bbd7-e8ce58f57dd1",
         "0",
         "1",
         "2",
         "0"
        ],
        [
         "630f0bbd-d1e7-4df3-a8a0-27d4472ce2a3",
         "3",
         "1",
         "28",
         "20"
        ],
        [
         "64645842-a2d3-4ad5-a818-1b7357a40796",
         "1",
         "2",
         "9",
         "25"
        ],
        [
         "6f366300-3042-4f6f-a2eb-2ac694af3fc0",
         "1",
         "3",
         "1",
         "1"
        ],
        [
         "7200a895-bab5-4849-9dd2-07fa602c0f68",
         "0",
         "3",
         "4",
         "3"
        ],
        [
         "7277915a-3596-4883-8542-041cd3d81804",
         "0",
         "0",
         "27",
         "20"
        ],
        [
         "77a8c940-cabd-486d-b32d-eb098340d456",
         "25",
         "29",
         "69",
         "64"
        ],
        [
         "7acaaa9b-3513-4e41-aab0-94f12ce0f9ab",
         "44",
         "0",
         "34",
         "0"
        ],
        [
         "7c74ef44-1623-4567-a98b-6f815f6e2e67",
         "28",
         "27",
         "27",
         "27"
        ],
        [
         "7c8bac3a-7013-42a3-9ea0-962bed540e68",
         "0",
         "17",
         "4",
         "1"
        ],
        [
         "7ea1df8a-9ca6-496f-b98a-faab25980a67",
         "11",
         "0",
         "16",
         "10"
        ],
        [
         "808d37e8-ebff-451a-adf0-16fc89c66d92",
         "0",
         "2",
         "10",
         "10"
        ],
        [
         "80c4510d-69d0-4715-8e01-0793eb2abe27",
         "1",
         "0",
         "7",
         "3"
        ]
       ],
       "shape": {
        "columns": 4,
        "rows": 92
       }
      },
      "text/html": [
       "<div>\n",
       "<style scoped>\n",
       "    .dataframe tbody tr th:only-of-type {\n",
       "        vertical-align: middle;\n",
       "    }\n",
       "\n",
       "    .dataframe tbody tr th {\n",
       "        vertical-align: top;\n",
       "    }\n",
       "\n",
       "    .dataframe thead th {\n",
       "        text-align: right;\n",
       "    }\n",
       "</style>\n",
       "<table border=\"1\" class=\"dataframe\">\n",
       "  <thead>\n",
       "    <tr style=\"text-align: right;\">\n",
       "      <th>zaman_bolumu</th>\n",
       "      <th>aksam</th>\n",
       "      <th>gece</th>\n",
       "      <th>oglen</th>\n",
       "      <th>sabah</th>\n",
       "    </tr>\n",
       "    <tr>\n",
       "      <th>device_aid</th>\n",
       "      <th></th>\n",
       "      <th></th>\n",
       "      <th></th>\n",
       "      <th></th>\n",
       "    </tr>\n",
       "  </thead>\n",
       "  <tbody>\n",
       "    <tr>\n",
       "      <th>01069bba-c0ed-4999-8515-22754c3fee3e</th>\n",
       "      <td>46</td>\n",
       "      <td>49</td>\n",
       "      <td>49</td>\n",
       "      <td>51</td>\n",
       "    </tr>\n",
       "    <tr>\n",
       "      <th>02712699-4a57-400b-a04a-d39bd5c8eba1</th>\n",
       "      <td>0</td>\n",
       "      <td>0</td>\n",
       "      <td>8</td>\n",
       "      <td>12</td>\n",
       "    </tr>\n",
       "    <tr>\n",
       "      <th>02d49c46-cfba-4bfb-9a46-5fa417c4ac6e</th>\n",
       "      <td>32</td>\n",
       "      <td>14</td>\n",
       "      <td>50</td>\n",
       "      <td>55</td>\n",
       "    </tr>\n",
       "    <tr>\n",
       "      <th>05e5adce-840a-430c-81d7-22a7ca96f534</th>\n",
       "      <td>0</td>\n",
       "      <td>0</td>\n",
       "      <td>4</td>\n",
       "      <td>12</td>\n",
       "    </tr>\n",
       "    <tr>\n",
       "      <th>0773956e-e6f8-459e-961f-ec1470c80462</th>\n",
       "      <td>0</td>\n",
       "      <td>0</td>\n",
       "      <td>2</td>\n",
       "      <td>9</td>\n",
       "    </tr>\n",
       "    <tr>\n",
       "      <th>...</th>\n",
       "      <td>...</td>\n",
       "      <td>...</td>\n",
       "      <td>...</td>\n",
       "      <td>...</td>\n",
       "    </tr>\n",
       "    <tr>\n",
       "      <th>efe3e217-cfb2-4eb9-ad1d-c2680f7fbd91</th>\n",
       "      <td>0</td>\n",
       "      <td>0</td>\n",
       "      <td>2</td>\n",
       "      <td>2</td>\n",
       "    </tr>\n",
       "    <tr>\n",
       "      <th>f2102cd7-f776-4adf-a782-b333a2ca8cb6</th>\n",
       "      <td>4</td>\n",
       "      <td>4</td>\n",
       "      <td>13</td>\n",
       "      <td>13</td>\n",
       "    </tr>\n",
       "    <tr>\n",
       "      <th>f3717295-5995-482e-ad4a-58157d2ab66c</th>\n",
       "      <td>1</td>\n",
       "      <td>16</td>\n",
       "      <td>16</td>\n",
       "      <td>7</td>\n",
       "    </tr>\n",
       "    <tr>\n",
       "      <th>f99030ff-e47c-446a-b0ce-8dc9651a05ca</th>\n",
       "      <td>1</td>\n",
       "      <td>1</td>\n",
       "      <td>3</td>\n",
       "      <td>4</td>\n",
       "    </tr>\n",
       "    <tr>\n",
       "      <th>fa697609-b068-4af2-8d7d-c3cc53fb128a</th>\n",
       "      <td>0</td>\n",
       "      <td>0</td>\n",
       "      <td>6</td>\n",
       "      <td>1</td>\n",
       "    </tr>\n",
       "  </tbody>\n",
       "</table>\n",
       "<p>92 rows × 4 columns</p>\n",
       "</div>"
      ],
      "text/plain": [
       "zaman_bolumu                          aksam  gece  oglen  sabah\n",
       "device_aid                                                     \n",
       "01069bba-c0ed-4999-8515-22754c3fee3e     46    49     49     51\n",
       "02712699-4a57-400b-a04a-d39bd5c8eba1      0     0      8     12\n",
       "02d49c46-cfba-4bfb-9a46-5fa417c4ac6e     32    14     50     55\n",
       "05e5adce-840a-430c-81d7-22a7ca96f534      0     0      4     12\n",
       "0773956e-e6f8-459e-961f-ec1470c80462      0     0      2      9\n",
       "...                                     ...   ...    ...    ...\n",
       "efe3e217-cfb2-4eb9-ad1d-c2680f7fbd91      0     0      2      2\n",
       "f2102cd7-f776-4adf-a782-b333a2ca8cb6      4     4     13     13\n",
       "f3717295-5995-482e-ad4a-58157d2ab66c      1    16     16      7\n",
       "f99030ff-e47c-446a-b0ce-8dc9651a05ca      1     1      3      4\n",
       "fa697609-b068-4af2-8d7d-c3cc53fb128a      0     0      6      1\n",
       "\n",
       "[92 rows x 4 columns]"
      ]
     },
     "execution_count": 8,
     "metadata": {},
     "output_type": "execute_result"
    }
   ],
   "source": [
    "# Zaman bölümleri\n",
    "zaman_pivot = data.pivot_table(index='device_aid', columns='zaman_bolumu', \n",
    "                              values='Place', aggfunc='count', fill_value=0)\n",
    "\n",
    "zaman_pivot"
   ]
  },
  {
   "cell_type": "code",
   "execution_count": 9,
   "id": "66b7bbaa",
   "metadata": {},
   "outputs": [
    {
     "data": {
      "application/vnd.microsoft.datawrangler.viewer.v0+json": {
       "columns": [
        {
         "name": "device_aid",
         "rawType": "object",
         "type": "string"
        },
        {
         "name": "Alışveriş Merkezi",
         "rawType": "int64",
         "type": "integer"
        },
        {
         "name": "Banka",
         "rawType": "int64",
         "type": "integer"
        },
        {
         "name": "Cami",
         "rawType": "int64",
         "type": "integer"
        },
        {
         "name": "Hastane",
         "rawType": "int64",
         "type": "integer"
        },
        {
         "name": "Kafe",
         "rawType": "int64",
         "type": "integer"
        },
        {
         "name": "Kamu Kurumu",
         "rawType": "int64",
         "type": "integer"
        },
        {
         "name": "Market",
         "rawType": "int64",
         "type": "integer"
        },
        {
         "name": "Müze",
         "rawType": "int64",
         "type": "integer"
        },
        {
         "name": "Okul",
         "rawType": "int64",
         "type": "integer"
        },
        {
         "name": "Otopark",
         "rawType": "int64",
         "type": "integer"
        },
        {
         "name": "Park",
         "rawType": "int64",
         "type": "integer"
        },
        {
         "name": "Restoran",
         "rawType": "int64",
         "type": "integer"
        },
        {
         "name": "Ulaşım",
         "rawType": "int64",
         "type": "integer"
        },
        {
         "name": "Veteriner",
         "rawType": "int64",
         "type": "integer"
        },
        {
         "name": "İçkili Mekan",
         "rawType": "int64",
         "type": "integer"
        }
       ],
       "ref": "85b70b0d-7b8b-40b7-9cee-e4f2a47ff598",
       "rows": [
        [
         "01069bba-c0ed-4999-8515-22754c3fee3e",
         "0",
         "0",
         "0",
         "0",
         "3",
         "0",
         "2",
         "0",
         "0",
         "2",
         "179",
         "8",
         "1",
         "0",
         "0"
        ],
        [
         "02712699-4a57-400b-a04a-d39bd5c8eba1",
         "0",
         "1",
         "0",
         "0",
         "0",
         "0",
         "2",
         "0",
         "1",
         "0",
         "3",
         "0",
         "6",
         "1",
         "0"
        ],
        [
         "02d49c46-cfba-4bfb-9a46-5fa417c4ac6e",
         "1",
         "13",
         "3",
         "16",
         "4",
         "4",
         "0",
         "1",
         "27",
         "3",
         "37",
         "0",
         "19",
         "7",
         "4"
        ],
        [
         "05e5adce-840a-430c-81d7-22a7ca96f534",
         "0",
         "0",
         "0",
         "0",
         "1",
         "0",
         "0",
         "0",
         "3",
         "0",
         "4",
         "0",
         "1",
         "2",
         "3"
        ],
        [
         "0773956e-e6f8-459e-961f-ec1470c80462",
         "0",
         "0",
         "1",
         "1",
         "1",
         "1",
         "0",
         "0",
         "1",
         "0",
         "3",
         "2",
         "0",
         "0",
         "1"
        ],
        [
         "0b6f7672-c2e9-4a3b-a157-5d84a2bfb2f5",
         "0",
         "0",
         "0",
         "0",
         "0",
         "0",
         "0",
         "0",
         "1",
         "0",
         "1",
         "0",
         "0",
         "0",
         "0"
        ],
        [
         "0ed30dd7-671b-468f-9047-11ab8016ca9f",
         "0",
         "0",
         "0",
         "0",
         "0",
         "0",
         "2",
         "0",
         "0",
         "0",
         "0",
         "0",
         "0",
         "0",
         "0"
        ],
        [
         "0fae98ed-dbc3-464c-aa49-11cf57bf5089",
         "0",
         "0",
         "9",
         "0",
         "2",
         "0",
         "1",
         "0",
         "1",
         "0",
         "27",
         "0",
         "0",
         "1",
         "0"
        ],
        [
         "103d9479-f7fe-40cc-bb2c-7be268b97ef8",
         "0",
         "0",
         "0",
         "4",
         "2",
         "2",
         "0",
         "0",
         "3",
         "0",
         "6",
         "0",
         "2",
         "2",
         "0"
        ],
        [
         "152c006d-1cd2-4214-bede-dbef40600b31",
         "0",
         "0",
         "0",
         "0",
         "0",
         "0",
         "0",
         "0",
         "0",
         "0",
         "0",
         "0",
         "3",
         "0",
         "0"
        ],
        [
         "16e1ec7f-01be-685d-21ef-0091fa1d7e3a",
         "0",
         "0",
         "0",
         "0",
         "0",
         "0",
         "2",
         "0",
         "0",
         "0",
         "0",
         "0",
         "0",
         "0",
         "0"
        ],
        [
         "18d6db6c-c0a3-49b1-bbde-09942dba4969",
         "0",
         "0",
         "1",
         "0",
         "0",
         "0",
         "0",
         "0",
         "3",
         "0",
         "4",
         "0",
         "0",
         "0",
         "0"
        ],
        [
         "18d82eca-a739-4a3d-9adc-661ebcc531ee",
         "0",
         "1",
         "0",
         "0",
         "0",
         "0",
         "0",
         "0",
         "2",
         "0",
         "44",
         "0",
         "0",
         "2",
         "0"
        ],
        [
         "1c5be4ec-3c19-4335-bf49-b9d4b2b8c482",
         "0",
         "0",
         "0",
         "0",
         "0",
         "0",
         "0",
         "0",
         "0",
         "0",
         "1",
         "0",
         "1",
         "0",
         "2"
        ],
        [
         "1fc9f45f-8b40-48fa-9ee3-8efb1d166b4c",
         "0",
         "0",
         "33",
         "0",
         "0",
         "0",
         "2",
         "0",
         "3",
         "0",
         "2",
         "0",
         "0",
         "0",
         "0"
        ],
        [
         "27a09610-3cbd-4425-8cc0-e30f9217f6c8",
         "0",
         "0",
         "1",
         "0",
         "1",
         "0",
         "0",
         "0",
         "0",
         "0",
         "12",
         "2",
         "0",
         "13",
         "1"
        ],
        [
         "2831b99e-0d44-4220-a92b-14d11899ee36",
         "0",
         "0",
         "0",
         "0",
         "0",
         "0",
         "4",
         "0",
         "1",
         "0",
         "0",
         "0",
         "0",
         "0",
         "0"
        ],
        [
         "296a2694-fce6-41c0-a6f9-822def29d9b1",
         "0",
         "4",
         "0",
         "0",
         "2",
         "0",
         "0",
         "0",
         "0",
         "0",
         "1",
         "0",
         "0",
         "4",
         "0"
        ],
        [
         "29d09d1a-6346-4c36-b1b1-e77fb8e9afe8",
         "0",
         "0",
         "0",
         "1",
         "1",
         "0",
         "1",
         "0",
         "5",
         "1",
         "4",
         "0",
         "1",
         "0",
         "2"
        ],
        [
         "2a7e3528-bd56-4f6b-acae-c314bfd970b4",
         "1",
         "0",
         "0",
         "6",
         "0",
         "0",
         "1",
         "0",
         "9",
         "0",
         "5",
         "1",
         "3",
         "1",
         "0"
        ],
        [
         "2ad4a778-8379-48b8-a3a7-09ce1a245592",
         "1",
         "1",
         "6",
         "8",
         "14",
         "2",
         "3",
         "0",
         "18",
         "1",
         "20",
         "2",
         "1",
         "9",
         "2"
        ],
        [
         "2cafff3f-d853-4bac-8e94-ea0c8dc90e02",
         "0",
         "0",
         "0",
         "0",
         "1",
         "0",
         "1",
         "0",
         "9",
         "0",
         "1",
         "0",
         "0",
         "2",
         "0"
        ],
        [
         "2ec5ae7b-ae83-4a54-92f7-42bd37badf42",
         "0",
         "0",
         "1",
         "1",
         "0",
         "0",
         "0",
         "0",
         "4",
         "1",
         "2",
         "5",
         "4",
         "1",
         "3"
        ],
        [
         "2fea40c5-e464-4ddf-ab0f-ceeb93836844",
         "0",
         "0",
         "2",
         "1",
         "1",
         "2",
         "1",
         "0",
         "0",
         "0",
         "2",
         "0",
         "0",
         "0",
         "1"
        ],
        [
         "30c55c28-45e8-6980-ad1d-7064b7c84051",
         "0",
         "0",
         "0",
         "0",
         "0",
         "0",
         "1",
         "0",
         "1",
         "1",
         "25",
         "1",
         "0",
         "5",
         "1"
        ],
        [
         "30e0503b-8049-46c4-8dbd-3eba42ce5222",
         "5",
         "15",
         "2",
         "0",
         "2",
         "3",
         "2",
         "1",
         "6",
         "0",
         "28",
         "2",
         "4",
         "3",
         "11"
        ],
        [
         "31c91da5-8ee8-470f-a365-d9021e632eda",
         "0",
         "0",
         "0",
         "1",
         "12",
         "0",
         "0",
         "0",
         "9",
         "0",
         "2",
         "0",
         "4",
         "1",
         "0"
        ],
        [
         "35b845d0-fba5-412a-a8f1-f987fa94ffaa",
         "0",
         "1",
         "0",
         "0",
         "0",
         "0",
         "2",
         "0",
         "2",
         "2",
         "1",
         "2",
         "0",
         "0",
         "2"
        ],
        [
         "39ed42b2-4f6c-6c6f-185d-6912c0e2151d",
         "0",
         "0",
         "0",
         "0",
         "4",
         "0",
         "0",
         "0",
         "1",
         "1",
         "2",
         "0",
         "7",
         "0",
         "0"
        ],
        [
         "3c178966-1b80-4180-8eb9-782c1fb4f718",
         "0",
         "0",
         "0",
         "2",
         "0",
         "0",
         "0",
         "0",
         "0",
         "0",
         "4",
         "1",
         "3",
         "1",
         "4"
        ],
        [
         "3ccd8371-c1c6-6d71-180f-578a9366763f",
         "0",
         "0",
         "0",
         "0",
         "0",
         "0",
         "0",
         "0",
         "49",
         "0",
         "0",
         "0",
         "0",
         "0",
         "0"
        ],
        [
         "3d0d3542-d428-425f-89a2-16e873350b25",
         "0",
         "0",
         "0",
         "0",
         "0",
         "0",
         "0",
         "0",
         "6",
         "0",
         "3",
         "1",
         "1",
         "0",
         "1"
        ],
        [
         "44be75cd-bf73-4cf6-bde3-aba66c2374d3",
         "0",
         "0",
         "1",
         "0",
         "0",
         "0",
         "0",
         "0",
         "2",
         "0",
         "1",
         "0",
         "0",
         "0",
         "0"
        ],
        [
         "44c482d2-d32b-4324-b6ac-acc1c230a2c3",
         "0",
         "0",
         "0",
         "26",
         "0",
         "0",
         "0",
         "0",
         "0",
         "0",
         "4",
         "0",
         "0",
         "0",
         "0"
        ],
        [
         "4d4b939f-3f71-4366-aea0-ebfbb1906b9f",
         "0",
         "0",
         "0",
         "0",
         "2",
         "0",
         "2",
         "0",
         "0",
         "5",
         "1",
         "0",
         "11",
         "2",
         "19"
        ],
        [
         "56437dbb-f7c6-48ed-8adf-59fc28147213",
         "0",
         "0",
         "2",
         "0",
         "2",
         "0",
         "2",
         "0",
         "0",
         "0",
         "7",
         "0",
         "0",
         "4",
         "1"
        ],
        [
         "5b3760b6-82b0-4057-99ac-b7b56260d977",
         "0",
         "0",
         "0",
         "0",
         "0",
         "0",
         "0",
         "0",
         "0",
         "0",
         "0",
         "0",
         "2",
         "0",
         "0"
        ],
        [
         "613e61d6-2791-46da-bbd7-e8ce58f57dd1",
         "0",
         "0",
         "0",
         "0",
         "0",
         "0",
         "0",
         "0",
         "1",
         "0",
         "1",
         "1",
         "0",
         "0",
         "0"
        ],
        [
         "630f0bbd-d1e7-4df3-a8a0-27d4472ce2a3",
         "0",
         "0",
         "2",
         "4",
         "0",
         "1",
         "2",
         "0",
         "12",
         "0",
         "13",
         "0",
         "10",
         "2",
         "1"
        ],
        [
         "64645842-a2d3-4ad5-a818-1b7357a40796",
         "0",
         "0",
         "5",
         "8",
         "0",
         "0",
         "2",
         "1",
         "5",
         "0",
         "4",
         "0",
         "1",
         "0",
         "2"
        ],
        [
         "6f366300-3042-4f6f-a2eb-2ac694af3fc0",
         "0",
         "0",
         "0",
         "0",
         "0",
         "0",
         "1",
         "0",
         "1",
         "0",
         "0",
         "0",
         "1",
         "0",
         "1"
        ],
        [
         "7200a895-bab5-4849-9dd2-07fa602c0f68",
         "0",
         "0",
         "0",
         "3",
         "0",
         "0",
         "0",
         "0",
         "1",
         "0",
         "4",
         "0",
         "2",
         "0",
         "0"
        ],
        [
         "7277915a-3596-4883-8542-041cd3d81804",
         "0",
         "0",
         "0",
         "32",
         "1",
         "0",
         "0",
         "0",
         "3",
         "1",
         "4",
         "0",
         "1",
         "2",
         "1"
        ],
        [
         "77a8c940-cabd-486d-b32d-eb098340d456",
         "1",
         "20",
         "8",
         "8",
         "8",
         "6",
         "2",
         "0",
         "14",
         "2",
         "54",
         "7",
         "5",
         "8",
         "7"
        ],
        [
         "7acaaa9b-3513-4e41-aab0-94f12ce0f9ab",
         "0",
         "0",
         "5",
         "1",
         "3",
         "29",
         "5",
         "0",
         "7",
         "1",
         "8",
         "1",
         "0",
         "3",
         "0"
        ],
        [
         "7c74ef44-1623-4567-a98b-6f815f6e2e67",
         "0",
         "0",
         "0",
         "0",
         "0",
         "0",
         "0",
         "0",
         "0",
         "0",
         "108",
         "0",
         "1",
         "0",
         "0"
        ],
        [
         "7c8bac3a-7013-42a3-9ea0-962bed540e68",
         "0",
         "0",
         "0",
         "13",
         "0",
         "0",
         "0",
         "0",
         "2",
         "0",
         "1",
         "1",
         "4",
         "0",
         "0"
        ],
        [
         "7ea1df8a-9ca6-496f-b98a-faab25980a67",
         "0",
         "0",
         "1",
         "3",
         "2",
         "0",
         "0",
         "0",
         "16",
         "0",
         "6",
         "0",
         "5",
         "0",
         "0"
        ],
        [
         "808d37e8-ebff-451a-adf0-16fc89c66d92",
         "3",
         "0",
         "1",
         "1",
         "1",
         "0",
         "0",
         "0",
         "1",
         "1",
         "6",
         "0",
         "1",
         "1",
         "1"
        ],
        [
         "80c4510d-69d0-4715-8e01-0793eb2abe27",
         "0",
         "0",
         "0",
         "0",
         "1",
         "0",
         "0",
         "0",
         "0",
         "0",
         "1",
         "0",
         "0",
         "0",
         "0"
        ]
       ],
       "shape": {
        "columns": 15,
        "rows": 92
       }
      },
      "text/html": [
       "<div>\n",
       "<style scoped>\n",
       "    .dataframe tbody tr th:only-of-type {\n",
       "        vertical-align: middle;\n",
       "    }\n",
       "\n",
       "    .dataframe tbody tr th {\n",
       "        vertical-align: top;\n",
       "    }\n",
       "\n",
       "    .dataframe thead th {\n",
       "        text-align: right;\n",
       "    }\n",
       "</style>\n",
       "<table border=\"1\" class=\"dataframe\">\n",
       "  <thead>\n",
       "    <tr style=\"text-align: right;\">\n",
       "      <th>Place Category</th>\n",
       "      <th>Alışveriş Merkezi</th>\n",
       "      <th>Banka</th>\n",
       "      <th>Cami</th>\n",
       "      <th>Hastane</th>\n",
       "      <th>Kafe</th>\n",
       "      <th>Kamu Kurumu</th>\n",
       "      <th>Market</th>\n",
       "      <th>Müze</th>\n",
       "      <th>Okul</th>\n",
       "      <th>Otopark</th>\n",
       "      <th>Park</th>\n",
       "      <th>Restoran</th>\n",
       "      <th>Ulaşım</th>\n",
       "      <th>Veteriner</th>\n",
       "      <th>İçkili Mekan</th>\n",
       "    </tr>\n",
       "    <tr>\n",
       "      <th>device_aid</th>\n",
       "      <th></th>\n",
       "      <th></th>\n",
       "      <th></th>\n",
       "      <th></th>\n",
       "      <th></th>\n",
       "      <th></th>\n",
       "      <th></th>\n",
       "      <th></th>\n",
       "      <th></th>\n",
       "      <th></th>\n",
       "      <th></th>\n",
       "      <th></th>\n",
       "      <th></th>\n",
       "      <th></th>\n",
       "      <th></th>\n",
       "    </tr>\n",
       "  </thead>\n",
       "  <tbody>\n",
       "    <tr>\n",
       "      <th>01069bba-c0ed-4999-8515-22754c3fee3e</th>\n",
       "      <td>0</td>\n",
       "      <td>0</td>\n",
       "      <td>0</td>\n",
       "      <td>0</td>\n",
       "      <td>3</td>\n",
       "      <td>0</td>\n",
       "      <td>2</td>\n",
       "      <td>0</td>\n",
       "      <td>0</td>\n",
       "      <td>2</td>\n",
       "      <td>179</td>\n",
       "      <td>8</td>\n",
       "      <td>1</td>\n",
       "      <td>0</td>\n",
       "      <td>0</td>\n",
       "    </tr>\n",
       "    <tr>\n",
       "      <th>02712699-4a57-400b-a04a-d39bd5c8eba1</th>\n",
       "      <td>0</td>\n",
       "      <td>1</td>\n",
       "      <td>0</td>\n",
       "      <td>0</td>\n",
       "      <td>0</td>\n",
       "      <td>0</td>\n",
       "      <td>2</td>\n",
       "      <td>0</td>\n",
       "      <td>1</td>\n",
       "      <td>0</td>\n",
       "      <td>3</td>\n",
       "      <td>0</td>\n",
       "      <td>6</td>\n",
       "      <td>1</td>\n",
       "      <td>0</td>\n",
       "    </tr>\n",
       "    <tr>\n",
       "      <th>02d49c46-cfba-4bfb-9a46-5fa417c4ac6e</th>\n",
       "      <td>1</td>\n",
       "      <td>13</td>\n",
       "      <td>3</td>\n",
       "      <td>16</td>\n",
       "      <td>4</td>\n",
       "      <td>4</td>\n",
       "      <td>0</td>\n",
       "      <td>1</td>\n",
       "      <td>27</td>\n",
       "      <td>3</td>\n",
       "      <td>37</td>\n",
       "      <td>0</td>\n",
       "      <td>19</td>\n",
       "      <td>7</td>\n",
       "      <td>4</td>\n",
       "    </tr>\n",
       "    <tr>\n",
       "      <th>05e5adce-840a-430c-81d7-22a7ca96f534</th>\n",
       "      <td>0</td>\n",
       "      <td>0</td>\n",
       "      <td>0</td>\n",
       "      <td>0</td>\n",
       "      <td>1</td>\n",
       "      <td>0</td>\n",
       "      <td>0</td>\n",
       "      <td>0</td>\n",
       "      <td>3</td>\n",
       "      <td>0</td>\n",
       "      <td>4</td>\n",
       "      <td>0</td>\n",
       "      <td>1</td>\n",
       "      <td>2</td>\n",
       "      <td>3</td>\n",
       "    </tr>\n",
       "    <tr>\n",
       "      <th>0773956e-e6f8-459e-961f-ec1470c80462</th>\n",
       "      <td>0</td>\n",
       "      <td>0</td>\n",
       "      <td>1</td>\n",
       "      <td>1</td>\n",
       "      <td>1</td>\n",
       "      <td>1</td>\n",
       "      <td>0</td>\n",
       "      <td>0</td>\n",
       "      <td>1</td>\n",
       "      <td>0</td>\n",
       "      <td>3</td>\n",
       "      <td>2</td>\n",
       "      <td>0</td>\n",
       "      <td>0</td>\n",
       "      <td>1</td>\n",
       "    </tr>\n",
       "    <tr>\n",
       "      <th>...</th>\n",
       "      <td>...</td>\n",
       "      <td>...</td>\n",
       "      <td>...</td>\n",
       "      <td>...</td>\n",
       "      <td>...</td>\n",
       "      <td>...</td>\n",
       "      <td>...</td>\n",
       "      <td>...</td>\n",
       "      <td>...</td>\n",
       "      <td>...</td>\n",
       "      <td>...</td>\n",
       "      <td>...</td>\n",
       "      <td>...</td>\n",
       "      <td>...</td>\n",
       "      <td>...</td>\n",
       "    </tr>\n",
       "    <tr>\n",
       "      <th>efe3e217-cfb2-4eb9-ad1d-c2680f7fbd91</th>\n",
       "      <td>0</td>\n",
       "      <td>0</td>\n",
       "      <td>0</td>\n",
       "      <td>1</td>\n",
       "      <td>0</td>\n",
       "      <td>0</td>\n",
       "      <td>0</td>\n",
       "      <td>0</td>\n",
       "      <td>0</td>\n",
       "      <td>0</td>\n",
       "      <td>1</td>\n",
       "      <td>1</td>\n",
       "      <td>0</td>\n",
       "      <td>0</td>\n",
       "      <td>1</td>\n",
       "    </tr>\n",
       "    <tr>\n",
       "      <th>f2102cd7-f776-4adf-a782-b333a2ca8cb6</th>\n",
       "      <td>8</td>\n",
       "      <td>0</td>\n",
       "      <td>1</td>\n",
       "      <td>0</td>\n",
       "      <td>4</td>\n",
       "      <td>0</td>\n",
       "      <td>0</td>\n",
       "      <td>0</td>\n",
       "      <td>1</td>\n",
       "      <td>0</td>\n",
       "      <td>7</td>\n",
       "      <td>0</td>\n",
       "      <td>1</td>\n",
       "      <td>1</td>\n",
       "      <td>4</td>\n",
       "    </tr>\n",
       "    <tr>\n",
       "      <th>f3717295-5995-482e-ad4a-58157d2ab66c</th>\n",
       "      <td>0</td>\n",
       "      <td>0</td>\n",
       "      <td>4</td>\n",
       "      <td>0</td>\n",
       "      <td>2</td>\n",
       "      <td>1</td>\n",
       "      <td>0</td>\n",
       "      <td>0</td>\n",
       "      <td>6</td>\n",
       "      <td>0</td>\n",
       "      <td>5</td>\n",
       "      <td>8</td>\n",
       "      <td>1</td>\n",
       "      <td>6</td>\n",
       "      <td>1</td>\n",
       "    </tr>\n",
       "    <tr>\n",
       "      <th>f99030ff-e47c-446a-b0ce-8dc9651a05ca</th>\n",
       "      <td>0</td>\n",
       "      <td>0</td>\n",
       "      <td>1</td>\n",
       "      <td>0</td>\n",
       "      <td>0</td>\n",
       "      <td>0</td>\n",
       "      <td>0</td>\n",
       "      <td>0</td>\n",
       "      <td>2</td>\n",
       "      <td>0</td>\n",
       "      <td>1</td>\n",
       "      <td>3</td>\n",
       "      <td>1</td>\n",
       "      <td>1</td>\n",
       "      <td>0</td>\n",
       "    </tr>\n",
       "    <tr>\n",
       "      <th>fa697609-b068-4af2-8d7d-c3cc53fb128a</th>\n",
       "      <td>0</td>\n",
       "      <td>0</td>\n",
       "      <td>1</td>\n",
       "      <td>0</td>\n",
       "      <td>0</td>\n",
       "      <td>0</td>\n",
       "      <td>0</td>\n",
       "      <td>0</td>\n",
       "      <td>1</td>\n",
       "      <td>0</td>\n",
       "      <td>2</td>\n",
       "      <td>0</td>\n",
       "      <td>1</td>\n",
       "      <td>0</td>\n",
       "      <td>0</td>\n",
       "    </tr>\n",
       "  </tbody>\n",
       "</table>\n",
       "<p>92 rows × 15 columns</p>\n",
       "</div>"
      ],
      "text/plain": [
       "Place Category                        Alışveriş Merkezi  Banka  Cami  Hastane  \\\n",
       "device_aid                                                                      \n",
       "01069bba-c0ed-4999-8515-22754c3fee3e                  0      0     0        0   \n",
       "02712699-4a57-400b-a04a-d39bd5c8eba1                  0      1     0        0   \n",
       "02d49c46-cfba-4bfb-9a46-5fa417c4ac6e                  1     13     3       16   \n",
       "05e5adce-840a-430c-81d7-22a7ca96f534                  0      0     0        0   \n",
       "0773956e-e6f8-459e-961f-ec1470c80462                  0      0     1        1   \n",
       "...                                                 ...    ...   ...      ...   \n",
       "efe3e217-cfb2-4eb9-ad1d-c2680f7fbd91                  0      0     0        1   \n",
       "f2102cd7-f776-4adf-a782-b333a2ca8cb6                  8      0     1        0   \n",
       "f3717295-5995-482e-ad4a-58157d2ab66c                  0      0     4        0   \n",
       "f99030ff-e47c-446a-b0ce-8dc9651a05ca                  0      0     1        0   \n",
       "fa697609-b068-4af2-8d7d-c3cc53fb128a                  0      0     1        0   \n",
       "\n",
       "Place Category                        Kafe  Kamu Kurumu  Market  Müze  Okul  \\\n",
       "device_aid                                                                    \n",
       "01069bba-c0ed-4999-8515-22754c3fee3e     3            0       2     0     0   \n",
       "02712699-4a57-400b-a04a-d39bd5c8eba1     0            0       2     0     1   \n",
       "02d49c46-cfba-4bfb-9a46-5fa417c4ac6e     4            4       0     1    27   \n",
       "05e5adce-840a-430c-81d7-22a7ca96f534     1            0       0     0     3   \n",
       "0773956e-e6f8-459e-961f-ec1470c80462     1            1       0     0     1   \n",
       "...                                    ...          ...     ...   ...   ...   \n",
       "efe3e217-cfb2-4eb9-ad1d-c2680f7fbd91     0            0       0     0     0   \n",
       "f2102cd7-f776-4adf-a782-b333a2ca8cb6     4            0       0     0     1   \n",
       "f3717295-5995-482e-ad4a-58157d2ab66c     2            1       0     0     6   \n",
       "f99030ff-e47c-446a-b0ce-8dc9651a05ca     0            0       0     0     2   \n",
       "fa697609-b068-4af2-8d7d-c3cc53fb128a     0            0       0     0     1   \n",
       "\n",
       "Place Category                        Otopark  Park  Restoran  Ulaşım  \\\n",
       "device_aid                                                              \n",
       "01069bba-c0ed-4999-8515-22754c3fee3e        2   179         8       1   \n",
       "02712699-4a57-400b-a04a-d39bd5c8eba1        0     3         0       6   \n",
       "02d49c46-cfba-4bfb-9a46-5fa417c4ac6e        3    37         0      19   \n",
       "05e5adce-840a-430c-81d7-22a7ca96f534        0     4         0       1   \n",
       "0773956e-e6f8-459e-961f-ec1470c80462        0     3         2       0   \n",
       "...                                       ...   ...       ...     ...   \n",
       "efe3e217-cfb2-4eb9-ad1d-c2680f7fbd91        0     1         1       0   \n",
       "f2102cd7-f776-4adf-a782-b333a2ca8cb6        0     7         0       1   \n",
       "f3717295-5995-482e-ad4a-58157d2ab66c        0     5         8       1   \n",
       "f99030ff-e47c-446a-b0ce-8dc9651a05ca        0     1         3       1   \n",
       "fa697609-b068-4af2-8d7d-c3cc53fb128a        0     2         0       1   \n",
       "\n",
       "Place Category                        Veteriner  İçkili Mekan  \n",
       "device_aid                                                     \n",
       "01069bba-c0ed-4999-8515-22754c3fee3e          0             0  \n",
       "02712699-4a57-400b-a04a-d39bd5c8eba1          1             0  \n",
       "02d49c46-cfba-4bfb-9a46-5fa417c4ac6e          7             4  \n",
       "05e5adce-840a-430c-81d7-22a7ca96f534          2             3  \n",
       "0773956e-e6f8-459e-961f-ec1470c80462          0             1  \n",
       "...                                         ...           ...  \n",
       "efe3e217-cfb2-4eb9-ad1d-c2680f7fbd91          0             1  \n",
       "f2102cd7-f776-4adf-a782-b333a2ca8cb6          1             4  \n",
       "f3717295-5995-482e-ad4a-58157d2ab66c          6             1  \n",
       "f99030ff-e47c-446a-b0ce-8dc9651a05ca          1             0  \n",
       "fa697609-b068-4af2-8d7d-c3cc53fb128a          0             0  \n",
       "\n",
       "[92 rows x 15 columns]"
      ]
     },
     "execution_count": 9,
     "metadata": {},
     "output_type": "execute_result"
    }
   ],
   "source": [
    "# Mekan kategorileri\n",
    "mekan_pivot = data.pivot_table(index='device_aid', columns='Place Category', \n",
    "                              values='Place', aggfunc='count', fill_value=0)\n",
    "\n",
    "mekan_pivot.drop(columns='Diğer', inplace=True)\n",
    "mekan_pivot"
   ]
  },
  {
   "cell_type": "code",
   "execution_count": 10,
   "id": "67212e4c",
   "metadata": {},
   "outputs": [],
   "source": [
    "mekan_pivot.to_csv('mekan_pivot.csv', index=True)\n",
    "zaman_pivot.to_csv('zaman_pivot.csv', index=True)"
   ]
  },
  {
   "cell_type": "code",
   "execution_count": 11,
   "id": "9e4c878c",
   "metadata": {},
   "outputs": [
    {
     "data": {
      "image/png": "[encoded data removed]",
      "text/plain": [
       "<Figure size 800x500 with 1 Axes>"
      ]
     },
     "metadata": {},
     "output_type": "display_data"
    }
   ],
   "source": [
    "# Zamana göre kümeleme\n",
    "\n",
    "import pandas as pd\n",
    "from sklearn.cluster import KMeans\n",
    "from sklearn.preprocessing import StandardScaler\n",
    "import matplotlib.pyplot as plt\n",
    "import seaborn as sns\n",
    "\n",
    "X = zaman_pivot[[\"aksam\", \"gece\", \"sabah\", \"oglen\"]]\n",
    "\n",
    "# Normalize et (Ölçeklendirme çok önemli!)\n",
    "scaler = StandardScaler()\n",
    "X_scaled = scaler.fit_transform(X)\n",
    "\n",
    "inertia = []\n",
    "K = range(1, 15)\n",
    "for k in K:\n",
    "    kmeans = KMeans(n_clusters=k, random_state=42)\n",
    "    kmeans.fit(X_scaled)\n",
    "    inertia.append(kmeans.inertia_)\n",
    "\n",
    "# Görselleştir\n",
    "plt.figure(figsize=(8, 5))\n",
    "plt.plot(K, inertia, 'bo-')\n",
    "plt.xlabel('Küme Sayısı (k)')\n",
    "plt.ylabel('Inertia')\n",
    "plt.title('Elbow Yöntemi ile Optimal K')\n",
    "plt.grid(True)\n",
    "plt.show()"
   ]
  },
  {
   "cell_type": "code",
   "execution_count": 12,
   "id": "d6082bc4",
   "metadata": {},
   "outputs": [],
   "source": [
    "k_opt = 2  # Elbow grafiğine göre örnek olarak 3 dedik, sen grafikten karar ver\n",
    "kmeans = KMeans(n_clusters=k_opt, random_state=42)\n",
    "zaman_pivot['time_cluster'] = kmeans.fit_predict(X_scaled)"
   ]
  },
  {
   "cell_type": "code",
   "execution_count": 13,
   "id": "b6000efc",
   "metadata": {},
   "outputs": [
    {
     "name": "stdout",
     "output_type": "stream",
     "text": [
      "zaman_bolumu      aksam       gece      oglen      sabah\n",
      "time_cluster                                            \n",
      "0             27.666667  23.222222  40.111111  34.222222\n",
      "1              3.228916   3.650602   7.975904   7.337349\n"
     ]
    }
   ],
   "source": [
    "print(zaman_pivot.groupby('time_cluster').mean())"
   ]
  },
  {
   "cell_type": "code",
   "execution_count": 14,
   "id": "9cef7ed1",
   "metadata": {},
   "outputs": [],
   "source": [
    "# zaman_pivot 0 ise \"Sık sık gezen\", 1 ise \"Genelde evde kalan\" olarak adlandırılabilir\n",
    "zaman_pivot['time_cluster'] = zaman_pivot['time_cluster'].map({0: 'Sık sık gezen', 1: 'Genelde evde kalan'})"
   ]
  },
  {
   "cell_type": "code",
   "execution_count": 15,
   "id": "b6787eb7",
   "metadata": {},
   "outputs": [],
   "source": [
    "def duzenli_ziyaret_edilenler(row):\n",
    "    toplam = row.sum()\n",
    "    if toplam == 0:\n",
    "        return []\n",
    "    oranlar = row / toplam\n",
    "    filtered = oranlar[oranlar > ((100/15)/100)*2]\n",
    "    # Oranlara göre azalan sıralama\n",
    "    return filtered.sort_values(ascending=False).index.tolist()\n",
    "\n",
    "\n",
    "mekan_pivot['favoriler'] = mekan_pivot.apply(duzenli_ziyaret_edilenler, axis=1)\n"
   ]
  },
  {
   "cell_type": "code",
   "execution_count": 16,
   "id": "ebe5ac78",
   "metadata": {},
   "outputs": [
    {
     "data": {
      "application/vnd.microsoft.datawrangler.viewer.v0+json": {
       "columns": [
        {
         "name": "device_aid",
         "rawType": "object",
         "type": "string"
        },
        {
         "name": "favoriler",
         "rawType": "object",
         "type": "unknown"
        }
       ],
       "ref": "e50cb5ef-a172-4ced-803c-29069e14bd69",
       "rows": [
        [
         "01069bba-c0ed-4999-8515-22754c3fee3e",
         "['Park']"
        ],
        [
         "02712699-4a57-400b-a04a-d39bd5c8eba1",
         "['Ulaşım', 'Park', 'Market']"
        ],
        [
         "02d49c46-cfba-4bfb-9a46-5fa417c4ac6e",
         "['Park', 'Okul', 'Ulaşım']"
        ],
        [
         "05e5adce-840a-430c-81d7-22a7ca96f534",
         "['Park', 'Okul', 'İçkili Mekan', 'Veteriner']"
        ],
        [
         "0773956e-e6f8-459e-961f-ec1470c80462",
         "['Park', 'Restoran']"
        ],
        [
         "0b6f7672-c2e9-4a3b-a157-5d84a2bfb2f5",
         "['Okul', 'Park']"
        ],
        [
         "0ed30dd7-671b-468f-9047-11ab8016ca9f",
         "['Market']"
        ],
        [
         "0fae98ed-dbc3-464c-aa49-11cf57bf5089",
         "['Park', 'Cami']"
        ],
        [
         "103d9479-f7fe-40cc-bb2c-7be268b97ef8",
         "['Park', 'Hastane', 'Okul']"
        ],
        [
         "152c006d-1cd2-4214-bede-dbef40600b31",
         "['Ulaşım']"
        ],
        [
         "16e1ec7f-01be-685d-21ef-0091fa1d7e3a",
         "['Market']"
        ],
        [
         "18d6db6c-c0a3-49b1-bbde-09942dba4969",
         "['Park', 'Okul']"
        ],
        [
         "18d82eca-a739-4a3d-9adc-661ebcc531ee",
         "['Park']"
        ],
        [
         "1c5be4ec-3c19-4335-bf49-b9d4b2b8c482",
         "['İçkili Mekan', 'Park', 'Ulaşım']"
        ],
        [
         "1fc9f45f-8b40-48fa-9ee3-8efb1d166b4c",
         "['Cami']"
        ],
        [
         "27a09610-3cbd-4425-8cc0-e30f9217f6c8",
         "['Veteriner', 'Park']"
        ],
        [
         "2831b99e-0d44-4220-a92b-14d11899ee36",
         "['Market', 'Okul']"
        ],
        [
         "296a2694-fce6-41c0-a6f9-822def29d9b1",
         "['Banka', 'Veteriner', 'Kafe']"
        ],
        [
         "29d09d1a-6346-4c36-b1b1-e77fb8e9afe8",
         "['Okul', 'Park']"
        ],
        [
         "2a7e3528-bd56-4f6b-acae-c314bfd970b4",
         "['Okul', 'Hastane', 'Park']"
        ],
        [
         "2ad4a778-8379-48b8-a3a7-09ce1a245592",
         "['Park', 'Okul', 'Kafe']"
        ],
        [
         "2cafff3f-d853-4bac-8e94-ea0c8dc90e02",
         "['Okul', 'Veteriner']"
        ],
        [
         "2ec5ae7b-ae83-4a54-92f7-42bd37badf42",
         "['Restoran', 'Okul', 'Ulaşım', 'İçkili Mekan']"
        ],
        [
         "2fea40c5-e464-4ddf-ab0f-ceeb93836844",
         "['Cami', 'Kamu Kurumu', 'Park']"
        ],
        [
         "30c55c28-45e8-6980-ad1d-7064b7c84051",
         "['Park', 'Veteriner']"
        ],
        [
         "30e0503b-8049-46c4-8dbd-3eba42ce5222",
         "['Park', 'Banka']"
        ],
        [
         "31c91da5-8ee8-470f-a365-d9021e632eda",
         "['Kafe', 'Okul', 'Ulaşım']"
        ],
        [
         "35b845d0-fba5-412a-a8f1-f987fa94ffaa",
         "['Market', 'Okul', 'Otopark', 'Restoran', 'İçkili Mekan']"
        ],
        [
         "39ed42b2-4f6c-6c6f-185d-6912c0e2151d",
         "['Ulaşım', 'Kafe']"
        ],
        [
         "3c178966-1b80-4180-8eb9-782c1fb4f718",
         "['Park', 'İçkili Mekan', 'Ulaşım']"
        ],
        [
         "3ccd8371-c1c6-6d71-180f-578a9366763f",
         "['Okul']"
        ],
        [
         "3d0d3542-d428-425f-89a2-16e873350b25",
         "['Okul', 'Park']"
        ],
        [
         "44be75cd-bf73-4cf6-bde3-aba66c2374d3",
         "['Okul', 'Cami', 'Park']"
        ],
        [
         "44c482d2-d32b-4324-b6ac-acc1c230a2c3",
         "['Hastane']"
        ],
        [
         "4d4b939f-3f71-4366-aea0-ebfbb1906b9f",
         "['İçkili Mekan', 'Ulaşım']"
        ],
        [
         "56437dbb-f7c6-48ed-8adf-59fc28147213",
         "['Park', 'Veteriner']"
        ],
        [
         "5b3760b6-82b0-4057-99ac-b7b56260d977",
         "['Ulaşım']"
        ],
        [
         "613e61d6-2791-46da-bbd7-e8ce58f57dd1",
         "['Okul', 'Park', 'Restoran']"
        ],
        [
         "630f0bbd-d1e7-4df3-a8a0-27d4472ce2a3",
         "['Park', 'Okul', 'Ulaşım']"
        ],
        [
         "64645842-a2d3-4ad5-a818-1b7357a40796",
         "['Hastane', 'Cami', 'Okul', 'Park']"
        ],
        [
         "6f366300-3042-4f6f-a2eb-2ac694af3fc0",
         "['Market', 'Okul', 'Ulaşım', 'İçkili Mekan']"
        ],
        [
         "7200a895-bab5-4849-9dd2-07fa602c0f68",
         "['Park', 'Hastane', 'Ulaşım']"
        ],
        [
         "7277915a-3596-4883-8542-041cd3d81804",
         "['Hastane']"
        ],
        [
         "77a8c940-cabd-486d-b32d-eb098340d456",
         "['Park']"
        ],
        [
         "7acaaa9b-3513-4e41-aab0-94f12ce0f9ab",
         "['Kamu Kurumu']"
        ],
        [
         "7c74ef44-1623-4567-a98b-6f815f6e2e67",
         "['Park']"
        ],
        [
         "7c8bac3a-7013-42a3-9ea0-962bed540e68",
         "['Hastane', 'Ulaşım']"
        ],
        [
         "7ea1df8a-9ca6-496f-b98a-faab25980a67",
         "['Okul', 'Park', 'Ulaşım']"
        ],
        [
         "808d37e8-ebff-451a-adf0-16fc89c66d92",
         "['Park', 'Alışveriş Merkezi']"
        ],
        [
         "80c4510d-69d0-4715-8e01-0793eb2abe27",
         "['Kafe', 'Park']"
        ]
       ],
       "shape": {
        "columns": 1,
        "rows": 92
       }
      },
      "text/plain": [
       "device_aid\n",
       "01069bba-c0ed-4999-8515-22754c3fee3e                                           [Park]\n",
       "02712699-4a57-400b-a04a-d39bd5c8eba1                           [Ulaşım, Park, Market]\n",
       "02d49c46-cfba-4bfb-9a46-5fa417c4ac6e                             [Park, Okul, Ulaşım]\n",
       "05e5adce-840a-430c-81d7-22a7ca96f534            [Park, Okul, İçkili Mekan, Veteriner]\n",
       "0773956e-e6f8-459e-961f-ec1470c80462                                 [Park, Restoran]\n",
       "                                                            ...                      \n",
       "efe3e217-cfb2-4eb9-ad1d-c2680f7fbd91          [Hastane, Park, Restoran, İçkili Mekan]\n",
       "f2102cd7-f776-4adf-a782-b333a2ca8cb6    [Alışveriş Merkezi, Park, Kafe, İçkili Mekan]\n",
       "f3717295-5995-482e-ad4a-58157d2ab66c                [Restoran, Okul, Veteriner, Park]\n",
       "f99030ff-e47c-446a-b0ce-8dc9651a05ca                                 [Restoran, Okul]\n",
       "fa697609-b068-4af2-8d7d-c3cc53fb128a                       [Park, Cami, Okul, Ulaşım]\n",
       "Name: favoriler, Length: 92, dtype: object"
      ]
     },
     "execution_count": 16,
     "metadata": {},
     "output_type": "execute_result"
    }
   ],
   "source": [
    "mekan_pivot['favoriler']"
   ]
  },
  {
   "cell_type": "code",
   "execution_count": 17,
   "id": "5da7787a",
   "metadata": {},
   "outputs": [],
   "source": [
    "# Mekan_pivot dataframe'i ile zaman_pivot dataframe'ini birleştir\n",
    "mekan_zaman_pivot = pd.merge(mekan_pivot, zaman_pivot[['time_cluster']], left_index=True, right_index=True)\n",
    "mekan_zaman_pivot = mekan_zaman_pivot[['favoriler', 'time_cluster']]"
   ]
  },
  {
   "cell_type": "code",
   "execution_count": 18,
   "id": "187effa2",
   "metadata": {},
   "outputs": [
    {
     "data": {
      "application/vnd.microsoft.datawrangler.viewer.v0+json": {
       "columns": [
        {
         "name": "device_aid",
         "rawType": "object",
         "type": "string"
        },
        {
         "name": "favoriler",
         "rawType": "object",
         "type": "unknown"
        },
        {
         "name": "time_cluster",
         "rawType": "object",
         "type": "string"
        }
       ],
       "ref": "990b99c5-28e8-4c6e-8bf7-781506625b04",
       "rows": [
        [
         "01069bba-c0ed-4999-8515-22754c3fee3e",
         "['Park']",
         "Sık sık gezen"
        ],
        [
         "02712699-4a57-400b-a04a-d39bd5c8eba1",
         "['Ulaşım', 'Park', 'Market']",
         "Genelde evde kalan"
        ],
        [
         "02d49c46-cfba-4bfb-9a46-5fa417c4ac6e",
         "['Park', 'Okul', 'Ulaşım']",
         "Sık sık gezen"
        ],
        [
         "05e5adce-840a-430c-81d7-22a7ca96f534",
         "['Park', 'Okul', 'İçkili Mekan', 'Veteriner']",
         "Genelde evde kalan"
        ],
        [
         "0773956e-e6f8-459e-961f-ec1470c80462",
         "['Park', 'Restoran']",
         "Genelde evde kalan"
        ],
        [
         "0b6f7672-c2e9-4a3b-a157-5d84a2bfb2f5",
         "['Okul', 'Park']",
         "Genelde evde kalan"
        ],
        [
         "0ed30dd7-671b-468f-9047-11ab8016ca9f",
         "['Market']",
         "Genelde evde kalan"
        ],
        [
         "0fae98ed-dbc3-464c-aa49-11cf57bf5089",
         "['Park', 'Cami']",
         "Genelde evde kalan"
        ],
        [
         "103d9479-f7fe-40cc-bb2c-7be268b97ef8",
         "['Park', 'Hastane', 'Okul']",
         "Genelde evde kalan"
        ],
        [
         "152c006d-1cd2-4214-bede-dbef40600b31",
         "['Ulaşım']",
         "Genelde evde kalan"
        ],
        [
         "16e1ec7f-01be-685d-21ef-0091fa1d7e3a",
         "['Market']",
         "Genelde evde kalan"
        ],
        [
         "18d6db6c-c0a3-49b1-bbde-09942dba4969",
         "['Park', 'Okul']",
         "Genelde evde kalan"
        ],
        [
         "18d82eca-a739-4a3d-9adc-661ebcc531ee",
         "['Park']",
         "Genelde evde kalan"
        ],
        [
         "1c5be4ec-3c19-4335-bf49-b9d4b2b8c482",
         "['İçkili Mekan', 'Park', 'Ulaşım']",
         "Genelde evde kalan"
        ],
        [
         "1fc9f45f-8b40-48fa-9ee3-8efb1d166b4c",
         "['Cami']",
         "Genelde evde kalan"
        ],
        [
         "27a09610-3cbd-4425-8cc0-e30f9217f6c8",
         "['Veteriner', 'Park']",
         "Genelde evde kalan"
        ],
        [
         "2831b99e-0d44-4220-a92b-14d11899ee36",
         "['Market', 'Okul']",
         "Genelde evde kalan"
        ],
        [
         "296a2694-fce6-41c0-a6f9-822def29d9b1",
         "['Banka', 'Veteriner', 'Kafe']",
         "Genelde evde kalan"
        ],
        [
         "29d09d1a-6346-4c36-b1b1-e77fb8e9afe8",
         "['Okul', 'Park']",
         "Genelde evde kalan"
        ],
        [
         "2a7e3528-bd56-4f6b-acae-c314bfd970b4",
         "['Okul', 'Hastane', 'Park']",
         "Genelde evde kalan"
        ],
        [
         "2ad4a778-8379-48b8-a3a7-09ce1a245592",
         "['Park', 'Okul', 'Kafe']",
         "Sık sık gezen"
        ],
        [
         "2cafff3f-d853-4bac-8e94-ea0c8dc90e02",
         "['Okul', 'Veteriner']",
         "Genelde evde kalan"
        ],
        [
         "2ec5ae7b-ae83-4a54-92f7-42bd37badf42",
         "['Restoran', 'Okul', 'Ulaşım', 'İçkili Mekan']",
         "Genelde evde kalan"
        ],
        [
         "2fea40c5-e464-4ddf-ab0f-ceeb93836844",
         "['Cami', 'Kamu Kurumu', 'Park']",
         "Genelde evde kalan"
        ],
        [
         "30c55c28-45e8-6980-ad1d-7064b7c84051",
         "['Park', 'Veteriner']",
         "Genelde evde kalan"
        ],
        [
         "30e0503b-8049-46c4-8dbd-3eba42ce5222",
         "['Park', 'Banka']",
         "Sık sık gezen"
        ],
        [
         "31c91da5-8ee8-470f-a365-d9021e632eda",
         "['Kafe', 'Okul', 'Ulaşım']",
         "Genelde evde kalan"
        ],
        [
         "35b845d0-fba5-412a-a8f1-f987fa94ffaa",
         "['Market', 'Okul', 'Otopark', 'Restoran', 'İçkili Mekan']",
         "Genelde evde kalan"
        ],
        [
         "39ed42b2-4f6c-6c6f-185d-6912c0e2151d",
         "['Ulaşım', 'Kafe']",
         "Genelde evde kalan"
        ],
        [
         "3c178966-1b80-4180-8eb9-782c1fb4f718",
         "['Park', 'İçkili Mekan', 'Ulaşım']",
         "Genelde evde kalan"
        ],
        [
         "3ccd8371-c1c6-6d71-180f-578a9366763f",
         "['Okul']",
         "Genelde evde kalan"
        ],
        [
         "3d0d3542-d428-425f-89a2-16e873350b25",
         "['Okul', 'Park']",
         "Genelde evde kalan"
        ],
        [
         "44be75cd-bf73-4cf6-bde3-aba66c2374d3",
         "['Okul', 'Cami', 'Park']",
         "Genelde evde kalan"
        ],
        [
         "44c482d2-d32b-4324-b6ac-acc1c230a2c3",
         "['Hastane']",
         "Genelde evde kalan"
        ],
        [
         "4d4b939f-3f71-4366-aea0-ebfbb1906b9f",
         "['İçkili Mekan', 'Ulaşım']",
         "Genelde evde kalan"
        ],
        [
         "56437dbb-f7c6-48ed-8adf-59fc28147213",
         "['Park', 'Veteriner']",
         "Genelde evde kalan"
        ],
        [
         "5b3760b6-82b0-4057-99ac-b7b56260d977",
         "['Ulaşım']",
         "Genelde evde kalan"
        ],
        [
         "613e61d6-2791-46da-bbd7-e8ce58f57dd1",
         "['Okul', 'Park', 'Restoran']",
         "Genelde evde kalan"
        ],
        [
         "630f0bbd-d1e7-4df3-a8a0-27d4472ce2a3",
         "['Park', 'Okul', 'Ulaşım']",
         "Genelde evde kalan"
        ],
        [
         "64645842-a2d3-4ad5-a818-1b7357a40796",
         "['Hastane', 'Cami', 'Okul', 'Park']",
         "Genelde evde kalan"
        ],
        [
         "6f366300-3042-4f6f-a2eb-2ac694af3fc0",
         "['Market', 'Okul', 'Ulaşım', 'İçkili Mekan']",
         "Genelde evde kalan"
        ],
        [
         "7200a895-bab5-4849-9dd2-07fa602c0f68",
         "['Park', 'Hastane', 'Ulaşım']",
         "Genelde evde kalan"
        ],
        [
         "7277915a-3596-4883-8542-041cd3d81804",
         "['Hastane']",
         "Genelde evde kalan"
        ],
        [
         "77a8c940-cabd-486d-b32d-eb098340d456",
         "['Park']",
         "Sık sık gezen"
        ],
        [
         "7acaaa9b-3513-4e41-aab0-94f12ce0f9ab",
         "['Kamu Kurumu']",
         "Sık sık gezen"
        ],
        [
         "7c74ef44-1623-4567-a98b-6f815f6e2e67",
         "['Park']",
         "Sık sık gezen"
        ],
        [
         "7c8bac3a-7013-42a3-9ea0-962bed540e68",
         "['Hastane', 'Ulaşım']",
         "Genelde evde kalan"
        ],
        [
         "7ea1df8a-9ca6-496f-b98a-faab25980a67",
         "['Okul', 'Park', 'Ulaşım']",
         "Genelde evde kalan"
        ],
        [
         "808d37e8-ebff-451a-adf0-16fc89c66d92",
         "['Park', 'Alışveriş Merkezi']",
         "Genelde evde kalan"
        ],
        [
         "80c4510d-69d0-4715-8e01-0793eb2abe27",
         "['Kafe', 'Park']",
         "Genelde evde kalan"
        ]
       ],
       "shape": {
        "columns": 2,
        "rows": 92
       }
      },
      "text/html": [
       "<div>\n",
       "<style scoped>\n",
       "    .dataframe tbody tr th:only-of-type {\n",
       "        vertical-align: middle;\n",
       "    }\n",
       "\n",
       "    .dataframe tbody tr th {\n",
       "        vertical-align: top;\n",
       "    }\n",
       "\n",
       "    .dataframe thead th {\n",
       "        text-align: right;\n",
       "    }\n",
       "</style>\n",
       "<table border=\"1\" class=\"dataframe\">\n",
       "  <thead>\n",
       "    <tr style=\"text-align: right;\">\n",
       "      <th></th>\n",
       "      <th>favoriler</th>\n",
       "      <th>time_cluster</th>\n",
       "    </tr>\n",
       "    <tr>\n",
       "      <th>device_aid</th>\n",
       "      <th></th>\n",
       "      <th></th>\n",
       "    </tr>\n",
       "  </thead>\n",
       "  <tbody>\n",
       "    <tr>\n",
       "      <th>01069bba-c0ed-4999-8515-22754c3fee3e</th>\n",
       "      <td>[Park]</td>\n",
       "      <td>Sık sık gezen</td>\n",
       "    </tr>\n",
       "    <tr>\n",
       "      <th>02712699-4a57-400b-a04a-d39bd5c8eba1</th>\n",
       "      <td>[Ulaşım, Park, Market]</td>\n",
       "      <td>Genelde evde kalan</td>\n",
       "    </tr>\n",
       "    <tr>\n",
       "      <th>02d49c46-cfba-4bfb-9a46-5fa417c4ac6e</th>\n",
       "      <td>[Park, Okul, Ulaşım]</td>\n",
       "      <td>Sık sık gezen</td>\n",
       "    </tr>\n",
       "    <tr>\n",
       "      <th>05e5adce-840a-430c-81d7-22a7ca96f534</th>\n",
       "      <td>[Park, Okul, İçkili Mekan, Veteriner]</td>\n",
       "      <td>Genelde evde kalan</td>\n",
       "    </tr>\n",
       "    <tr>\n",
       "      <th>0773956e-e6f8-459e-961f-ec1470c80462</th>\n",
       "      <td>[Park, Restoran]</td>\n",
       "      <td>Genelde evde kalan</td>\n",
       "    </tr>\n",
       "    <tr>\n",
       "      <th>...</th>\n",
       "      <td>...</td>\n",
       "      <td>...</td>\n",
       "    </tr>\n",
       "    <tr>\n",
       "      <th>efe3e217-cfb2-4eb9-ad1d-c2680f7fbd91</th>\n",
       "      <td>[Hastane, Park, Restoran, İçkili Mekan]</td>\n",
       "      <td>Genelde evde kalan</td>\n",
       "    </tr>\n",
       "    <tr>\n",
       "      <th>f2102cd7-f776-4adf-a782-b333a2ca8cb6</th>\n",
       "      <td>[Alışveriş Merkezi, Park, Kafe, İçkili Mekan]</td>\n",
       "      <td>Genelde evde kalan</td>\n",
       "    </tr>\n",
       "    <tr>\n",
       "      <th>f3717295-5995-482e-ad4a-58157d2ab66c</th>\n",
       "      <td>[Restoran, Okul, Veteriner, Park]</td>\n",
       "      <td>Genelde evde kalan</td>\n",
       "    </tr>\n",
       "    <tr>\n",
       "      <th>f99030ff-e47c-446a-b0ce-8dc9651a05ca</th>\n",
       "      <td>[Restoran, Okul]</td>\n",
       "      <td>Genelde evde kalan</td>\n",
       "    </tr>\n",
       "    <tr>\n",
       "      <th>fa697609-b068-4af2-8d7d-c3cc53fb128a</th>\n",
       "      <td>[Park, Cami, Okul, Ulaşım]</td>\n",
       "      <td>Genelde evde kalan</td>\n",
       "    </tr>\n",
       "  </tbody>\n",
       "</table>\n",
       "<p>92 rows × 2 columns</p>\n",
       "</div>"
      ],
      "text/plain": [
       "                                                                          favoriler  \\\n",
       "device_aid                                                                            \n",
       "01069bba-c0ed-4999-8515-22754c3fee3e                                         [Park]   \n",
       "02712699-4a57-400b-a04a-d39bd5c8eba1                         [Ulaşım, Park, Market]   \n",
       "02d49c46-cfba-4bfb-9a46-5fa417c4ac6e                           [Park, Okul, Ulaşım]   \n",
       "05e5adce-840a-430c-81d7-22a7ca96f534          [Park, Okul, İçkili Mekan, Veteriner]   \n",
       "0773956e-e6f8-459e-961f-ec1470c80462                               [Park, Restoran]   \n",
       "...                                                                             ...   \n",
       "efe3e217-cfb2-4eb9-ad1d-c2680f7fbd91        [Hastane, Park, Restoran, İçkili Mekan]   \n",
       "f2102cd7-f776-4adf-a782-b333a2ca8cb6  [Alışveriş Merkezi, Park, Kafe, İçkili Mekan]   \n",
       "f3717295-5995-482e-ad4a-58157d2ab66c              [Restoran, Okul, Veteriner, Park]   \n",
       "f99030ff-e47c-446a-b0ce-8dc9651a05ca                               [Restoran, Okul]   \n",
       "fa697609-b068-4af2-8d7d-c3cc53fb128a                     [Park, Cami, Okul, Ulaşım]   \n",
       "\n",
       "                                            time_cluster  \n",
       "device_aid                                                \n",
       "01069bba-c0ed-4999-8515-22754c3fee3e       Sık sık gezen  \n",
       "02712699-4a57-400b-a04a-d39bd5c8eba1  Genelde evde kalan  \n",
       "02d49c46-cfba-4bfb-9a46-5fa417c4ac6e       Sık sık gezen  \n",
       "05e5adce-840a-430c-81d7-22a7ca96f534  Genelde evde kalan  \n",
       "0773956e-e6f8-459e-961f-ec1470c80462  Genelde evde kalan  \n",
       "...                                                  ...  \n",
       "efe3e217-cfb2-4eb9-ad1d-c2680f7fbd91  Genelde evde kalan  \n",
       "f2102cd7-f776-4adf-a782-b333a2ca8cb6  Genelde evde kalan  \n",
       "f3717295-5995-482e-ad4a-58157d2ab66c  Genelde evde kalan  \n",
       "f99030ff-e47c-446a-b0ce-8dc9651a05ca  Genelde evde kalan  \n",
       "fa697609-b068-4af2-8d7d-c3cc53fb128a  Genelde evde kalan  \n",
       "\n",
       "[92 rows x 2 columns]"
      ]
     },
     "execution_count": 18,
     "metadata": {},
     "output_type": "execute_result"
    }
   ],
   "source": [
    "mekan_zaman_pivot"
   ]
  },
  {
   "cell_type": "code",
   "execution_count": 19,
   "id": "6e2c82fb",
   "metadata": {},
   "outputs": [],
   "source": [
    "mekan_zaman_pivot.to_csv(\"id-favoriler-time_cluster.csv\", index=True)"
   ]
  }
 ],
 "metadata": {
  "kernelspec": {
   "display_name": "venv",
   "language": "python",
   "name": "python3"
  },
  "language_info": {
   "codemirror_mode": {
    "name": "ipython",
    "version": 3
   },
   "file_extension": ".py",
   "mimetype": "text/x-python",
   "name": "python",
   "nbconvert_exporter": "python",
   "pygments_lexer": "ipython3",
   "version": "3.12.3"
  }
 },
 "nbformat": 4,
 "nbformat_minor": 5
}
