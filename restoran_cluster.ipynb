{
 "cells": [
  {
   "cell_type": "code",
   "execution_count": 1,
   "id": "38b3b326",
   "metadata": {},
   "outputs": [],
   "source": [
    "import pandas as pd\n",
    "from sklearn.cluster import KMeans\n",
    "import matplotlib.pyplot as plt\n",
    "import seaborn as sns"
   ]
  },
  {
   "cell_type": "code",
   "execution_count": 2,
   "id": "66e1d670",
   "metadata": {},
   "outputs": [
    {
     "data": {
      "application/vnd.microsoft.datawrangler.viewer.v0+json": {
       "columns": [
        {
         "name": "index",
         "rawType": "int64",
         "type": "integer"
        },
        {
         "name": "Enlem",
         "rawType": "float64",
         "type": "float"
        },
        {
         "name": "Boylam",
         "rawType": "float64",
         "type": "float"
        },
        {
         "name": "İlçe",
         "rawType": "object",
         "type": "string"
        },
        {
         "name": "Tür",
         "rawType": "object",
         "type": "string"
        },
        {
         "name": "Modern Değeri",
         "rawType": "int64",
         "type": "integer"
        },
        {
         "name": "Traditional Değeri",
         "rawType": "int64",
         "type": "integer"
        },
        {
         "name": "Hotel Değeri",
         "rawType": "int64",
         "type": "integer"
        },
        {
         "name": "Ortalama Harcama Tutarı",
         "rawType": "float64",
         "type": "float"
        },
        {
         "name": "Restoran Çeşidi",
         "rawType": "object",
         "type": "string"
        },
        {
         "name": "Map Profile Score",
         "rawType": "float64",
         "type": "float"
        },
        {
         "name": "Map Population Score",
         "rawType": "float64",
         "type": "float"
        },
        {
         "name": "Mapin Segment",
         "rawType": "object",
         "type": "string"
        }
       ],
       "ref": "a14fb6a6-3f5a-40ad-b66f-48b45d9202e7",
       "rows": [
        [
         "0",
         "40.99544397",
         "29.02480308",
         "KADIKÖY",
         "HOTEL",
         "5",
         "0",
         "2",
         "750.0",
         "Business",
         null,
         null,
         "H2"
        ],
        [
         "1",
         "40.980917",
         "29.101372",
         "ATAŞEHİR",
         "HOTEL",
         "5",
         "0",
         "1",
         "2000.0",
         "Banket, Event, Etkinlik Oteli",
         null,
         null,
         "H1"
        ],
        [
         "2",
         "41.0540863",
         "29.051875",
         "ÜSKÜDAR",
         "HOTEL",
         "5",
         "0",
         "1",
         "750.0",
         "Diğer (Apart, Pansiyon)",
         null,
         null,
         "H1"
        ],
        [
         "3",
         "41.0191026",
         "28.957953",
         "ÜSKÜDAR",
         "MODERN",
         "4",
         "0",
         "0",
         "750.0",
         "Tekne-Event Hall-Catering",
         "67.1815",
         "54.2895",
         "D4-C"
        ],
        [
         "4",
         "40.9650512",
         "29.0720682",
         "KADIKÖY",
         "MODERN",
         "3",
         "0",
         "0",
         "750.0",
         "Modern Pub & Bistro",
         "77.74050000000001",
         "62.0554",
         "D3-B"
        ],
        [
         "5",
         "40.98879597",
         "29.02450808",
         "KADIKÖY",
         "TRADITIONAL",
         "0",
         "3",
         "0",
         "750.0",
         "Geleneksel Meyhane",
         "63.7168",
         "64.62209999999999",
         "R3-C"
        ],
        [
         "6",
         "40.9891074",
         "29.0281043",
         "KADIKÖY",
         "MODERN",
         "3",
         "0",
         "0",
         "750.0",
         "Modern Pub & Bistro",
         "63.7161",
         "63.82230000000001",
         "D3-C"
        ],
        [
         "7",
         "40.99450499",
         "29.11039467",
         "ATAŞEHİR",
         "TRADITIONAL",
         "0",
         "0",
         "0",
         null,
         "Yeni Nesil Meyhane",
         null,
         null,
         "R0-B"
        ],
        [
         "8",
         "40.9434061",
         "29.1080038",
         "KADIKÖY",
         "TRADITIONAL",
         "0",
         "0",
         "0",
         null,
         "Askeri Birlik-Sosyal Tesis",
         null,
         null,
         "R0-B"
        ],
        [
         "9",
         "41.0011297",
         "29.0553424",
         "KADIKÖY",
         "MODERN",
         "0",
         "0",
         "0",
         null,
         "Modern Pub & Bistro",
         null,
         null,
         "D0-B"
        ],
        [
         "10",
         "40.981571",
         "29.036517",
         "KADIKÖY",
         "TRADITIONAL",
         "0",
         "0",
         "0",
         null,
         "Askeri Birlik-Sosyal Tesis",
         null,
         null,
         "R0-B"
        ],
        [
         "11",
         "40.9651406",
         "29.0884315",
         "ÜMRANİYE",
         "MODERN",
         "0",
         "0",
         "0",
         "2000.0",
         "Pub & Bistro & Kokteyl Bar",
         "80.999",
         "71.25",
         "D2-B"
        ],
        [
         "12",
         "40.99659257",
         "29.1002294",
         "ATAŞEHİR",
         "TRADITIONAL",
         "0",
         "0",
         "0",
         "2000.0",
         "Yeni Nesil Meyhane",
         "0.0",
         "0.0",
         "R3-B"
        ],
        [
         "13",
         "41.008118",
         "29.1796065",
         "ÜMRANİYE",
         "TRADITIONAL",
         "0",
         "0",
         "0",
         "1500.0",
         "Kebap",
         "0.0",
         "0.0",
         "R3-B"
        ],
        [
         "14",
         "40.9980243",
         "29.0997775",
         "ATAŞEHİR",
         "MODERN",
         "2",
         "0",
         "0",
         "750.0",
         "Modern Pub & Bistro",
         "80.1891",
         "93.8504",
         "D2-B"
        ],
        [
         "15",
         "41.0704436",
         "29.0003552",
         "ATAŞEHİR",
         "HOTEL",
         "5",
         "0",
         "2",
         "750.0",
         "Diğer (Apart, Pansiyon)",
         null,
         null,
         "H2"
        ],
        [
         "16",
         "40.9638663",
         "29.0711166",
         "KADIKÖY",
         "MODERN",
         "3",
         "0",
         "0",
         "1500.0",
         "Modern Pub & Bistro",
         null,
         null,
         "D3-A"
        ],
        [
         "17",
         "40.9614002",
         "29.0841554",
         "KADIKÖY",
         "TRADITIONAL",
         "0",
         "4",
         "0",
         "1500.0",
         "Geleneksel Meyhane",
         null,
         null,
         "R4-B"
        ],
        [
         "18",
         "40.9638252",
         "29.0711659",
         "KADIKÖY",
         "TRADITIONAL",
         "0",
         "3",
         "0",
         "2000.0",
         "Geleneksel Meyhane",
         null,
         null,
         "R3-B"
        ],
        [
         "19",
         "40.988424",
         "29.0210756",
         "KADIKÖY",
         "HOTEL",
         "5",
         "0",
         "1",
         null,
         "Banket, Event, Etkinlik Oteli",
         null,
         null,
         "H1"
        ],
        [
         "20",
         "40.9823297",
         "29.1335014",
         "ATAŞEHİR",
         "HOTEL",
         "5",
         "0",
         "1",
         null,
         "Banket, Event, Etkinlik Oteli",
         null,
         null,
         "H1"
        ],
        [
         "21",
         "41.028839",
         "29.017242",
         "ÜSKÜDAR",
         "HOTEL",
         "0",
         "0",
         "1",
         null,
         "Butik Otel",
         null,
         null,
         "H1"
        ],
        [
         "22",
         "40.9756954",
         "29.1484178",
         "ATAŞEHİR",
         "HOTEL",
         "0",
         "0",
         "2",
         null,
         "Lüks Butik Otel",
         null,
         null,
         "H2"
        ],
        [
         "23",
         "41.02840836",
         "29.11632668",
         "ÜMRANİYE",
         "HOTEL",
         "0",
         "0",
         "2",
         null,
         "Banket, Event, Etkinlik Oteli",
         null,
         null,
         "H2"
        ],
        [
         "24",
         "40.97569271",
         "29.14867915",
         "ATAŞEHİR",
         "HOTEL",
         "0",
         "0",
         "2",
         null,
         "Butik Otel",
         null,
         null,
         "H2"
        ],
        [
         "25",
         "40.9756954",
         "29.1484178",
         "ATAŞEHİR",
         "HOTEL",
         "0",
         "0",
         "1",
         null,
         "Diğer (Apart, Pansiyon)",
         null,
         null,
         "H1"
        ],
        [
         "26",
         "40.97584231",
         "29.14873682",
         "ATAŞEHİR",
         "HOTEL",
         "0",
         "0",
         "2",
         null,
         "Lüks Butik Otel",
         null,
         null,
         "H2"
        ],
        [
         "27",
         "41.0540325",
         "29.0493022",
         "ÜSKÜDAR",
         "HOTEL",
         "0",
         "0",
         "1",
         null,
         "Lüks Butik Otel",
         null,
         null,
         "H1"
        ],
        [
         "28",
         "40.9894101",
         "29.0269425",
         "KADIKÖY",
         "MODERN",
         "4",
         "0",
         "0",
         "250.0",
         "Modern Pub & Bistro",
         null,
         null,
         "D4-C"
        ],
        [
         "29",
         "40.9567474",
         "29.0805308",
         "KADIKÖY",
         "HOTEL",
         "5",
         "0",
         "1",
         "750.0",
         "Business",
         null,
         null,
         "H1"
        ],
        [
         "30",
         "40.9562871",
         "29.089683",
         "KADIKÖY",
         "MODERN",
         "1",
         "0",
         "0",
         "750.0",
         "Modern Pub & Bistro",
         null,
         null,
         "D1-A"
        ],
        [
         "31",
         "41.0453262",
         "29.0460872",
         "ÜSKÜDAR",
         "HOTEL",
         "5",
         "0",
         "1",
         "750.0",
         "Banket, Event, Etkinlik Oteli",
         null,
         null,
         "H1"
        ],
        [
         "32",
         "40.9855701",
         "29.1006379",
         "KADIKÖY",
         "MODERN",
         "2",
         "0",
         "0",
         "750.0",
         "Modern Pub & Bistro",
         "82.296",
         "82.9415",
         "D2-B"
        ],
        [
         "33",
         "40.96463821",
         "29.07332479",
         "KADIKÖY",
         "MODERN",
         "2",
         "0",
         "0",
         "750.0",
         "Modern Pub & Bistro",
         "80.7828",
         "93.6529",
         "D2-B"
        ],
        [
         "34",
         "41.0211488",
         "29.0399053",
         "ATAŞEHİR",
         "MODERN",
         "0",
         "0",
         "0",
         null,
         "Modern Pub & Bistro",
         null,
         null,
         "D0-B"
        ],
        [
         "35",
         "40.962326",
         "29.1110334",
         "ATAŞEHİR",
         "HOTEL",
         "0",
         "0",
         "1",
         "750.0",
         "Banket, Event, Etkinlik Oteli",
         null,
         null,
         "H1"
        ],
        [
         "36",
         "40.9910437",
         "29.1159213",
         "ATAŞEHİR",
         "HOTEL",
         "5",
         "0",
         "1",
         "750.0",
         "Banket, Event, Etkinlik Oteli",
         null,
         null,
         "H1"
        ],
        [
         "37",
         "40.99415281",
         "29.11031373",
         "ATAŞEHİR",
         "MODERN",
         "2",
         "0",
         "0",
         "750.0",
         "Modern Pub & Bistro",
         "80.0876",
         "83.973",
         "D2-B"
        ],
        [
         "38",
         "40.9773632",
         "29.0416963",
         "KADIKÖY",
         "HOTEL",
         "5",
         "0",
         "1",
         "750.0",
         "Banket, Event, Etkinlik Oteli",
         null,
         null,
         "H1"
        ],
        [
         "39",
         "40.9538503",
         "29.0937585",
         "KADIKÖY",
         "TRADITIONAL",
         "0",
         "2",
         "0",
         "1500.0",
         "Askeri Birlik-Sosyal Tesis",
         null,
         null,
         "R2-C"
        ],
        [
         "40",
         "40.9926386",
         "29.0432188",
         "KADIKÖY",
         "HOTEL",
         "5",
         "0",
         "2",
         "750.0",
         "Business",
         null,
         null,
         "H2"
        ],
        [
         "41",
         "40.9935082",
         "29.1020667",
         "ATAŞEHİR",
         "HOTEL",
         "0",
         "0",
         "1",
         "2000.0",
         "Banket, Event, Etkinlik Oteli",
         null,
         null,
         "H1"
        ],
        [
         "42",
         "41.030065",
         "29.109058",
         "ÜMRANİYE",
         "HOTEL",
         "5",
         "0",
         "1",
         "750.0",
         "Banket, Event, Etkinlik Oteli",
         null,
         null,
         "H1"
        ],
        [
         "43",
         "40.9984082",
         "29.0999834",
         "ATAŞEHİR",
         "MODERN",
         "2",
         "0",
         "0",
         "750.0",
         "Modern Pub & Bistro",
         "81.6814",
         "84.1073",
         "D2-B"
        ],
        [
         "44",
         "40.9905091",
         "29.0306837",
         "KADIKÖY",
         "MODERN",
         "0",
         "0",
         "0",
         null,
         "Modern Pub & Bistro",
         null,
         null,
         "D0-B"
        ],
        [
         "45",
         "40.979556",
         "29.108225",
         "ATAŞEHİR",
         "HOTEL",
         "5",
         "0",
         "2",
         "750.0",
         "Lüks Butik Otel",
         null,
         null,
         "H2"
        ],
        [
         "46",
         "40.9828175",
         "29.0329325",
         "KADIKÖY",
         "HOTEL",
         "0",
         "0",
         "2",
         "750.0",
         "Butik Otel",
         null,
         null,
         "H2"
        ],
        [
         "47",
         "40.9990395",
         "29.1009386",
         "ATAŞEHİR",
         "MODERN",
         "2",
         "0",
         "0",
         "250.0",
         "Modern Pub & Bistro",
         null,
         null,
         "D2-B"
        ],
        [
         "48",
         "41.0044015",
         "29.0713783",
         "ÜSKÜDAR",
         "MODERN",
         "1",
         "0",
         "0",
         "750.0",
         "Gece Kulübü",
         null,
         null,
         "D1-A"
        ],
        [
         "49",
         "40.9821952",
         "29.0372467",
         "KADIKÖY",
         "TRADITIONAL",
         "0",
         "0",
         "0",
         null,
         "Balık",
         null,
         null,
         "R0-B"
        ]
       ],
       "shape": {
        "columns": 12,
        "rows": 786
       }
      },
      "text/html": [
       "<div>\n",
       "<style scoped>\n",
       "    .dataframe tbody tr th:only-of-type {\n",
       "        vertical-align: middle;\n",
       "    }\n",
       "\n",
       "    .dataframe tbody tr th {\n",
       "        vertical-align: top;\n",
       "    }\n",
       "\n",
       "    .dataframe thead th {\n",
       "        text-align: right;\n",
       "    }\n",
       "</style>\n",
       "<table border=\"1\" class=\"dataframe\">\n",
       "  <thead>\n",
       "    <tr style=\"text-align: right;\">\n",
       "      <th></th>\n",
       "      <th>Enlem</th>\n",
       "      <th>Boylam</th>\n",
       "      <th>İlçe</th>\n",
       "      <th>Tür</th>\n",
       "      <th>Modern Değeri</th>\n",
       "      <th>Traditional Değeri</th>\n",
       "      <th>Hotel Değeri</th>\n",
       "      <th>Ortalama Harcama Tutarı</th>\n",
       "      <th>Restoran Çeşidi</th>\n",
       "      <th>Map Profile Score</th>\n",
       "      <th>Map Population Score</th>\n",
       "      <th>Mapin Segment</th>\n",
       "    </tr>\n",
       "  </thead>\n",
       "  <tbody>\n",
       "    <tr>\n",
       "      <th>0</th>\n",
       "      <td>40.995444</td>\n",
       "      <td>29.024803</td>\n",
       "      <td>KADIKÖY</td>\n",
       "      <td>HOTEL</td>\n",
       "      <td>5</td>\n",
       "      <td>0</td>\n",
       "      <td>2</td>\n",
       "      <td>750.0</td>\n",
       "      <td>Business</td>\n",
       "      <td>NaN</td>\n",
       "      <td>NaN</td>\n",
       "      <td>H2</td>\n",
       "    </tr>\n",
       "    <tr>\n",
       "      <th>1</th>\n",
       "      <td>40.980917</td>\n",
       "      <td>29.101372</td>\n",
       "      <td>ATAŞEHİR</td>\n",
       "      <td>HOTEL</td>\n",
       "      <td>5</td>\n",
       "      <td>0</td>\n",
       "      <td>1</td>\n",
       "      <td>2000.0</td>\n",
       "      <td>Banket, Event, Etkinlik Oteli</td>\n",
       "      <td>NaN</td>\n",
       "      <td>NaN</td>\n",
       "      <td>H1</td>\n",
       "    </tr>\n",
       "    <tr>\n",
       "      <th>2</th>\n",
       "      <td>41.054086</td>\n",
       "      <td>29.051875</td>\n",
       "      <td>ÜSKÜDAR</td>\n",
       "      <td>HOTEL</td>\n",
       "      <td>5</td>\n",
       "      <td>0</td>\n",
       "      <td>1</td>\n",
       "      <td>750.0</td>\n",
       "      <td>Diğer (Apart, Pansiyon)</td>\n",
       "      <td>NaN</td>\n",
       "      <td>NaN</td>\n",
       "      <td>H1</td>\n",
       "    </tr>\n",
       "    <tr>\n",
       "      <th>3</th>\n",
       "      <td>41.019103</td>\n",
       "      <td>28.957953</td>\n",
       "      <td>ÜSKÜDAR</td>\n",
       "      <td>MODERN</td>\n",
       "      <td>4</td>\n",
       "      <td>0</td>\n",
       "      <td>0</td>\n",
       "      <td>750.0</td>\n",
       "      <td>Tekne-Event Hall-Catering</td>\n",
       "      <td>67.1815</td>\n",
       "      <td>54.2895</td>\n",
       "      <td>D4-C</td>\n",
       "    </tr>\n",
       "    <tr>\n",
       "      <th>4</th>\n",
       "      <td>40.965051</td>\n",
       "      <td>29.072068</td>\n",
       "      <td>KADIKÖY</td>\n",
       "      <td>MODERN</td>\n",
       "      <td>3</td>\n",
       "      <td>0</td>\n",
       "      <td>0</td>\n",
       "      <td>750.0</td>\n",
       "      <td>Modern Pub &amp; Bistro</td>\n",
       "      <td>77.7405</td>\n",
       "      <td>62.0554</td>\n",
       "      <td>D3-B</td>\n",
       "    </tr>\n",
       "    <tr>\n",
       "      <th>...</th>\n",
       "      <td>...</td>\n",
       "      <td>...</td>\n",
       "      <td>...</td>\n",
       "      <td>...</td>\n",
       "      <td>...</td>\n",
       "      <td>...</td>\n",
       "      <td>...</td>\n",
       "      <td>...</td>\n",
       "      <td>...</td>\n",
       "      <td>...</td>\n",
       "      <td>...</td>\n",
       "      <td>...</td>\n",
       "    </tr>\n",
       "    <tr>\n",
       "      <th>781</th>\n",
       "      <td>40.976207</td>\n",
       "      <td>29.047311</td>\n",
       "      <td>KADIKÖY</td>\n",
       "      <td>TRADITIONAL</td>\n",
       "      <td>0</td>\n",
       "      <td>0</td>\n",
       "      <td>0</td>\n",
       "      <td>2000.0</td>\n",
       "      <td>Geleneksel Meyhane</td>\n",
       "      <td>73.4570</td>\n",
       "      <td>66.8130</td>\n",
       "      <td>R3-B</td>\n",
       "    </tr>\n",
       "    <tr>\n",
       "      <th>782</th>\n",
       "      <td>40.986261</td>\n",
       "      <td>29.033062</td>\n",
       "      <td>KADIKÖY</td>\n",
       "      <td>MODERN</td>\n",
       "      <td>0</td>\n",
       "      <td>0</td>\n",
       "      <td>0</td>\n",
       "      <td>1500.0</td>\n",
       "      <td>Dg.Mdrn(Tekne,S.Ev,S.house,Ct)</td>\n",
       "      <td>73.3350</td>\n",
       "      <td>64.1790</td>\n",
       "      <td>D3-B</td>\n",
       "    </tr>\n",
       "    <tr>\n",
       "      <th>783</th>\n",
       "      <td>40.940802</td>\n",
       "      <td>29.111243</td>\n",
       "      <td>KADIKÖY</td>\n",
       "      <td>TRADITIONAL</td>\n",
       "      <td>0</td>\n",
       "      <td>0</td>\n",
       "      <td>0</td>\n",
       "      <td>2000.0</td>\n",
       "      <td>Kebap</td>\n",
       "      <td>NaN</td>\n",
       "      <td>NaN</td>\n",
       "      <td>R2-B</td>\n",
       "    </tr>\n",
       "    <tr>\n",
       "      <th>784</th>\n",
       "      <td>41.002037</td>\n",
       "      <td>29.154804</td>\n",
       "      <td>ATAŞEHİR</td>\n",
       "      <td>TRADITIONAL</td>\n",
       "      <td>0</td>\n",
       "      <td>0</td>\n",
       "      <td>0</td>\n",
       "      <td>1500.0</td>\n",
       "      <td>Kebap</td>\n",
       "      <td>NaN</td>\n",
       "      <td>NaN</td>\n",
       "      <td>R3-B</td>\n",
       "    </tr>\n",
       "    <tr>\n",
       "      <th>785</th>\n",
       "      <td>40.965935</td>\n",
       "      <td>29.066313</td>\n",
       "      <td>KADIKÖY</td>\n",
       "      <td>MODERN</td>\n",
       "      <td>0</td>\n",
       "      <td>0</td>\n",
       "      <td>0</td>\n",
       "      <td>1500.0</td>\n",
       "      <td>Fine Dining (D.Mutf-Sar.Evi)</td>\n",
       "      <td>NaN</td>\n",
       "      <td>NaN</td>\n",
       "      <td>D3-B</td>\n",
       "    </tr>\n",
       "  </tbody>\n",
       "</table>\n",
       "<p>786 rows × 12 columns</p>\n",
       "</div>"
      ],
      "text/plain": [
       "         Enlem     Boylam      İlçe          Tür  Modern Değeri  \\\n",
       "0    40.995444  29.024803   KADIKÖY        HOTEL              5   \n",
       "1    40.980917  29.101372  ATAŞEHİR        HOTEL              5   \n",
       "2    41.054086  29.051875   ÜSKÜDAR        HOTEL              5   \n",
       "3    41.019103  28.957953   ÜSKÜDAR       MODERN              4   \n",
       "4    40.965051  29.072068   KADIKÖY       MODERN              3   \n",
       "..         ...        ...       ...          ...            ...   \n",
       "781  40.976207  29.047311   KADIKÖY  TRADITIONAL              0   \n",
       "782  40.986261  29.033062   KADIKÖY       MODERN              0   \n",
       "783  40.940802  29.111243   KADIKÖY  TRADITIONAL              0   \n",
       "784  41.002037  29.154804  ATAŞEHİR  TRADITIONAL              0   \n",
       "785  40.965935  29.066313   KADIKÖY       MODERN              0   \n",
       "\n",
       "     Traditional Değeri  Hotel Değeri  Ortalama Harcama Tutarı  \\\n",
       "0                     0             2                    750.0   \n",
       "1                     0             1                   2000.0   \n",
       "2                     0             1                    750.0   \n",
       "3                     0             0                    750.0   \n",
       "4                     0             0                    750.0   \n",
       "..                  ...           ...                      ...   \n",
       "781                   0             0                   2000.0   \n",
       "782                   0             0                   1500.0   \n",
       "783                   0             0                   2000.0   \n",
       "784                   0             0                   1500.0   \n",
       "785                   0             0                   1500.0   \n",
       "\n",
       "                    Restoran Çeşidi  Map Profile Score  Map Population Score  \\\n",
       "0                          Business                NaN                   NaN   \n",
       "1     Banket, Event, Etkinlik Oteli                NaN                   NaN   \n",
       "2           Diğer (Apart, Pansiyon)                NaN                   NaN   \n",
       "3         Tekne-Event Hall-Catering            67.1815               54.2895   \n",
       "4               Modern Pub & Bistro            77.7405               62.0554   \n",
       "..                              ...                ...                   ...   \n",
       "781              Geleneksel Meyhane            73.4570               66.8130   \n",
       "782  Dg.Mdrn(Tekne,S.Ev,S.house,Ct)            73.3350               64.1790   \n",
       "783                           Kebap                NaN                   NaN   \n",
       "784                           Kebap                NaN                   NaN   \n",
       "785    Fine Dining (D.Mutf-Sar.Evi)                NaN                   NaN   \n",
       "\n",
       "    Mapin Segment  \n",
       "0              H2  \n",
       "1              H1  \n",
       "2              H1  \n",
       "3            D4-C  \n",
       "4            D3-B  \n",
       "..            ...  \n",
       "781          R3-B  \n",
       "782          D3-B  \n",
       "783          R2-B  \n",
       "784          R3-B  \n",
       "785          D3-B  \n",
       "\n",
       "[786 rows x 12 columns]"
      ]
     },
     "execution_count": 2,
     "metadata": {},
     "output_type": "execute_result"
    }
   ],
   "source": [
    "df = pd.read_csv(\"MainData_updated.csv\")\n",
    "df"
   ]
  },
  {
   "cell_type": "code",
   "execution_count": 3,
   "id": "b87ca06d",
   "metadata": {},
   "outputs": [],
   "source": [
    "# Ortalama Harcama Tutarı sütununu medyan değeler ile doldurma\n",
    "df[\"Ortalama Harcama Tutarı\"] = df[\"Ortalama Harcama Tutarı\"].fillna(df[\"Ortalama Harcama Tutarı\"].mean())"
   ]
  },
  {
   "cell_type": "code",
   "execution_count": 4,
   "id": "d40f9f1b",
   "metadata": {},
   "outputs": [],
   "source": [
    "# Map Profile Score ve Map Population Score sütunlarındaki NaN değerlere sahip olan satırları silme\n",
    "df = df.dropna(subset=[\"Map Profile Score\", \"Map Population Score\"])"
   ]
  },
  {
   "cell_type": "code",
   "execution_count": 5,
   "id": "21cf1758",
   "metadata": {},
   "outputs": [],
   "source": [
    "# İlçe | Alternatif A: One-Hot Encoding\n",
    "df = pd.get_dummies(df, columns=['İlçe'], prefix='ilce', dtype=int)"
   ]
  },
  {
   "cell_type": "code",
   "execution_count": 6,
   "id": "16689ef7",
   "metadata": {},
   "outputs": [],
   "source": [
    "\"\"\"\n",
    "Mapin Segment’i kullanma, çünkü:\n",
    "Zaten bağımlı, türetilmiş bir değişken.\n",
    "Map Population Score + Map Profile Score varken fazlalık olabilir.\n",
    "\"\"\"\n",
    "df.drop(columns=[\"Mapin Segment\"], inplace=True)"
   ]
  },
  {
   "cell_type": "code",
   "execution_count": 7,
   "id": "d4bea767",
   "metadata": {},
   "outputs": [
    {
     "name": "stdout",
     "output_type": "stream",
     "text": [
      "Restoran Çeşidi\n",
      "Modern Pub & Bistro               276\n",
      "Kebap                              84\n",
      "Geleneksel Meyhane                 79\n",
      "Balık                              66\n",
      "Yeni Nesil Meyhane                 33\n",
      "Fine Dining (D.Mutf-Şar.Evi)       26\n",
      "Kokteyl Bar                        25\n",
      "Askeri Birlik-Sosyal Tesis         24\n",
      "Gece Kulübü                        23\n",
      "Tekne-Event Hall-Catering          15\n",
      "Geleneksel Birahane                14\n",
      "Pub & Bistro & Kokteyl Bar          3\n",
      "Pavyon                              2\n",
      "Diğer Bistro Cafe                   1\n",
      "Premium Bistro Cafe                 1\n",
      "Banket, Event, Etkinlik Oteli       1\n",
      "Uzak Doğu Mutfağı                   1\n",
      "Dünya Mutfağı                       1\n",
      "Gece Kulübü & Etkinlik              1\n",
      "Dg.Tra(Pav,A.Bir,Sos.T)             1\n",
      "Dg.Mdrn(Tekne,S.Ev,S.house,Ct)      1\n",
      "Name: count, dtype: int64\n",
      "object\n",
      "Restoran Çeşidi\n",
      "Modern Pub & Bistro             276\n",
      "Kebap                            84\n",
      "Geleneksel Meyhane               79\n",
      "Balık                            66\n",
      "Yeni Nesil Meyhane               33\n",
      "Pub & Bistro & Kokteyl Bar       30\n",
      "Fine Dining (D.Mutf-Şar.Evi)     26\n",
      "Gece Kulübü                      26\n",
      "Askeri Birlik-Sosyal Tesis       24\n",
      "Tekne-Event Hall-Catering        16\n",
      "Geleneksel Birahane              14\n",
      "Name: count, dtype: int64\n"
     ]
    }
   ],
   "source": [
    "# Restoran çeşidi sütunu analizi\n",
    "df[\"Restoran Çeşidi\"] = df[\"Restoran Çeşidi\"].astype(str)\n",
    "print(df[\"Restoran Çeşidi\"].value_counts())\n",
    "print(df[\"Restoran Çeşidi\"].dtype)\n",
    "\n",
    "# Restoran Çeşidi sütunundaki bazı değerleri birleştirme\n",
    "df[\"Restoran Çeşidi\"] = df[\"Restoran Çeşidi\"].replace('Diğer Bistro Cafe', 'Pub & Bistro & Kokteyl Bar')\n",
    "df[\"Restoran Çeşidi\"] = df[\"Restoran Çeşidi\"].replace('Kokteyl Bar', 'Pub & Bistro & Kokteyl Bar')\n",
    "df[\"Restoran Çeşidi\"] = df[\"Restoran Çeşidi\"].replace('Premium Bistro Cafe', 'Pub & Bistro & Kokteyl Bar')\n",
    "df[\"Restoran Çeşidi\"] = df[\"Restoran Çeşidi\"].replace('Gece Kulübü & Etkinlik', 'Gece Kulübü')\n",
    "df[\"Restoran Çeşidi\"] = df[\"Restoran Çeşidi\"].replace('Pavyon', 'Gece Kulübü')\n",
    "df[\"Restoran Çeşidi\"] = df[\"Restoran Çeşidi\"].replace('Uzak Doğu Mutfağı', 'Dünya Mutfağı')\n",
    "df[\"Restoran Çeşidi\"] = df[\"Restoran Çeşidi\"].replace('Banket, Event, Etkinlik Oteli', 'Tekne-Event Hall-Catering')\n",
    "\n",
    "# Çok az örneklem bulunan sütunları silme\n",
    "df.drop(df[df[\"Restoran Çeşidi\"] == \"Dünya Mutfağı\"].index, inplace=True)\n",
    "df.drop(df[df[\"Restoran Çeşidi\"] == \"Dg.Tra(Pav,A.Bir,Sos.T)\"].index, inplace=True)\n",
    "df.drop(df[df[\"Restoran Çeşidi\"] == \"Dg.Mdrn(Tekne,S.Ev,S.house,Ct)\"].index, inplace=True)\n",
    "\n",
    "print(df[\"Restoran Çeşidi\"].value_counts())"
   ]
  },
  {
   "cell_type": "code",
   "execution_count": 8,
   "id": "812d329c",
   "metadata": {},
   "outputs": [
    {
     "name": "stdout",
     "output_type": "stream",
     "text": [
      "Hotel Değeri\n",
      "0    673\n",
      "2      1\n",
      "Name: count, dtype: int64\n",
      "Tür\n",
      "MODERN         371\n",
      "TRADITIONAL    302\n",
      "HOTEL            1\n",
      "Name: count, dtype: int64\n",
      "Tür\n",
      "MODERN         371\n",
      "TRADITIONAL    302\n",
      "HOTEL            1\n",
      "Name: count, dtype: int64\n"
     ]
    }
   ],
   "source": [
    "print(df[\"Hotel Değeri\"].value_counts())\n",
    "# Hotel Değeri sütunundaki değerlerin neredeyse hepsi 0 olduğu için bu sütunu kaldırıyoruz\n",
    "df.drop(columns=[\"Hotel Değeri\"], inplace=True)\n",
    "# Tür sütunu analizi\n",
    "print(df[\"Tür\"].value_counts())\n",
    "# Tür sutunundaki değeri Hotel olanı kaldırıyoruz\n",
    "df.drop(df[df[\"Tür\"] == \"Hotel\"].index, inplace=True)\n",
    "print(df[\"Tür\"].value_counts())"
   ]
  },
  {
   "cell_type": "code",
   "execution_count": 9,
   "id": "f92affae",
   "metadata": {},
   "outputs": [],
   "source": [
    "# Map Profile Score 0 ise kaldırıyoruz\n",
    "df.drop(df[df[\"Map Profile Score\"] == 0].index, inplace=True)"
   ]
  },
  {
   "cell_type": "code",
   "execution_count": 10,
   "id": "50465540",
   "metadata": {},
   "outputs": [],
   "source": [
    "# KMeans için X input değeri\n",
    "X = df[[\"Ortalama Harcama Tutarı\", \"Map Profile Score\"]]"
   ]
  },
  {
   "cell_type": "code",
   "execution_count": 11,
   "id": "86f6ed38",
   "metadata": {},
   "outputs": [],
   "source": [
    "# X datasındaki her şeyi normalize etme\n",
    "from sklearn.preprocessing import StandardScaler\n",
    "scaler = StandardScaler()\n",
    "X_scaled = scaler.fit_transform(X)\n",
    "# To DataFrame\n",
    "X = pd.DataFrame(X_scaled, columns=X.columns)"
   ]
  },
  {
   "cell_type": "code",
   "execution_count": 12,
   "id": "764b8d74",
   "metadata": {},
   "outputs": [],
   "source": [
    "df_clean = df.iloc[X.index].copy()"
   ]
  },
  {
   "cell_type": "code",
   "execution_count": 13,
   "id": "e4e2ba0d",
   "metadata": {},
   "outputs": [
    {
     "data": {
      "image/png": "[encoded data removed]",
      "text/plain": [
       "<Figure size 1000x600 with 1 Axes>"
      ]
     },
     "metadata": {},
     "output_type": "display_data"
    }
   ],
   "source": [
    "kmeans = KMeans(n_clusters=3, random_state=42)\n",
    "df_clean['Cluster'] = kmeans.fit_predict(X_scaled)\n",
    "\n",
    "# Görselleştirme: Enlem-Boylam düzleminde scatter plot\n",
    "plt.figure(figsize=(10, 6))\n",
    "sns.scatterplot(data=df_clean, x='Enlem', y='Boylam', hue='Cluster', palette='tab10', s=50)\n",
    "plt.title('KMeans Clustering - Restoranlar (Enlem & Boylam)')\n",
    "plt.xlabel('Boylam')\n",
    "plt.ylabel('Enlem')\n",
    "plt.grid(True)\n",
    "plt.legend(title='Küme')\n",
    "plt.show()"
   ]
  },
  {
   "cell_type": "code",
   "execution_count": 14,
   "id": "9fdf53ae",
   "metadata": {},
   "outputs": [
    {
     "data": {
      "image/png": "[encoded data removed]",
      "text/plain": [
       "<Figure size 800x500 with 1 Axes>"
      ]
     },
     "metadata": {},
     "output_type": "display_data"
    }
   ],
   "source": [
    "# Elbow yöntemi için küme sayıları\n",
    "inertias = []\n",
    "k_values = range(1, 11)\n",
    "\n",
    "for k in k_values:\n",
    "    kmeans = KMeans(n_clusters=k, random_state=42)\n",
    "    kmeans.fit(X)  # Daha önce oluşturduğun X veri seti\n",
    "    inertias.append(kmeans.inertia_)\n",
    "\n",
    "# Grafik\n",
    "plt.figure(figsize=(8, 5))\n",
    "plt.plot(k_values, inertias, marker='o')\n",
    "plt.title('Elbow Yöntemi ile Optimal Küme Sayısı')\n",
    "plt.xlabel('Küme Sayısı (k)')\n",
    "plt.ylabel('Inertia (Toplam Kareler)')\n",
    "plt.grid(True)\n",
    "plt.xticks(k_values)\n",
    "plt.show()"
   ]
  },
  {
   "cell_type": "code",
   "execution_count": 15,
   "id": "3791a1d7",
   "metadata": {},
   "outputs": [],
   "source": [
    "df[\"Cluster\"] = df_clean['Cluster']"
   ]
  },
  {
   "cell_type": "code",
   "execution_count": 16,
   "id": "1835e02a",
   "metadata": {},
   "outputs": [
    {
     "data": {
      "application/vnd.microsoft.datawrangler.viewer.v0+json": {
       "columns": [
        {
         "name": "index",
         "rawType": "int64",
         "type": "integer"
        },
        {
         "name": "Cluster",
         "rawType": "int32",
         "type": "integer"
        },
        {
         "name": "Ortalama Harcama Tutarı",
         "rawType": "float64",
         "type": "float"
        },
        {
         "name": "Map Profile Score",
         "rawType": "float64",
         "type": "float"
        }
       ],
       "ref": "e522c2aa-4ce6-4e56-85a5-d8ad5cdffd17",
       "rows": [
        [
         "3",
         "0",
         "750.0",
         "67.1815"
        ],
        [
         "4",
         "2",
         "750.0",
         "77.74050000000001"
        ],
        [
         "5",
         "0",
         "750.0",
         "63.7168"
        ],
        [
         "6",
         "0",
         "750.0",
         "63.7161"
        ],
        [
         "11",
         "1",
         "2000.0",
         "80.999"
        ],
        [
         "14",
         "2",
         "750.0",
         "80.1891"
        ],
        [
         "32",
         "2",
         "750.0",
         "82.296"
        ],
        [
         "33",
         "2",
         "750.0",
         "80.7828"
        ],
        [
         "37",
         "2",
         "750.0",
         "80.0876"
        ],
        [
         "43",
         "2",
         "750.0",
         "81.6814"
        ],
        [
         "51",
         "2",
         "250.0",
         "77.01509999999999"
        ],
        [
         "57",
         "2",
         "750.0",
         "82.2756"
        ],
        [
         "59",
         "0",
         "794.452347083926",
         "67.9419"
        ],
        [
         "63",
         "2",
         "750.0",
         "80.7807"
        ],
        [
         "64",
         "2",
         "750.0",
         "80.7829"
        ],
        [
         "68",
         "2",
         "794.452347083926",
         "99.8"
        ],
        [
         "69",
         "2",
         "794.452347083926",
         "99.11"
        ],
        [
         "70",
         "2",
         "794.452347083926",
         "98.81"
        ],
        [
         "71",
         "1",
         "1500.0",
         "94.4049"
        ],
        [
         "72",
         "1",
         "2000.0",
         "94.0165"
        ],
        [
         "73",
         "1",
         "2000.0",
         "94.0141"
        ],
        [
         "74",
         "1",
         "1500.0",
         "93.9414"
        ],
        [
         "75",
         "2",
         "750.0",
         "93.8859"
        ],
        [
         "76",
         "1",
         "1500.0",
         "93.7921"
        ],
        [
         "77",
         "1",
         "1500.0",
         "93.75"
        ],
        [
         "78",
         "2",
         "750.0",
         "93.7427"
        ],
        [
         "79",
         "2",
         "750.0",
         "93.7369"
        ],
        [
         "80",
         "2",
         "750.0",
         "93.7244"
        ],
        [
         "81",
         "1",
         "1500.0",
         "93.715"
        ],
        [
         "82",
         "2",
         "750.0",
         "93.7073"
        ],
        [
         "83",
         "2",
         "750.0",
         "93.6974"
        ],
        [
         "84",
         "1",
         "1500.0",
         "93.5778"
        ],
        [
         "85",
         "2",
         "794.452347083926",
         "93.5373"
        ],
        [
         "86",
         "2",
         "750.0",
         "93.5372"
        ],
        [
         "87",
         "2",
         "750.0",
         "93.5303"
        ],
        [
         "88",
         "1",
         "1500.0",
         "93.512"
        ],
        [
         "89",
         "1",
         "1500.0",
         "93.494"
        ],
        [
         "90",
         "1",
         "1500.0",
         "93.4773"
        ],
        [
         "91",
         "1",
         "1500.0",
         "93.4401"
        ],
        [
         "92",
         "1",
         "1500.0",
         "93.3808"
        ],
        [
         "93",
         "2",
         "794.452347083926",
         "93.3595"
        ],
        [
         "94",
         "1",
         "1500.0",
         "93.2979"
        ],
        [
         "95",
         "2",
         "750.0",
         "93.2779"
        ],
        [
         "96",
         "1",
         "1500.0",
         "93.2136"
        ],
        [
         "97",
         "2",
         "794.452347083926",
         "93.2133"
        ],
        [
         "98",
         "1",
         "1500.0",
         "93.1367"
        ],
        [
         "99",
         "1",
         "1500.0",
         "93.0811"
        ],
        [
         "100",
         "1",
         "1500.0",
         "93.0213"
        ],
        [
         "101",
         "1",
         "1500.0",
         "93.0135"
        ],
        [
         "102",
         "2",
         "794.452347083926",
         "93.0127"
        ]
       ],
       "shape": {
        "columns": 3,
        "rows": 671
       }
      },
      "text/html": [
       "<div>\n",
       "<style scoped>\n",
       "    .dataframe tbody tr th:only-of-type {\n",
       "        vertical-align: middle;\n",
       "    }\n",
       "\n",
       "    .dataframe tbody tr th {\n",
       "        vertical-align: top;\n",
       "    }\n",
       "\n",
       "    .dataframe thead th {\n",
       "        text-align: right;\n",
       "    }\n",
       "</style>\n",
       "<table border=\"1\" class=\"dataframe\">\n",
       "  <thead>\n",
       "    <tr style=\"text-align: right;\">\n",
       "      <th></th>\n",
       "      <th>Cluster</th>\n",
       "      <th>Ortalama Harcama Tutarı</th>\n",
       "      <th>Map Profile Score</th>\n",
       "    </tr>\n",
       "  </thead>\n",
       "  <tbody>\n",
       "    <tr>\n",
       "      <th>3</th>\n",
       "      <td>0</td>\n",
       "      <td>750.0</td>\n",
       "      <td>67.1815</td>\n",
       "    </tr>\n",
       "    <tr>\n",
       "      <th>4</th>\n",
       "      <td>2</td>\n",
       "      <td>750.0</td>\n",
       "      <td>77.7405</td>\n",
       "    </tr>\n",
       "    <tr>\n",
       "      <th>5</th>\n",
       "      <td>0</td>\n",
       "      <td>750.0</td>\n",
       "      <td>63.7168</td>\n",
       "    </tr>\n",
       "    <tr>\n",
       "      <th>6</th>\n",
       "      <td>0</td>\n",
       "      <td>750.0</td>\n",
       "      <td>63.7161</td>\n",
       "    </tr>\n",
       "    <tr>\n",
       "      <th>11</th>\n",
       "      <td>1</td>\n",
       "      <td>2000.0</td>\n",
       "      <td>80.9990</td>\n",
       "    </tr>\n",
       "    <tr>\n",
       "      <th>...</th>\n",
       "      <td>...</td>\n",
       "      <td>...</td>\n",
       "      <td>...</td>\n",
       "    </tr>\n",
       "    <tr>\n",
       "      <th>776</th>\n",
       "      <td>0</td>\n",
       "      <td>750.0</td>\n",
       "      <td>64.0230</td>\n",
       "    </tr>\n",
       "    <tr>\n",
       "      <th>777</th>\n",
       "      <td>1</td>\n",
       "      <td>2000.0</td>\n",
       "      <td>71.6820</td>\n",
       "    </tr>\n",
       "    <tr>\n",
       "      <th>778</th>\n",
       "      <td>1</td>\n",
       "      <td>2000.0</td>\n",
       "      <td>74.3270</td>\n",
       "    </tr>\n",
       "    <tr>\n",
       "      <th>779</th>\n",
       "      <td>1</td>\n",
       "      <td>2000.0</td>\n",
       "      <td>87.1730</td>\n",
       "    </tr>\n",
       "    <tr>\n",
       "      <th>781</th>\n",
       "      <td>1</td>\n",
       "      <td>2000.0</td>\n",
       "      <td>73.4570</td>\n",
       "    </tr>\n",
       "  </tbody>\n",
       "</table>\n",
       "<p>671 rows × 3 columns</p>\n",
       "</div>"
      ],
      "text/plain": [
       "     Cluster  Ortalama Harcama Tutarı  Map Profile Score\n",
       "3          0                    750.0            67.1815\n",
       "4          2                    750.0            77.7405\n",
       "5          0                    750.0            63.7168\n",
       "6          0                    750.0            63.7161\n",
       "11         1                   2000.0            80.9990\n",
       "..       ...                      ...                ...\n",
       "776        0                    750.0            64.0230\n",
       "777        1                   2000.0            71.6820\n",
       "778        1                   2000.0            74.3270\n",
       "779        1                   2000.0            87.1730\n",
       "781        1                   2000.0            73.4570\n",
       "\n",
       "[671 rows x 3 columns]"
      ]
     },
     "execution_count": 16,
     "metadata": {},
     "output_type": "execute_result"
    }
   ],
   "source": [
    "df_last = df[[\"Cluster\", \"Ortalama Harcama Tutarı\", \"Map Profile Score\"]]\n",
    "df_last"
   ]
  },
  {
   "cell_type": "code",
   "execution_count": 17,
   "id": "697cb234",
   "metadata": {},
   "outputs": [],
   "source": [
    "df_last = pd.concat([df[[\"Enlem\",\"Boylam\"]], df_last[\"Cluster\"], df[\"Restoran Çeşidi\"]], axis=1)\n",
    "df_last\n",
    "\n",
    "# Cluster 1 ise \"Zengin\"\n",
    "df_last[\"Cluster\"] = df_last[\"Cluster\"].replace(1, \"Zengin Restoran\")\n",
    "# Cluster 2 ise \"Orta Halli\"\n",
    "df_last[\"Cluster\"] = df_last[\"Cluster\"].replace(2, \"Orta Halli Restoran\")\n",
    "# Cluster 0 ise \"Ucuz\"\n",
    "df_last[\"Cluster\"] = df_last[\"Cluster\"].replace(0, \"Ucuz Restoran\")"
   ]
  },
  {
   "cell_type": "code",
   "execution_count": 18,
   "id": "d9717f46",
   "metadata": {},
   "outputs": [
    {
     "data": {
      "application/vnd.microsoft.datawrangler.viewer.v0+json": {
       "columns": [
        {
         "name": "index",
         "rawType": "int64",
         "type": "integer"
        },
        {
         "name": "Enlem",
         "rawType": "float64",
         "type": "float"
        },
        {
         "name": "Boylam",
         "rawType": "float64",
         "type": "float"
        },
        {
         "name": "Cluster",
         "rawType": "object",
         "type": "string"
        },
        {
         "name": "Restoran Çeşidi",
         "rawType": "object",
         "type": "string"
        }
       ],
       "ref": "b425654b-81f7-4893-aff5-d6946cb6106e",
       "rows": [
        [
         "3",
         "41.0191026",
         "28.957953",
         "Ucuz Restoran",
         "Tekne-Event Hall-Catering"
        ],
        [
         "4",
         "40.9650512",
         "29.0720682",
         "Orta Halli Restoran",
         "Modern Pub & Bistro"
        ],
        [
         "5",
         "40.98879597",
         "29.02450808",
         "Ucuz Restoran",
         "Geleneksel Meyhane"
        ],
        [
         "6",
         "40.9891074",
         "29.0281043",
         "Ucuz Restoran",
         "Modern Pub & Bistro"
        ],
        [
         "11",
         "40.9651406",
         "29.0884315",
         "Zengin Restoran",
         "Pub & Bistro & Kokteyl Bar"
        ],
        [
         "14",
         "40.9980243",
         "29.0997775",
         "Orta Halli Restoran",
         "Modern Pub & Bistro"
        ],
        [
         "32",
         "40.9855701",
         "29.1006379",
         "Orta Halli Restoran",
         "Modern Pub & Bistro"
        ],
        [
         "33",
         "40.96463821",
         "29.07332479",
         "Orta Halli Restoran",
         "Modern Pub & Bistro"
        ],
        [
         "37",
         "40.99415281",
         "29.11031373",
         "Orta Halli Restoran",
         "Modern Pub & Bistro"
        ],
        [
         "43",
         "40.9984082",
         "29.0999834",
         "Orta Halli Restoran",
         "Modern Pub & Bistro"
        ],
        [
         "51",
         "40.9902554",
         "29.0253911",
         "Orta Halli Restoran",
         "Balık"
        ],
        [
         "57",
         "40.9937287",
         "29.1228661",
         "Orta Halli Restoran",
         "Modern Pub & Bistro"
        ],
        [
         "59",
         "40.989237",
         "29.0282127",
         "Ucuz Restoran",
         "Geleneksel Meyhane"
        ],
        [
         "63",
         "41.0263634",
         "29.1286955",
         "Orta Halli Restoran",
         "Modern Pub & Bistro"
        ],
        [
         "64",
         "40.96688026",
         "29.06773643",
         "Orta Halli Restoran",
         "Modern Pub & Bistro"
        ],
        [
         "68",
         "40.95795004",
         "29.08185923",
         "Orta Halli Restoran",
         "Pub & Bistro & Kokteyl Bar"
        ],
        [
         "69",
         "40.9697692",
         "29.05331426",
         "Orta Halli Restoran",
         "Askeri Birlik-Sosyal Tesis"
        ],
        [
         "70",
         "40.96484978",
         "29.07149691",
         "Orta Halli Restoran",
         "Pub & Bistro & Kokteyl Bar"
        ],
        [
         "71",
         "40.9734073",
         "29.0984399",
         "Zengin Restoran",
         "Kebap"
        ],
        [
         "72",
         "41.054384",
         "29.052033",
         "Zengin Restoran",
         "Balık"
        ],
        [
         "73",
         "41.0444681",
         "29.0438796",
         "Zengin Restoran",
         "Balık"
        ],
        [
         "74",
         "40.9762786",
         "29.0406828",
         "Zengin Restoran",
         "Balık"
        ],
        [
         "75",
         "41.0036086",
         "29.0708377",
         "Orta Halli Restoran",
         "Modern Pub & Bistro"
        ],
        [
         "76",
         "40.9764706",
         "29.0396014",
         "Zengin Restoran",
         "Kebap"
        ],
        [
         "77",
         "40.9750052",
         "29.0468359",
         "Zengin Restoran",
         "Kebap"
        ],
        [
         "78",
         "40.9864332",
         "29.1037979",
         "Orta Halli Restoran",
         "Kebap"
        ],
        [
         "79",
         "41.0680246",
         "29.0058102",
         "Orta Halli Restoran",
         "Modern Pub & Bistro"
        ],
        [
         "80",
         "40.9955166",
         "29.1071783",
         "Orta Halli Restoran",
         "Kebap"
        ],
        [
         "81",
         "40.9595084",
         "29.07301",
         "Zengin Restoran",
         "Kebap"
        ],
        [
         "82",
         "40.9672799",
         "29.0652276",
         "Orta Halli Restoran",
         "Pub & Bistro & Kokteyl Bar"
        ],
        [
         "83",
         "40.9763135",
         "29.040666",
         "Orta Halli Restoran",
         "Modern Pub & Bistro"
        ],
        [
         "84",
         "41.0323431",
         "29.0402431",
         "Zengin Restoran",
         "Kebap"
        ],
        [
         "85",
         "40.967289",
         "29.065869",
         "Orta Halli Restoran",
         "Fine Dining (D.Mutf-Şar.Evi)"
        ],
        [
         "86",
         "40.9672467",
         "29.0634616",
         "Orta Halli Restoran",
         "Kebap"
        ],
        [
         "87",
         "40.964967",
         "29.072581",
         "Orta Halli Restoran",
         "Modern Pub & Bistro"
        ],
        [
         "88",
         "40.9593499",
         "29.0844223",
         "Zengin Restoran",
         "Modern Pub & Bistro"
        ],
        [
         "89",
         "40.9585258",
         "29.0849589",
         "Zengin Restoran",
         "Fine Dining (D.Mutf-Şar.Evi)"
        ],
        [
         "90",
         "40.9523258",
         "29.0969059",
         "Zengin Restoran",
         "Kebap"
        ],
        [
         "91",
         "40.9675888",
         "29.066129",
         "Zengin Restoran",
         "Kebap"
        ],
        [
         "92",
         "40.9791697",
         "29.0233848",
         "Zengin Restoran",
         "Askeri Birlik-Sosyal Tesis"
        ],
        [
         "93",
         "40.9634236",
         "29.0770693",
         "Orta Halli Restoran",
         "Modern Pub & Bistro"
        ],
        [
         "94",
         "40.9874166",
         "29.1188738",
         "Zengin Restoran",
         "Balık"
        ],
        [
         "95",
         "40.9999627",
         "29.1432002",
         "Orta Halli Restoran",
         "Kebap"
        ],
        [
         "96",
         "40.9718",
         "29.0475",
         "Zengin Restoran",
         "Balık"
        ],
        [
         "97",
         "40.9640945",
         "29.0756064",
         "Orta Halli Restoran",
         "Fine Dining (D.Mutf-Şar.Evi)"
        ],
        [
         "98",
         "40.9896761",
         "29.0283228",
         "Zengin Restoran",
         "Yeni Nesil Meyhane"
        ],
        [
         "99",
         "40.97392",
         "29.046129",
         "Zengin Restoran",
         "Kebap"
        ],
        [
         "100",
         "40.9873587",
         "29.0260049",
         "Zengin Restoran",
         "Fine Dining (D.Mutf-Şar.Evi)"
        ],
        [
         "101",
         "40.9574838",
         "29.0872196",
         "Zengin Restoran",
         "Pub & Bistro & Kokteyl Bar"
        ],
        [
         "102",
         "40.9553719",
         "29.0891683",
         "Orta Halli Restoran",
         "Kebap"
        ]
       ],
       "shape": {
        "columns": 4,
        "rows": 671
       }
      },
      "text/html": [
       "<div>\n",
       "<style scoped>\n",
       "    .dataframe tbody tr th:only-of-type {\n",
       "        vertical-align: middle;\n",
       "    }\n",
       "\n",
       "    .dataframe tbody tr th {\n",
       "        vertical-align: top;\n",
       "    }\n",
       "\n",
       "    .dataframe thead th {\n",
       "        text-align: right;\n",
       "    }\n",
       "</style>\n",
       "<table border=\"1\" class=\"dataframe\">\n",
       "  <thead>\n",
       "    <tr style=\"text-align: right;\">\n",
       "      <th></th>\n",
       "      <th>Enlem</th>\n",
       "      <th>Boylam</th>\n",
       "      <th>Cluster</th>\n",
       "      <th>Restoran Çeşidi</th>\n",
       "    </tr>\n",
       "  </thead>\n",
       "  <tbody>\n",
       "    <tr>\n",
       "      <th>3</th>\n",
       "      <td>41.019103</td>\n",
       "      <td>28.957953</td>\n",
       "      <td>Ucuz Restoran</td>\n",
       "      <td>Tekne-Event Hall-Catering</td>\n",
       "    </tr>\n",
       "    <tr>\n",
       "      <th>4</th>\n",
       "      <td>40.965051</td>\n",
       "      <td>29.072068</td>\n",
       "      <td>Orta Halli Restoran</td>\n",
       "      <td>Modern Pub &amp; Bistro</td>\n",
       "    </tr>\n",
       "    <tr>\n",
       "      <th>5</th>\n",
       "      <td>40.988796</td>\n",
       "      <td>29.024508</td>\n",
       "      <td>Ucuz Restoran</td>\n",
       "      <td>Geleneksel Meyhane</td>\n",
       "    </tr>\n",
       "    <tr>\n",
       "      <th>6</th>\n",
       "      <td>40.989107</td>\n",
       "      <td>29.028104</td>\n",
       "      <td>Ucuz Restoran</td>\n",
       "      <td>Modern Pub &amp; Bistro</td>\n",
       "    </tr>\n",
       "    <tr>\n",
       "      <th>11</th>\n",
       "      <td>40.965141</td>\n",
       "      <td>29.088431</td>\n",
       "      <td>Zengin Restoran</td>\n",
       "      <td>Pub &amp; Bistro &amp; Kokteyl Bar</td>\n",
       "    </tr>\n",
       "    <tr>\n",
       "      <th>...</th>\n",
       "      <td>...</td>\n",
       "      <td>...</td>\n",
       "      <td>...</td>\n",
       "      <td>...</td>\n",
       "    </tr>\n",
       "    <tr>\n",
       "      <th>776</th>\n",
       "      <td>40.988904</td>\n",
       "      <td>29.024390</td>\n",
       "      <td>Ucuz Restoran</td>\n",
       "      <td>Pub &amp; Bistro &amp; Kokteyl Bar</td>\n",
       "    </tr>\n",
       "    <tr>\n",
       "      <th>777</th>\n",
       "      <td>40.940216</td>\n",
       "      <td>29.111933</td>\n",
       "      <td>Zengin Restoran</td>\n",
       "      <td>Yeni Nesil Meyhane</td>\n",
       "    </tr>\n",
       "    <tr>\n",
       "      <th>778</th>\n",
       "      <td>40.965125</td>\n",
       "      <td>29.066295</td>\n",
       "      <td>Zengin Restoran</td>\n",
       "      <td>Geleneksel Meyhane</td>\n",
       "    </tr>\n",
       "    <tr>\n",
       "      <th>779</th>\n",
       "      <td>40.973249</td>\n",
       "      <td>29.040820</td>\n",
       "      <td>Zengin Restoran</td>\n",
       "      <td>Geleneksel Meyhane</td>\n",
       "    </tr>\n",
       "    <tr>\n",
       "      <th>781</th>\n",
       "      <td>40.976207</td>\n",
       "      <td>29.047311</td>\n",
       "      <td>Zengin Restoran</td>\n",
       "      <td>Geleneksel Meyhane</td>\n",
       "    </tr>\n",
       "  </tbody>\n",
       "</table>\n",
       "<p>671 rows × 4 columns</p>\n",
       "</div>"
      ],
      "text/plain": [
       "         Enlem     Boylam              Cluster             Restoran Çeşidi\n",
       "3    41.019103  28.957953        Ucuz Restoran   Tekne-Event Hall-Catering\n",
       "4    40.965051  29.072068  Orta Halli Restoran         Modern Pub & Bistro\n",
       "5    40.988796  29.024508        Ucuz Restoran          Geleneksel Meyhane\n",
       "6    40.989107  29.028104        Ucuz Restoran         Modern Pub & Bistro\n",
       "11   40.965141  29.088431      Zengin Restoran  Pub & Bistro & Kokteyl Bar\n",
       "..         ...        ...                  ...                         ...\n",
       "776  40.988904  29.024390        Ucuz Restoran  Pub & Bistro & Kokteyl Bar\n",
       "777  40.940216  29.111933      Zengin Restoran          Yeni Nesil Meyhane\n",
       "778  40.965125  29.066295      Zengin Restoran          Geleneksel Meyhane\n",
       "779  40.973249  29.040820      Zengin Restoran          Geleneksel Meyhane\n",
       "781  40.976207  29.047311      Zengin Restoran          Geleneksel Meyhane\n",
       "\n",
       "[671 rows x 4 columns]"
      ]
     },
     "execution_count": 18,
     "metadata": {},
     "output_type": "execute_result"
    }
   ],
   "source": [
    "df_last"
   ]
  },
  {
   "cell_type": "code",
   "execution_count": 19,
   "id": "d7f2c172",
   "metadata": {},
   "outputs": [],
   "source": [
    "df_last.to_csv(\"Clustered_Restaurants.csv\", index=False)"
   ]
  },
  {
   "cell_type": "code",
   "execution_count": 20,
   "id": "7fd1eba5",
   "metadata": {},
   "outputs": [
    {
     "data": {
      "application/vnd.microsoft.datawrangler.viewer.v0+json": {
       "columns": [
        {
         "name": "index",
         "rawType": "int64",
         "type": "integer"
        },
        {
         "name": "Enlem",
         "rawType": "float64",
         "type": "float"
        },
        {
         "name": "Boylam",
         "rawType": "float64",
         "type": "float"
        },
        {
         "name": "Cluster",
         "rawType": "object",
         "type": "string"
        },
        {
         "name": "Restoran Çeşidi",
         "rawType": "object",
         "type": "string"
        }
       ],
       "ref": "c5da72d2-9925-49e3-b0fa-794710057cf9",
       "rows": [
        [
         "3",
         "41.0191026",
         "28.957953",
         "Ucuz Restoran",
         "Tekne-Event Hall-Catering"
        ],
        [
         "4",
         "40.9650512",
         "29.0720682",
         "Orta Halli Restoran",
         "Modern Pub & Bistro"
        ],
        [
         "5",
         "40.98879597",
         "29.02450808",
         "Ucuz Restoran",
         "Geleneksel Meyhane"
        ],
        [
         "6",
         "40.9891074",
         "29.0281043",
         "Ucuz Restoran",
         "Modern Pub & Bistro"
        ],
        [
         "11",
         "40.9651406",
         "29.0884315",
         "Zengin Restoran",
         "Pub & Bistro & Kokteyl Bar"
        ],
        [
         "14",
         "40.9980243",
         "29.0997775",
         "Orta Halli Restoran",
         "Modern Pub & Bistro"
        ],
        [
         "32",
         "40.9855701",
         "29.1006379",
         "Orta Halli Restoran",
         "Modern Pub & Bistro"
        ],
        [
         "33",
         "40.96463821",
         "29.07332479",
         "Orta Halli Restoran",
         "Modern Pub & Bistro"
        ],
        [
         "37",
         "40.99415281",
         "29.11031373",
         "Orta Halli Restoran",
         "Modern Pub & Bistro"
        ],
        [
         "43",
         "40.9984082",
         "29.0999834",
         "Orta Halli Restoran",
         "Modern Pub & Bistro"
        ],
        [
         "51",
         "40.9902554",
         "29.0253911",
         "Orta Halli Restoran",
         "Balık"
        ],
        [
         "57",
         "40.9937287",
         "29.1228661",
         "Orta Halli Restoran",
         "Modern Pub & Bistro"
        ],
        [
         "59",
         "40.989237",
         "29.0282127",
         "Ucuz Restoran",
         "Geleneksel Meyhane"
        ],
        [
         "63",
         "41.0263634",
         "29.1286955",
         "Orta Halli Restoran",
         "Modern Pub & Bistro"
        ],
        [
         "64",
         "40.96688026",
         "29.06773643",
         "Orta Halli Restoran",
         "Modern Pub & Bistro"
        ],
        [
         "68",
         "40.95795004",
         "29.08185923",
         "Orta Halli Restoran",
         "Pub & Bistro & Kokteyl Bar"
        ],
        [
         "69",
         "40.9697692",
         "29.05331426",
         "Orta Halli Restoran",
         "Askeri Birlik-Sosyal Tesis"
        ],
        [
         "70",
         "40.96484978",
         "29.07149691",
         "Orta Halli Restoran",
         "Pub & Bistro & Kokteyl Bar"
        ],
        [
         "71",
         "40.9734073",
         "29.0984399",
         "Zengin Restoran",
         "Kebap"
        ],
        [
         "72",
         "41.054384",
         "29.052033",
         "Zengin Restoran",
         "Balık"
        ],
        [
         "73",
         "41.0444681",
         "29.0438796",
         "Zengin Restoran",
         "Balık"
        ],
        [
         "74",
         "40.9762786",
         "29.0406828",
         "Zengin Restoran",
         "Balık"
        ],
        [
         "75",
         "41.0036086",
         "29.0708377",
         "Orta Halli Restoran",
         "Modern Pub & Bistro"
        ],
        [
         "76",
         "40.9764706",
         "29.0396014",
         "Zengin Restoran",
         "Kebap"
        ],
        [
         "77",
         "40.9750052",
         "29.0468359",
         "Zengin Restoran",
         "Kebap"
        ],
        [
         "78",
         "40.9864332",
         "29.1037979",
         "Orta Halli Restoran",
         "Kebap"
        ],
        [
         "79",
         "41.0680246",
         "29.0058102",
         "Orta Halli Restoran",
         "Modern Pub & Bistro"
        ],
        [
         "80",
         "40.9955166",
         "29.1071783",
         "Orta Halli Restoran",
         "Kebap"
        ],
        [
         "81",
         "40.9595084",
         "29.07301",
         "Zengin Restoran",
         "Kebap"
        ],
        [
         "82",
         "40.9672799",
         "29.0652276",
         "Orta Halli Restoran",
         "Pub & Bistro & Kokteyl Bar"
        ],
        [
         "83",
         "40.9763135",
         "29.040666",
         "Orta Halli Restoran",
         "Modern Pub & Bistro"
        ],
        [
         "84",
         "41.0323431",
         "29.0402431",
         "Zengin Restoran",
         "Kebap"
        ],
        [
         "85",
         "40.967289",
         "29.065869",
         "Orta Halli Restoran",
         "Fine Dining (D.Mutf-Şar.Evi)"
        ],
        [
         "86",
         "40.9672467",
         "29.0634616",
         "Orta Halli Restoran",
         "Kebap"
        ],
        [
         "87",
         "40.964967",
         "29.072581",
         "Orta Halli Restoran",
         "Modern Pub & Bistro"
        ],
        [
         "88",
         "40.9593499",
         "29.0844223",
         "Zengin Restoran",
         "Modern Pub & Bistro"
        ],
        [
         "89",
         "40.9585258",
         "29.0849589",
         "Zengin Restoran",
         "Fine Dining (D.Mutf-Şar.Evi)"
        ],
        [
         "90",
         "40.9523258",
         "29.0969059",
         "Zengin Restoran",
         "Kebap"
        ],
        [
         "91",
         "40.9675888",
         "29.066129",
         "Zengin Restoran",
         "Kebap"
        ],
        [
         "92",
         "40.9791697",
         "29.0233848",
         "Zengin Restoran",
         "Askeri Birlik-Sosyal Tesis"
        ],
        [
         "93",
         "40.9634236",
         "29.0770693",
         "Orta Halli Restoran",
         "Modern Pub & Bistro"
        ],
        [
         "94",
         "40.9874166",
         "29.1188738",
         "Zengin Restoran",
         "Balık"
        ],
        [
         "95",
         "40.9999627",
         "29.1432002",
         "Orta Halli Restoran",
         "Kebap"
        ],
        [
         "96",
         "40.9718",
         "29.0475",
         "Zengin Restoran",
         "Balık"
        ],
        [
         "97",
         "40.9640945",
         "29.0756064",
         "Orta Halli Restoran",
         "Fine Dining (D.Mutf-Şar.Evi)"
        ],
        [
         "98",
         "40.9896761",
         "29.0283228",
         "Zengin Restoran",
         "Yeni Nesil Meyhane"
        ],
        [
         "99",
         "40.97392",
         "29.046129",
         "Zengin Restoran",
         "Kebap"
        ],
        [
         "100",
         "40.9873587",
         "29.0260049",
         "Zengin Restoran",
         "Fine Dining (D.Mutf-Şar.Evi)"
        ],
        [
         "101",
         "40.9574838",
         "29.0872196",
         "Zengin Restoran",
         "Pub & Bistro & Kokteyl Bar"
        ],
        [
         "102",
         "40.9553719",
         "29.0891683",
         "Orta Halli Restoran",
         "Kebap"
        ]
       ],
       "shape": {
        "columns": 4,
        "rows": 671
       }
      },
      "text/html": [
       "<div>\n",
       "<style scoped>\n",
       "    .dataframe tbody tr th:only-of-type {\n",
       "        vertical-align: middle;\n",
       "    }\n",
       "\n",
       "    .dataframe tbody tr th {\n",
       "        vertical-align: top;\n",
       "    }\n",
       "\n",
       "    .dataframe thead th {\n",
       "        text-align: right;\n",
       "    }\n",
       "</style>\n",
       "<table border=\"1\" class=\"dataframe\">\n",
       "  <thead>\n",
       "    <tr style=\"text-align: right;\">\n",
       "      <th></th>\n",
       "      <th>Enlem</th>\n",
       "      <th>Boylam</th>\n",
       "      <th>Cluster</th>\n",
       "      <th>Restoran Çeşidi</th>\n",
       "    </tr>\n",
       "  </thead>\n",
       "  <tbody>\n",
       "    <tr>\n",
       "      <th>3</th>\n",
       "      <td>41.019103</td>\n",
       "      <td>28.957953</td>\n",
       "      <td>Ucuz Restoran</td>\n",
       "      <td>Tekne-Event Hall-Catering</td>\n",
       "    </tr>\n",
       "    <tr>\n",
       "      <th>4</th>\n",
       "      <td>40.965051</td>\n",
       "      <td>29.072068</td>\n",
       "      <td>Orta Halli Restoran</td>\n",
       "      <td>Modern Pub &amp; Bistro</td>\n",
       "    </tr>\n",
       "    <tr>\n",
       "      <th>5</th>\n",
       "      <td>40.988796</td>\n",
       "      <td>29.024508</td>\n",
       "      <td>Ucuz Restoran</td>\n",
       "      <td>Geleneksel Meyhane</td>\n",
       "    </tr>\n",
       "    <tr>\n",
       "      <th>6</th>\n",
       "      <td>40.989107</td>\n",
       "      <td>29.028104</td>\n",
       "      <td>Ucuz Restoran</td>\n",
       "      <td>Modern Pub &amp; Bistro</td>\n",
       "    </tr>\n",
       "    <tr>\n",
       "      <th>11</th>\n",
       "      <td>40.965141</td>\n",
       "      <td>29.088431</td>\n",
       "      <td>Zengin Restoran</td>\n",
       "      <td>Pub &amp; Bistro &amp; Kokteyl Bar</td>\n",
       "    </tr>\n",
       "    <tr>\n",
       "      <th>...</th>\n",
       "      <td>...</td>\n",
       "      <td>...</td>\n",
       "      <td>...</td>\n",
       "      <td>...</td>\n",
       "    </tr>\n",
       "    <tr>\n",
       "      <th>776</th>\n",
       "      <td>40.988904</td>\n",
       "      <td>29.024390</td>\n",
       "      <td>Ucuz Restoran</td>\n",
       "      <td>Pub &amp; Bistro &amp; Kokteyl Bar</td>\n",
       "    </tr>\n",
       "    <tr>\n",
       "      <th>777</th>\n",
       "      <td>40.940216</td>\n",
       "      <td>29.111933</td>\n",
       "      <td>Zengin Restoran</td>\n",
       "      <td>Yeni Nesil Meyhane</td>\n",
       "    </tr>\n",
       "    <tr>\n",
       "      <th>778</th>\n",
       "      <td>40.965125</td>\n",
       "      <td>29.066295</td>\n",
       "      <td>Zengin Restoran</td>\n",
       "      <td>Geleneksel Meyhane</td>\n",
       "    </tr>\n",
       "    <tr>\n",
       "      <th>779</th>\n",
       "      <td>40.973249</td>\n",
       "      <td>29.040820</td>\n",
       "      <td>Zengin Restoran</td>\n",
       "      <td>Geleneksel Meyhane</td>\n",
       "    </tr>\n",
       "    <tr>\n",
       "      <th>781</th>\n",
       "      <td>40.976207</td>\n",
       "      <td>29.047311</td>\n",
       "      <td>Zengin Restoran</td>\n",
       "      <td>Geleneksel Meyhane</td>\n",
       "    </tr>\n",
       "  </tbody>\n",
       "</table>\n",
       "<p>671 rows × 4 columns</p>\n",
       "</div>"
      ],
      "text/plain": [
       "         Enlem     Boylam              Cluster             Restoran Çeşidi\n",
       "3    41.019103  28.957953        Ucuz Restoran   Tekne-Event Hall-Catering\n",
       "4    40.965051  29.072068  Orta Halli Restoran         Modern Pub & Bistro\n",
       "5    40.988796  29.024508        Ucuz Restoran          Geleneksel Meyhane\n",
       "6    40.989107  29.028104        Ucuz Restoran         Modern Pub & Bistro\n",
       "11   40.965141  29.088431      Zengin Restoran  Pub & Bistro & Kokteyl Bar\n",
       "..         ...        ...                  ...                         ...\n",
       "776  40.988904  29.024390        Ucuz Restoran  Pub & Bistro & Kokteyl Bar\n",
       "777  40.940216  29.111933      Zengin Restoran          Yeni Nesil Meyhane\n",
       "778  40.965125  29.066295      Zengin Restoran          Geleneksel Meyhane\n",
       "779  40.973249  29.040820      Zengin Restoran          Geleneksel Meyhane\n",
       "781  40.976207  29.047311      Zengin Restoran          Geleneksel Meyhane\n",
       "\n",
       "[671 rows x 4 columns]"
      ]
     },
     "execution_count": 20,
     "metadata": {},
     "output_type": "execute_result"
    }
   ],
   "source": [
    "df_last"
   ]
  }
 ],
 "metadata": {
  "kernelspec": {
   "display_name": "venv",
   "language": "python",
   "name": "python3"
  },
  "language_info": {
   "codemirror_mode": {
    "name": "ipython",
    "version": 3
   },
   "file_extension": ".py",
   "mimetype": "text/x-python",
   "name": "python",
   "nbconvert_exporter": "python",
   "pygments_lexer": "ipython3",
   "version": "3.12.3"
  }
 },
 "nbformat": 4,
 "nbformat_minor": 5
}
