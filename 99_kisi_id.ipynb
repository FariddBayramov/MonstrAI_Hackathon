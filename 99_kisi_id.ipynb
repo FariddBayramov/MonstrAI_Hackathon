{
 "cells": [
  {
   "cell_type": "code",
   "execution_count": 7,
   "id": "bf263472",
   "metadata": {},
   "outputs": [],
   "source": [
    "import dask.dataframe as dd"
   ]
  },
  {
   "cell_type": "code",
   "execution_count": 8,
   "id": "a7e189da",
   "metadata": {},
   "outputs": [],
   "source": [
    "df = dd.read_parquet(\"data/MobilityDataMay2024.paraquet\")"
   ]
  },
  {
   "cell_type": "code",
   "execution_count": 9,
   "id": "db12a473",
   "metadata": {},
   "outputs": [
    {
     "name": "stdout",
     "output_type": "stream",
     "text": [
      "99\n"
     ]
    }
   ],
   "source": [
    "ids = df[\"device_aid\"].head(100).unique().tolist()\n",
    "print(len(ids))"
   ]
  },
  {
   "cell_type": "code",
   "execution_count": 10,
   "id": "ed4bb35f",
   "metadata": {},
   "outputs": [
    {
     "data": {
      "text/plain": [
       "['4d4b939f-3f71-4366-aea0-ebfbb1906b9f',\n",
       " '30c55c28-45e8-6980-ad1d-7064b7c84051',\n",
       " 'd9287169-2268-4958-89dd-192d25dec817',\n",
       " 'e55c0589-0589-4539-9783-f96448f259f2',\n",
       " '35b845d0-fba5-412a-a8f1-f987fa94ffaa',\n",
       " '44be75cd-bf73-4cf6-bde3-aba66c2374d3',\n",
       " '8d3226cc-2960-4dbc-9de3-5130ced2b746',\n",
       " 'c4b4483c-be33-4e67-a6cd-cd8a8465f61d',\n",
       " '2831b99e-0d44-4220-a92b-14d11899ee36',\n",
       " 'db9cda3c-3385-4397-a8b2-615da7b06b8d',\n",
       " '7ea1df8a-9ca6-496f-b98a-faab25980a67',\n",
       " 'ea7cfe9c-bae7-4b1e-a800-e5eb7064bb99',\n",
       " 'ca933e8b-8253-4549-a9f5-5d9fea293f9e',\n",
       " 'e21972df-f04d-4d23-b785-20a3305aca96',\n",
       " '93101c30-a37a-4c0c-af59-e04b61a889d5',\n",
       " '7acaaa9b-3513-4e41-aab0-94f12ce0f9ab',\n",
       " '16e1ec7f-01be-685d-21ef-0091fa1d7e3a',\n",
       " '2ad4a778-8379-48b8-a3a7-09ce1a245592',\n",
       " 'e3bea08a-6b60-48e9-a72f-32c26d82da93',\n",
       " 'b9768f04-9198-46bc-8a58-06f63fdc9626',\n",
       " '3ccd8371-c1c6-6d71-180f-578a9366763f',\n",
       " '152c006d-1cd2-4214-bede-dbef40600b31',\n",
       " '02712699-4a57-400b-a04a-d39bd5c8eba1',\n",
       " '0ed30dd7-671b-468f-9047-11ab8016ca9f',\n",
       " '18d82eca-a739-4a3d-9adc-661ebcc531ee',\n",
       " 'bc9340ed-044e-4180-a316-c864736f80e6',\n",
       " '83cb2c5b-81fd-4c3e-918d-c8a079e76f6c',\n",
       " 'e90971b7-e7e4-4b32-a8be-3378700412a4',\n",
       " '29d09d1a-6346-4c36-b1b1-e77fb8e9afe8',\n",
       " 'f2102cd7-f776-4adf-a782-b333a2ca8cb6',\n",
       " '2cafff3f-d853-4bac-8e94-ea0c8dc90e02',\n",
       " '8bc371a8-a449-405d-8844-7424734f75a7',\n",
       " '7c8bac3a-7013-42a3-9ea0-962bed540e68',\n",
       " 'b13c32c8-cae3-422d-bc18-a9c20f82bed3',\n",
       " '56437dbb-f7c6-48ed-8adf-59fc28147213',\n",
       " '02d49c46-cfba-4bfb-9a46-5fa417c4ac6e',\n",
       " '9a32a154-b9df-4f7d-8815-d351c0606a3c',\n",
       " '27a09610-3cbd-4425-8cc0-e30f9217f6c8',\n",
       " '0773956e-e6f8-459e-961f-ec1470c80462',\n",
       " '1fc9f45f-8b40-48fa-9ee3-8efb1d166b4c',\n",
       " '0fae98ed-dbc3-464c-aa49-11cf57bf5089',\n",
       " '39f3c4df-99c3-4b55-a133-8870d1bd55a6',\n",
       " 'b0cc71d0-d5a1-4e06-941c-1a75a50ef415',\n",
       " '7c74ef44-1623-4567-a98b-6f815f6e2e67',\n",
       " '296a2694-fce6-41c0-a6f9-822def29d9b1',\n",
       " '18d6db6c-c0a3-49b1-bbde-09942dba4969',\n",
       " 'e7c34dd6-912c-4ba5-b324-8d93092434cd',\n",
       " '8ba4d450-63db-4e1d-b4ce-c4df495bb5ba',\n",
       " '630f0bbd-d1e7-4df3-a8a0-27d4472ce2a3',\n",
       " 'f99030ff-e47c-446a-b0ce-8dc9651a05ca',\n",
       " '613e61d6-2791-46da-bbd7-e8ce58f57dd1',\n",
       " 'f3717295-5995-482e-ad4a-58157d2ab66c',\n",
       " 'cf60323a-56a9-4a63-abc1-fc186c5a4eaf',\n",
       " '39ed42b2-4f6c-6c6f-185d-6912c0e2151d',\n",
       " 'e4b72476-4edd-4802-af4e-9b50984b59a5',\n",
       " '992f4683-7fbf-40a2-8bf9-e63da6682681',\n",
       " '05e5adce-840a-430c-81d7-22a7ca96f534',\n",
       " '2fea40c5-e464-4ddf-ab0f-ceeb93836844',\n",
       " 'fa697609-b068-4af2-8d7d-c3cc53fb128a',\n",
       " '7200a895-bab5-4849-9dd2-07fa602c0f68',\n",
       " '80c4510d-69d0-4715-8e01-0793eb2abe27',\n",
       " '103d9479-f7fe-40cc-bb2c-7be268b97ef8',\n",
       " 'a13d0992-5fe0-4bcb-afd7-8328c5015d28',\n",
       " 'cffc15a7-782a-4565-924a-a376b962686b',\n",
       " '7277915a-3596-4883-8542-041cd3d81804',\n",
       " '31c91da5-8ee8-470f-a365-d9021e632eda',\n",
       " 'beb8a7d4-04ce-4987-9c8e-0705ee839966',\n",
       " '2a7e3528-bd56-4f6b-acae-c314bfd970b4',\n",
       " '85f44e99-14d5-4339-bbd3-d9f159c92cd4',\n",
       " '01069bba-c0ed-4999-8515-22754c3fee3e',\n",
       " 'e3f6b42b-add2-4646-a642-e1db08135b78',\n",
       " 'ada81ecd-a569-4c81-8248-d71c2fa6ab0d',\n",
       " '808d37e8-ebff-451a-adf0-16fc89c66d92',\n",
       " '965f9b82-013d-4646-9652-5cde5f7a7863',\n",
       " '2ec5ae7b-ae83-4a54-92f7-42bd37badf42',\n",
       " 'efe3e217-cfb2-4eb9-ad1d-c2680f7fbd91',\n",
       " '8b9d7288-fb75-461c-93b4-219d6af6e47f',\n",
       " 'a47b519d-5552-4df3-95f2-765b0c8bf09d',\n",
       " '44c482d2-d32b-4324-b6ac-acc1c230a2c3',\n",
       " '1c5be4ec-3c19-4335-bf49-b9d4b2b8c482',\n",
       " 'db027f12-a22d-48e3-a535-80d4273b3c3e',\n",
       " '64645842-a2d3-4ad5-a818-1b7357a40796',\n",
       " '0b6f7672-c2e9-4a3b-a157-5d84a2bfb2f5',\n",
       " 'e71ec75b-2859-47a3-96cd-37559392022c',\n",
       " '966a0ee7-4520-4b8f-b227-117631007fc7',\n",
       " '30e0503b-8049-46c4-8dbd-3eba42ce5222',\n",
       " '3c178966-1b80-4180-8eb9-782c1fb4f718',\n",
       " 'e62ce2d2-d9b4-4292-97e5-ff0359df26f8',\n",
       " 'b325652e-f6a6-4db8-8bea-0c9b6fdc7a27',\n",
       " 'a29b6a19-f5aa-6308-abe5-32a13134db62',\n",
       " '77a8c940-cabd-486d-b32d-eb098340d456',\n",
       " '6f366300-3042-4f6f-a2eb-2ac694af3fc0',\n",
       " 'ecdbaa4d-11bc-4283-b84d-864d04531cc5',\n",
       " '3d0d3542-d428-425f-89a2-16e873350b25',\n",
       " 'df4eaae0-baf7-459f-8dae-232918c803c5',\n",
       " '5b3760b6-82b0-4057-99ac-b7b56260d977',\n",
       " 'affaca20-e660-4640-92ac-cb39cdf0434e',\n",
       " '4ff3b4ae-b167-4bf0-ae84-38f791e1b76c',\n",
       " 'cb8cd6eb-3df2-4a63-a145-0e46767e349b']"
      ]
     },
     "execution_count": 10,
     "metadata": {},
     "output_type": "execute_result"
    }
   ],
   "source": [
    "ids"
   ]
  },
  {
   "cell_type": "code",
   "execution_count": 11,
   "id": "d47716fe",
   "metadata": {},
   "outputs": [],
   "source": [
    "with open(\"ids.txt\", \"w\") as f:\n",
    "    for device_id in ids:\n",
    "        f.write(f\"{device_id}\\n\")"
   ]
  }
 ],
 "metadata": {
  "kernelspec": {
   "display_name": "venv",
   "language": "python",
   "name": "python3"
  },
  "language_info": {
   "codemirror_mode": {
    "name": "ipython",
    "version": 3
   },
   "file_extension": ".py",
   "mimetype": "text/x-python",
   "name": "python",
   "nbconvert_exporter": "python",
   "pygments_lexer": "ipython3",
   "version": "3.12.3"
  }
 },
 "nbformat": 4,
 "nbformat_minor": 5
}
