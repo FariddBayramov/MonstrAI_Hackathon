{
 "cells": [
  {
   "cell_type": "code",
   "execution_count": 1,
   "id": "43762662",
   "metadata": {},
   "outputs": [],
   "source": [
    "import pandas as pd\n",
    "import numpy as np"
   ]
  },
  {
   "cell_type": "code",
   "execution_count": 2,
   "id": "a0a36f6f",
   "metadata": {},
   "outputs": [
    {
     "data": {
      "application/vnd.microsoft.datawrangler.viewer.v0+json": {
       "columns": [
        {
         "name": "device_aid",
         "rawType": "object",
         "type": "string"
        },
        {
         "name": "favoriler",
         "rawType": "object",
         "type": "string"
        },
        {
         "name": "time_cluster",
         "rawType": "object",
         "type": "string"
        }
       ],
       "ref": "9454d993-ae90-4438-8a8f-eba37902d8ad",
       "rows": [
        [
         "01069bba-c0ed-4999-8515-22754c3fee3e",
         "['Park']",
         "Az mobil sinyal veren"
        ],
        [
         "02712699-4a57-400b-a04a-d39bd5c8eba1",
         "['Ulaşım', 'Park', 'Market']",
         "Çok mobil sinyal veren"
        ],
        [
         "02d49c46-cfba-4bfb-9a46-5fa417c4ac6e",
         "['Park', 'Okul', 'Ulaşım']",
         "Az mobil sinyal veren"
        ],
        [
         "05e5adce-840a-430c-81d7-22a7ca96f534",
         "['Park', 'Okul', 'İçkili Mekan', 'Veteriner']",
         "Çok mobil sinyal veren"
        ],
        [
         "0773956e-e6f8-459e-961f-ec1470c80462",
         "['Park', 'Restoran']",
         "Çok mobil sinyal veren"
        ],
        [
         "0b6f7672-c2e9-4a3b-a157-5d84a2bfb2f5",
         "['Okul', 'Park']",
         "Çok mobil sinyal veren"
        ],
        [
         "0ed30dd7-671b-468f-9047-11ab8016ca9f",
         "['Market']",
         "Çok mobil sinyal veren"
        ],
        [
         "0fae98ed-dbc3-464c-aa49-11cf57bf5089",
         "['Park', 'Cami']",
         "Çok mobil sinyal veren"
        ],
        [
         "103d9479-f7fe-40cc-bb2c-7be268b97ef8",
         "['Park', 'Hastane', 'Okul']",
         "Çok mobil sinyal veren"
        ],
        [
         "152c006d-1cd2-4214-bede-dbef40600b31",
         "['Ulaşım']",
         "Çok mobil sinyal veren"
        ],
        [
         "16e1ec7f-01be-685d-21ef-0091fa1d7e3a",
         "['Market']",
         "Çok mobil sinyal veren"
        ],
        [
         "18d6db6c-c0a3-49b1-bbde-09942dba4969",
         "['Park', 'Okul']",
         "Çok mobil sinyal veren"
        ],
        [
         "18d82eca-a739-4a3d-9adc-661ebcc531ee",
         "['Park']",
         "Çok mobil sinyal veren"
        ],
        [
         "1c5be4ec-3c19-4335-bf49-b9d4b2b8c482",
         "['İçkili Mekan', 'Park', 'Ulaşım']",
         "Çok mobil sinyal veren"
        ],
        [
         "1fc9f45f-8b40-48fa-9ee3-8efb1d166b4c",
         "['Cami']",
         "Çok mobil sinyal veren"
        ],
        [
         "27a09610-3cbd-4425-8cc0-e30f9217f6c8",
         "['Veteriner', 'Park']",
         "Çok mobil sinyal veren"
        ],
        [
         "2831b99e-0d44-4220-a92b-14d11899ee36",
         "['Market', 'Okul']",
         "Çok mobil sinyal veren"
        ],
        [
         "296a2694-fce6-41c0-a6f9-822def29d9b1",
         "['Banka', 'Veteriner', 'Kafe']",
         "Çok mobil sinyal veren"
        ],
        [
         "29d09d1a-6346-4c36-b1b1-e77fb8e9afe8",
         "['Okul', 'Park']",
         "Çok mobil sinyal veren"
        ],
        [
         "2a7e3528-bd56-4f6b-acae-c314bfd970b4",
         "['Okul', 'Hastane', 'Park']",
         "Çok mobil sinyal veren"
        ],
        [
         "2ad4a778-8379-48b8-a3a7-09ce1a245592",
         "['Park', 'Okul', 'Kafe']",
         "Az mobil sinyal veren"
        ],
        [
         "2cafff3f-d853-4bac-8e94-ea0c8dc90e02",
         "['Okul', 'Veteriner']",
         "Çok mobil sinyal veren"
        ],
        [
         "2ec5ae7b-ae83-4a54-92f7-42bd37badf42",
         "['Restoran', 'Okul', 'Ulaşım', 'İçkili Mekan']",
         "Çok mobil sinyal veren"
        ],
        [
         "2fea40c5-e464-4ddf-ab0f-ceeb93836844",
         "['Cami', 'Kamu Kurumu', 'Park']",
         "Çok mobil sinyal veren"
        ],
        [
         "30c55c28-45e8-6980-ad1d-7064b7c84051",
         "['Park', 'Veteriner']",
         "Çok mobil sinyal veren"
        ],
        [
         "30e0503b-8049-46c4-8dbd-3eba42ce5222",
         "['Park', 'Banka']",
         "Az mobil sinyal veren"
        ],
        [
         "31c91da5-8ee8-470f-a365-d9021e632eda",
         "['Kafe', 'Okul', 'Ulaşım']",
         "Çok mobil sinyal veren"
        ],
        [
         "35b845d0-fba5-412a-a8f1-f987fa94ffaa",
         "['Market', 'Okul', 'Otopark', 'Restoran', 'İçkili Mekan']",
         "Çok mobil sinyal veren"
        ],
        [
         "39ed42b2-4f6c-6c6f-185d-6912c0e2151d",
         "['Ulaşım', 'Kafe']",
         "Çok mobil sinyal veren"
        ],
        [
         "3c178966-1b80-4180-8eb9-782c1fb4f718",
         "['Park', 'İçkili Mekan', 'Ulaşım']",
         "Çok mobil sinyal veren"
        ],
        [
         "3ccd8371-c1c6-6d71-180f-578a9366763f",
         "['Okul']",
         "Çok mobil sinyal veren"
        ],
        [
         "3d0d3542-d428-425f-89a2-16e873350b25",
         "['Okul', 'Park']",
         "Çok mobil sinyal veren"
        ],
        [
         "44be75cd-bf73-4cf6-bde3-aba66c2374d3",
         "['Okul', 'Cami', 'Park']",
         "Çok mobil sinyal veren"
        ],
        [
         "44c482d2-d32b-4324-b6ac-acc1c230a2c3",
         "['Hastane']",
         "Çok mobil sinyal veren"
        ],
        [
         "4d4b939f-3f71-4366-aea0-ebfbb1906b9f",
         "['İçkili Mekan', 'Ulaşım']",
         "Çok mobil sinyal veren"
        ],
        [
         "4ff3b4ae-b167-4bf0-ae84-38f791e1b76c",
         "['Okul']",
         "Çok mobil sinyal veren"
        ],
        [
         "56437dbb-f7c6-48ed-8adf-59fc28147213",
         "['Park', 'Veteriner']",
         "Çok mobil sinyal veren"
        ],
        [
         "5b3760b6-82b0-4057-99ac-b7b56260d977",
         "['Ulaşım']",
         "Çok mobil sinyal veren"
        ],
        [
         "613e61d6-2791-46da-bbd7-e8ce58f57dd1",
         "['Okul', 'Park', 'Restoran']",
         "Çok mobil sinyal veren"
        ],
        [
         "630f0bbd-d1e7-4df3-a8a0-27d4472ce2a3",
         "['Park', 'Okul', 'Ulaşım']",
         "Çok mobil sinyal veren"
        ],
        [
         "64645842-a2d3-4ad5-a818-1b7357a40796",
         "['Hastane', 'Cami', 'Okul', 'Park']",
         "Çok mobil sinyal veren"
        ],
        [
         "6f366300-3042-4f6f-a2eb-2ac694af3fc0",
         "['Market', 'Okul', 'Ulaşım', 'İçkili Mekan']",
         "Çok mobil sinyal veren"
        ],
        [
         "7200a895-bab5-4849-9dd2-07fa602c0f68",
         "['Park', 'Hastane', 'Ulaşım']",
         "Çok mobil sinyal veren"
        ],
        [
         "7277915a-3596-4883-8542-041cd3d81804",
         "['Hastane']",
         "Çok mobil sinyal veren"
        ],
        [
         "77a8c940-cabd-486d-b32d-eb098340d456",
         "['Park']",
         "Az mobil sinyal veren"
        ],
        [
         "7acaaa9b-3513-4e41-aab0-94f12ce0f9ab",
         "['Kamu Kurumu']",
         "Az mobil sinyal veren"
        ],
        [
         "7c74ef44-1623-4567-a98b-6f815f6e2e67",
         "['Park']",
         "Az mobil sinyal veren"
        ],
        [
         "7c8bac3a-7013-42a3-9ea0-962bed540e68",
         "['Hastane', 'Ulaşım']",
         "Çok mobil sinyal veren"
        ],
        [
         "7ea1df8a-9ca6-496f-b98a-faab25980a67",
         "['Okul', 'Park', 'Ulaşım']",
         "Çok mobil sinyal veren"
        ],
        [
         "808d37e8-ebff-451a-adf0-16fc89c66d92",
         "['Park', 'Alışveriş Merkezi']",
         "Çok mobil sinyal veren"
        ]
       ],
       "shape": {
        "columns": 2,
        "rows": 94
       }
      },
      "text/html": [
       "<div>\n",
       "<style scoped>\n",
       "    .dataframe tbody tr th:only-of-type {\n",
       "        vertical-align: middle;\n",
       "    }\n",
       "\n",
       "    .dataframe tbody tr th {\n",
       "        vertical-align: top;\n",
       "    }\n",
       "\n",
       "    .dataframe thead th {\n",
       "        text-align: right;\n",
       "    }\n",
       "</style>\n",
       "<table border=\"1\" class=\"dataframe\">\n",
       "  <thead>\n",
       "    <tr style=\"text-align: right;\">\n",
       "      <th></th>\n",
       "      <th>favoriler</th>\n",
       "      <th>time_cluster</th>\n",
       "    </tr>\n",
       "    <tr>\n",
       "      <th>device_aid</th>\n",
       "      <th></th>\n",
       "      <th></th>\n",
       "    </tr>\n",
       "  </thead>\n",
       "  <tbody>\n",
       "    <tr>\n",
       "      <th>01069bba-c0ed-4999-8515-22754c3fee3e</th>\n",
       "      <td>['Park']</td>\n",
       "      <td>Az mobil sinyal veren</td>\n",
       "    </tr>\n",
       "    <tr>\n",
       "      <th>02712699-4a57-400b-a04a-d39bd5c8eba1</th>\n",
       "      <td>['Ulaşım', 'Park', 'Market']</td>\n",
       "      <td>Çok mobil sinyal veren</td>\n",
       "    </tr>\n",
       "    <tr>\n",
       "      <th>02d49c46-cfba-4bfb-9a46-5fa417c4ac6e</th>\n",
       "      <td>['Park', 'Okul', 'Ulaşım']</td>\n",
       "      <td>Az mobil sinyal veren</td>\n",
       "    </tr>\n",
       "    <tr>\n",
       "      <th>05e5adce-840a-430c-81d7-22a7ca96f534</th>\n",
       "      <td>['Park', 'Okul', 'İçkili Mekan', 'Veteriner']</td>\n",
       "      <td>Çok mobil sinyal veren</td>\n",
       "    </tr>\n",
       "    <tr>\n",
       "      <th>0773956e-e6f8-459e-961f-ec1470c80462</th>\n",
       "      <td>['Park', 'Restoran']</td>\n",
       "      <td>Çok mobil sinyal veren</td>\n",
       "    </tr>\n",
       "    <tr>\n",
       "      <th>...</th>\n",
       "      <td>...</td>\n",
       "      <td>...</td>\n",
       "    </tr>\n",
       "    <tr>\n",
       "      <th>efe3e217-cfb2-4eb9-ad1d-c2680f7fbd91</th>\n",
       "      <td>['Hastane', 'Park', 'Restoran', 'İçkili Mekan']</td>\n",
       "      <td>Çok mobil sinyal veren</td>\n",
       "    </tr>\n",
       "    <tr>\n",
       "      <th>f2102cd7-f776-4adf-a782-b333a2ca8cb6</th>\n",
       "      <td>['Alışveriş Merkezi', 'Park', 'Kafe', 'İçkili ...</td>\n",
       "      <td>Çok mobil sinyal veren</td>\n",
       "    </tr>\n",
       "    <tr>\n",
       "      <th>f3717295-5995-482e-ad4a-58157d2ab66c</th>\n",
       "      <td>['Restoran', 'Okul', 'Veteriner', 'Park']</td>\n",
       "      <td>Çok mobil sinyal veren</td>\n",
       "    </tr>\n",
       "    <tr>\n",
       "      <th>f99030ff-e47c-446a-b0ce-8dc9651a05ca</th>\n",
       "      <td>['Restoran', 'Okul']</td>\n",
       "      <td>Çok mobil sinyal veren</td>\n",
       "    </tr>\n",
       "    <tr>\n",
       "      <th>fa697609-b068-4af2-8d7d-c3cc53fb128a</th>\n",
       "      <td>['Park', 'Cami', 'Okul', 'Ulaşım']</td>\n",
       "      <td>Çok mobil sinyal veren</td>\n",
       "    </tr>\n",
       "  </tbody>\n",
       "</table>\n",
       "<p>94 rows × 2 columns</p>\n",
       "</div>"
      ],
      "text/plain": [
       "                                                                              favoriler  \\\n",
       "device_aid                                                                                \n",
       "01069bba-c0ed-4999-8515-22754c3fee3e                                           ['Park']   \n",
       "02712699-4a57-400b-a04a-d39bd5c8eba1                       ['Ulaşım', 'Park', 'Market']   \n",
       "02d49c46-cfba-4bfb-9a46-5fa417c4ac6e                         ['Park', 'Okul', 'Ulaşım']   \n",
       "05e5adce-840a-430c-81d7-22a7ca96f534      ['Park', 'Okul', 'İçkili Mekan', 'Veteriner']   \n",
       "0773956e-e6f8-459e-961f-ec1470c80462                               ['Park', 'Restoran']   \n",
       "...                                                                                 ...   \n",
       "efe3e217-cfb2-4eb9-ad1d-c2680f7fbd91    ['Hastane', 'Park', 'Restoran', 'İçkili Mekan']   \n",
       "f2102cd7-f776-4adf-a782-b333a2ca8cb6  ['Alışveriş Merkezi', 'Park', 'Kafe', 'İçkili ...   \n",
       "f3717295-5995-482e-ad4a-58157d2ab66c          ['Restoran', 'Okul', 'Veteriner', 'Park']   \n",
       "f99030ff-e47c-446a-b0ce-8dc9651a05ca                               ['Restoran', 'Okul']   \n",
       "fa697609-b068-4af2-8d7d-c3cc53fb128a                 ['Park', 'Cami', 'Okul', 'Ulaşım']   \n",
       "\n",
       "                                                time_cluster  \n",
       "device_aid                                                    \n",
       "01069bba-c0ed-4999-8515-22754c3fee3e   Az mobil sinyal veren  \n",
       "02712699-4a57-400b-a04a-d39bd5c8eba1  Çok mobil sinyal veren  \n",
       "02d49c46-cfba-4bfb-9a46-5fa417c4ac6e   Az mobil sinyal veren  \n",
       "05e5adce-840a-430c-81d7-22a7ca96f534  Çok mobil sinyal veren  \n",
       "0773956e-e6f8-459e-961f-ec1470c80462  Çok mobil sinyal veren  \n",
       "...                                                      ...  \n",
       "efe3e217-cfb2-4eb9-ad1d-c2680f7fbd91  Çok mobil sinyal veren  \n",
       "f2102cd7-f776-4adf-a782-b333a2ca8cb6  Çok mobil sinyal veren  \n",
       "f3717295-5995-482e-ad4a-58157d2ab66c  Çok mobil sinyal veren  \n",
       "f99030ff-e47c-446a-b0ce-8dc9651a05ca  Çok mobil sinyal veren  \n",
       "fa697609-b068-4af2-8d7d-c3cc53fb128a  Çok mobil sinyal veren  \n",
       "\n",
       "[94 rows x 2 columns]"
      ]
     },
     "execution_count": 2,
     "metadata": {},
     "output_type": "execute_result"
    }
   ],
   "source": [
    "data = pd.read_csv('id-favoriler-time_cluster.csv', index_col=\"device_aid\")\n",
    "data"
   ]
  },
  {
   "cell_type": "code",
   "execution_count": 3,
   "id": "9f8bc8eb",
   "metadata": {},
   "outputs": [
    {
     "data": {
      "application/vnd.microsoft.datawrangler.viewer.v0+json": {
       "columns": [
        {
         "name": "device_aid",
         "rawType": "object",
         "type": "string"
        },
        {
         "name": "oturdugu_mahalle",
         "rawType": "object",
         "type": "string"
        },
        {
         "name": "rich_score",
         "rawType": "float64",
         "type": "float"
        }
       ],
       "ref": "f70e0a80-155d-4cd2-9e97-05ac47081ca8",
       "rows": [
        [
         "01069bba-c0ed-4999-8515-22754c3fee3e",
         "Atatürk Mahallesi",
         "42.85028708120597"
        ],
        [
         "02712699-4a57-400b-a04a-d39bd5c8eba1",
         "İçerenköy Mahallesi",
         "12.61497893359286"
        ],
        [
         "02d49c46-cfba-4bfb-9a46-5fa417c4ac6e",
         "Barbaros Mahallesi",
         "33.3070623686282"
        ],
        [
         "05e5adce-840a-430c-81d7-22a7ca96f534",
         "Suadiye Mahallesi",
         "27.7690446460236"
        ],
        [
         "0773956e-e6f8-459e-961f-ec1470c80462",
         "Yenişehir Mahallesi",
         "18.919473915443547"
        ],
        [
         "0b6f7672-c2e9-4a3b-a157-5d84a2bfb2f5",
         "Tatlısu Mahallesi",
         "0.0"
        ],
        [
         "0ed30dd7-671b-468f-9047-11ab8016ca9f",
         "Atatürk Mahallesi",
         "11.175016790117605"
        ],
        [
         "0fae98ed-dbc3-464c-aa49-11cf57bf5089",
         "Sahrayıcedit Mahallesi",
         "11.175016790117605"
        ],
        [
         "103d9479-f7fe-40cc-bb2c-7be268b97ef8",
         "Esatpaşa Mahallesi",
         "0.0"
        ],
        [
         "152c006d-1cd2-4214-bede-dbef40600b31",
         "Çakmak Mahallesi",
         "0.0"
        ],
        [
         "16e1ec7f-01be-685d-21ef-0091fa1d7e3a",
         "Örnek Mahallesi",
         "0.0"
        ],
        [
         "18d6db6c-c0a3-49b1-bbde-09942dba4969",
         "İçerenköy Mahallesi",
         "11.175016790117605"
        ],
        [
         "18d82eca-a739-4a3d-9adc-661ebcc531ee",
         "19 Mayıs Mahallesi",
         "11.175016790117605"
        ],
        [
         "1c5be4ec-3c19-4335-bf49-b9d4b2b8c482",
         "Kozyatağı Mahallesi",
         "12.488540107970865"
        ],
        [
         "1fc9f45f-8b40-48fa-9ee3-8efb1d166b4c",
         "Selami Ali Mahallesi",
         "11.175016790117605"
        ],
        [
         "27a09610-3cbd-4425-8cc0-e30f9217f6c8",
         "Barbaros Mahallesi",
         "18.919473915443547"
        ],
        [
         "2831b99e-0d44-4220-a92b-14d11899ee36",
         "Atatürk Mahallesi",
         "11.175016790117605"
        ],
        [
         "296a2694-fce6-41c0-a6f9-822def29d9b1",
         "Göztepe Mahallesi",
         "11.175016790117605"
        ],
        [
         "29d09d1a-6346-4c36-b1b1-e77fb8e9afe8",
         "Esenkent Mahallesi",
         "6.636294316828906"
        ],
        [
         "2a7e3528-bd56-4f6b-acae-c314bfd970b4",
         "Esatpaşa Mahallesi",
         "18.592310429390533"
        ],
        [
         "2ad4a778-8379-48b8-a3a7-09ce1a245592",
         "Merdivenköy Mahallesi",
         "24.447605423775418"
        ],
        [
         "2cafff3f-d853-4bac-8e94-ea0c8dc90e02",
         "Namık Kemal Mahallesi",
         "5.587508395058801"
        ],
        [
         "2ec5ae7b-ae83-4a54-92f7-42bd37badf42",
         "Caferağa Mahallesi",
         "43.94576735554968"
        ],
        [
         "2fea40c5-e464-4ddf-ab0f-ceeb93836844",
         "Mimar Sinan Mahallesi",
         "11.831778449044233"
        ],
        [
         "30c55c28-45e8-6980-ad1d-7064b7c84051",
         "Sahrayıcedit Mahallesi",
         "18.26271225651692"
        ],
        [
         "30e0503b-8049-46c4-8dbd-3eba42ce5222",
         "Finanskent Mahallesi",
         "78.29161085771747"
        ],
        [
         "31c91da5-8ee8-470f-a365-d9021e632eda",
         "Göztepe Mahallesi",
         "11.175016790117605"
        ],
        [
         "35b845d0-fba5-412a-a8f1-f987fa94ffaa",
         "Atatürk Mahallesi",
         "14.70486572496494"
        ],
        [
         "39ed42b2-4f6c-6c6f-185d-6912c0e2151d",
         "Mehmet Akif Ersoy Mahallesi",
         "11.175016790117605"
        ],
        [
         "39f3c4df-99c3-4b55-a133-8870d1bd55a6",
         "Dudullu OSB Mahallesi",
         "11.175016790117605"
        ],
        [
         "3c178966-1b80-4180-8eb9-782c1fb4f718",
         "Suadiye Mahallesi",
         "33.094864848242175"
        ],
        [
         "3ccd8371-c1c6-6d71-180f-578a9366763f",
         "Feneryolu Mahallesi",
         "11.175016790117605"
        ],
        [
         "3d0d3542-d428-425f-89a2-16e873350b25",
         "Kandilli Mahallesi",
         "18.26271225651692"
        ],
        [
         "44be75cd-bf73-4cf6-bde3-aba66c2374d3",
         "Dumlupınar Mahallesi",
         "11.175016790117605"
        ],
        [
         "44c482d2-d32b-4324-b6ac-acc1c230a2c3",
         "Merdivenköy Mahallesi",
         "11.175016790117605"
        ],
        [
         "4d4b939f-3f71-4366-aea0-ebfbb1906b9f",
         "Caferağa Mahallesi",
         "41.07004755123098"
        ],
        [
         "4ff3b4ae-b167-4bf0-ae84-38f791e1b76c",
         "Esatpaşa Mahallesi",
         "0.0"
        ],
        [
         "56437dbb-f7c6-48ed-8adf-59fc28147213",
         "Fenerbahçe Mahallesi",
         "13.391342407111678"
        ],
        [
         "5b3760b6-82b0-4057-99ac-b7b56260d977",
         "Yukarı Dudullu Mahallesi",
         "0.0"
        ],
        [
         "613e61d6-2791-46da-bbd7-e8ce58f57dd1",
         "Kayışdağı Mahallesi",
         "1.1081628084970374"
        ],
        [
         "630f0bbd-d1e7-4df3-a8a0-27d4472ce2a3",
         "Burhaniye Mahallesi",
         "11.831778449044233"
        ],
        [
         "64645842-a2d3-4ad5-a818-1b7357a40796",
         "Cumhuriyet Mahallesi",
         "13.391342407111678"
        ],
        [
         "6f366300-3042-4f6f-a2eb-2ac694af3fc0",
         "Erenköy Mahallesi",
         "12.28317959861464"
        ],
        [
         "7200a895-bab5-4849-9dd2-07fa602c0f68",
         "Muratreis Mahallesi",
         "11.175016790117605"
        ],
        [
         "7277915a-3596-4883-8542-041cd3d81804",
         "Zühtüpaşa Mahallesi",
         "12.28317959861464"
        ],
        [
         "77a8c940-cabd-486d-b32d-eb098340d456",
         "Barbaros Mahallesi",
         "100.0"
        ],
        [
         "7acaaa9b-3513-4e41-aab0-94f12ce0f9ab",
         "Cumhuriyet Mahallesi",
         "17.15454944801988"
        ],
        [
         "7c74ef44-1623-4567-a98b-6f815f6e2e67",
         "İçerenköy Mahallesi",
         "11.175016790117605"
        ],
        [
         "7c8bac3a-7013-42a3-9ea0-962bed540e68",
         "İçerenköy Mahallesi",
         "12.28317959861464"
        ],
        [
         "7ea1df8a-9ca6-496f-b98a-faab25980a67",
         "Merdivenköy Mahallesi",
         "23.78779456160586"
        ]
       ],
       "shape": {
        "columns": 2,
        "rows": 99
       }
      },
      "text/html": [
       "<div>\n",
       "<style scoped>\n",
       "    .dataframe tbody tr th:only-of-type {\n",
       "        vertical-align: middle;\n",
       "    }\n",
       "\n",
       "    .dataframe tbody tr th {\n",
       "        vertical-align: top;\n",
       "    }\n",
       "\n",
       "    .dataframe thead th {\n",
       "        text-align: right;\n",
       "    }\n",
       "</style>\n",
       "<table border=\"1\" class=\"dataframe\">\n",
       "  <thead>\n",
       "    <tr style=\"text-align: right;\">\n",
       "      <th></th>\n",
       "      <th>oturdugu_mahalle</th>\n",
       "      <th>rich_score</th>\n",
       "    </tr>\n",
       "    <tr>\n",
       "      <th>device_aid</th>\n",
       "      <th></th>\n",
       "      <th></th>\n",
       "    </tr>\n",
       "  </thead>\n",
       "  <tbody>\n",
       "    <tr>\n",
       "      <th>01069bba-c0ed-4999-8515-22754c3fee3e</th>\n",
       "      <td>Atatürk Mahallesi</td>\n",
       "      <td>42.850287</td>\n",
       "    </tr>\n",
       "    <tr>\n",
       "      <th>02712699-4a57-400b-a04a-d39bd5c8eba1</th>\n",
       "      <td>İçerenköy Mahallesi</td>\n",
       "      <td>12.614979</td>\n",
       "    </tr>\n",
       "    <tr>\n",
       "      <th>02d49c46-cfba-4bfb-9a46-5fa417c4ac6e</th>\n",
       "      <td>Barbaros Mahallesi</td>\n",
       "      <td>33.307062</td>\n",
       "    </tr>\n",
       "    <tr>\n",
       "      <th>05e5adce-840a-430c-81d7-22a7ca96f534</th>\n",
       "      <td>Suadiye Mahallesi</td>\n",
       "      <td>27.769045</td>\n",
       "    </tr>\n",
       "    <tr>\n",
       "      <th>0773956e-e6f8-459e-961f-ec1470c80462</th>\n",
       "      <td>Yenişehir Mahallesi</td>\n",
       "      <td>18.919474</td>\n",
       "    </tr>\n",
       "    <tr>\n",
       "      <th>...</th>\n",
       "      <td>...</td>\n",
       "      <td>...</td>\n",
       "    </tr>\n",
       "    <tr>\n",
       "      <th>efe3e217-cfb2-4eb9-ad1d-c2680f7fbd91</th>\n",
       "      <td>Fenerbahçe Mahallesi</td>\n",
       "      <td>18.262712</td>\n",
       "    </tr>\n",
       "    <tr>\n",
       "      <th>f2102cd7-f776-4adf-a782-b333a2ca8cb6</th>\n",
       "      <td>Tepeüstü Mahallesi</td>\n",
       "      <td>5.540814</td>\n",
       "    </tr>\n",
       "    <tr>\n",
       "      <th>f3717295-5995-482e-ad4a-58157d2ab66c</th>\n",
       "      <td>Tepeüstü Mahallesi</td>\n",
       "      <td>10.630227</td>\n",
       "    </tr>\n",
       "    <tr>\n",
       "      <th>f99030ff-e47c-446a-b0ce-8dc9651a05ca</th>\n",
       "      <td>Dudullu OSB Mahallesi</td>\n",
       "      <td>13.145302</td>\n",
       "    </tr>\n",
       "    <tr>\n",
       "      <th>fa697609-b068-4af2-8d7d-c3cc53fb128a</th>\n",
       "      <td>Bostancı Mahallesi</td>\n",
       "      <td>11.175017</td>\n",
       "    </tr>\n",
       "  </tbody>\n",
       "</table>\n",
       "<p>99 rows × 2 columns</p>\n",
       "</div>"
      ],
      "text/plain": [
       "                                           oturdugu_mahalle  rich_score\n",
       "device_aid                                                             \n",
       "01069bba-c0ed-4999-8515-22754c3fee3e      Atatürk Mahallesi   42.850287\n",
       "02712699-4a57-400b-a04a-d39bd5c8eba1    İçerenköy Mahallesi   12.614979\n",
       "02d49c46-cfba-4bfb-9a46-5fa417c4ac6e     Barbaros Mahallesi   33.307062\n",
       "05e5adce-840a-430c-81d7-22a7ca96f534      Suadiye Mahallesi   27.769045\n",
       "0773956e-e6f8-459e-961f-ec1470c80462    Yenişehir Mahallesi   18.919474\n",
       "...                                                     ...         ...\n",
       "efe3e217-cfb2-4eb9-ad1d-c2680f7fbd91   Fenerbahçe Mahallesi   18.262712\n",
       "f2102cd7-f776-4adf-a782-b333a2ca8cb6     Tepeüstü Mahallesi    5.540814\n",
       "f3717295-5995-482e-ad4a-58157d2ab66c     Tepeüstü Mahallesi   10.630227\n",
       "f99030ff-e47c-446a-b0ce-8dc9651a05ca  Dudullu OSB Mahallesi   13.145302\n",
       "fa697609-b068-4af2-8d7d-c3cc53fb128a     Bostancı Mahallesi   11.175017\n",
       "\n",
       "[99 rows x 2 columns]"
      ]
     },
     "execution_count": 3,
     "metadata": {},
     "output_type": "execute_result"
    }
   ],
   "source": [
    "rich_scores = pd.read_csv(\"id-mahalle-rich_score.csv\", index_col=\"device_aid\")\n",
    "rich_scores"
   ]
  },
  {
   "cell_type": "code",
   "execution_count": 4,
   "id": "0795c690",
   "metadata": {},
   "outputs": [
    {
     "data": {
      "application/vnd.microsoft.datawrangler.viewer.v0+json": {
       "columns": [
        {
         "name": "device_aid",
         "rawType": "object",
         "type": "string"
        },
        {
         "name": "favoriler",
         "rawType": "object",
         "type": "unknown"
        },
        {
         "name": "time_cluster",
         "rawType": "object",
         "type": "unknown"
        },
        {
         "name": "oturdugu_mahalle",
         "rawType": "object",
         "type": "string"
        },
        {
         "name": "rich_score",
         "rawType": "float64",
         "type": "float"
        }
       ],
       "ref": "e95925f6-adef-45bf-9abe-29c78f3743e1",
       "rows": [
        [
         "01069bba-c0ed-4999-8515-22754c3fee3e",
         "['Park']",
         "Az mobil sinyal veren",
         "Atatürk Mahallesi",
         "42.85028708120597"
        ],
        [
         "02712699-4a57-400b-a04a-d39bd5c8eba1",
         "['Ulaşım', 'Park', 'Market']",
         "Çok mobil sinyal veren",
         "İçerenköy Mahallesi",
         "12.61497893359286"
        ],
        [
         "02d49c46-cfba-4bfb-9a46-5fa417c4ac6e",
         "['Park', 'Okul', 'Ulaşım']",
         "Az mobil sinyal veren",
         "Barbaros Mahallesi",
         "33.3070623686282"
        ],
        [
         "05e5adce-840a-430c-81d7-22a7ca96f534",
         "['Park', 'Okul', 'İçkili Mekan', 'Veteriner']",
         "Çok mobil sinyal veren",
         "Suadiye Mahallesi",
         "27.7690446460236"
        ],
        [
         "0773956e-e6f8-459e-961f-ec1470c80462",
         "['Park', 'Restoran']",
         "Çok mobil sinyal veren",
         "Yenişehir Mahallesi",
         "18.919473915443547"
        ],
        [
         "0b6f7672-c2e9-4a3b-a157-5d84a2bfb2f5",
         "['Okul', 'Park']",
         "Çok mobil sinyal veren",
         "Tatlısu Mahallesi",
         "0.0"
        ],
        [
         "0ed30dd7-671b-468f-9047-11ab8016ca9f",
         "['Market']",
         "Çok mobil sinyal veren",
         "Atatürk Mahallesi",
         "11.175016790117605"
        ],
        [
         "0fae98ed-dbc3-464c-aa49-11cf57bf5089",
         "['Park', 'Cami']",
         "Çok mobil sinyal veren",
         "Sahrayıcedit Mahallesi",
         "11.175016790117605"
        ],
        [
         "103d9479-f7fe-40cc-bb2c-7be268b97ef8",
         "['Park', 'Hastane', 'Okul']",
         "Çok mobil sinyal veren",
         "Esatpaşa Mahallesi",
         "0.0"
        ],
        [
         "152c006d-1cd2-4214-bede-dbef40600b31",
         "['Ulaşım']",
         "Çok mobil sinyal veren",
         "Çakmak Mahallesi",
         "0.0"
        ],
        [
         "16e1ec7f-01be-685d-21ef-0091fa1d7e3a",
         "['Market']",
         "Çok mobil sinyal veren",
         "Örnek Mahallesi",
         "0.0"
        ],
        [
         "18d6db6c-c0a3-49b1-bbde-09942dba4969",
         "['Park', 'Okul']",
         "Çok mobil sinyal veren",
         "İçerenköy Mahallesi",
         "11.175016790117605"
        ],
        [
         "18d82eca-a739-4a3d-9adc-661ebcc531ee",
         "['Park']",
         "Çok mobil sinyal veren",
         "19 Mayıs Mahallesi",
         "11.175016790117605"
        ],
        [
         "1c5be4ec-3c19-4335-bf49-b9d4b2b8c482",
         "['İçkili Mekan', 'Park', 'Ulaşım']",
         "Çok mobil sinyal veren",
         "Kozyatağı Mahallesi",
         "12.488540107970865"
        ],
        [
         "1fc9f45f-8b40-48fa-9ee3-8efb1d166b4c",
         "['Cami']",
         "Çok mobil sinyal veren",
         "Selami Ali Mahallesi",
         "11.175016790117605"
        ],
        [
         "27a09610-3cbd-4425-8cc0-e30f9217f6c8",
         "['Veteriner', 'Park']",
         "Çok mobil sinyal veren",
         "Barbaros Mahallesi",
         "18.919473915443547"
        ],
        [
         "2831b99e-0d44-4220-a92b-14d11899ee36",
         "['Market', 'Okul']",
         "Çok mobil sinyal veren",
         "Atatürk Mahallesi",
         "11.175016790117605"
        ],
        [
         "296a2694-fce6-41c0-a6f9-822def29d9b1",
         "['Banka', 'Veteriner', 'Kafe']",
         "Çok mobil sinyal veren",
         "Göztepe Mahallesi",
         "11.175016790117605"
        ],
        [
         "29d09d1a-6346-4c36-b1b1-e77fb8e9afe8",
         "['Okul', 'Park']",
         "Çok mobil sinyal veren",
         "Esenkent Mahallesi",
         "6.636294316828906"
        ],
        [
         "2a7e3528-bd56-4f6b-acae-c314bfd970b4",
         "['Okul', 'Hastane', 'Park']",
         "Çok mobil sinyal veren",
         "Esatpaşa Mahallesi",
         "18.592310429390533"
        ],
        [
         "2ad4a778-8379-48b8-a3a7-09ce1a245592",
         "['Park', 'Okul', 'Kafe']",
         "Az mobil sinyal veren",
         "Merdivenköy Mahallesi",
         "24.447605423775418"
        ],
        [
         "2cafff3f-d853-4bac-8e94-ea0c8dc90e02",
         "['Okul', 'Veteriner']",
         "Çok mobil sinyal veren",
         "Namık Kemal Mahallesi",
         "5.587508395058801"
        ],
        [
         "2ec5ae7b-ae83-4a54-92f7-42bd37badf42",
         "['Restoran', 'Okul', 'Ulaşım', 'İçkili Mekan']",
         "Çok mobil sinyal veren",
         "Caferağa Mahallesi",
         "43.94576735554968"
        ],
        [
         "2fea40c5-e464-4ddf-ab0f-ceeb93836844",
         "['Cami', 'Kamu Kurumu', 'Park']",
         "Çok mobil sinyal veren",
         "Mimar Sinan Mahallesi",
         "11.831778449044233"
        ],
        [
         "30c55c28-45e8-6980-ad1d-7064b7c84051",
         "['Park', 'Veteriner']",
         "Çok mobil sinyal veren",
         "Sahrayıcedit Mahallesi",
         "18.26271225651692"
        ],
        [
         "30e0503b-8049-46c4-8dbd-3eba42ce5222",
         "['Park', 'Banka']",
         "Az mobil sinyal veren",
         "Finanskent Mahallesi",
         "78.29161085771747"
        ],
        [
         "31c91da5-8ee8-470f-a365-d9021e632eda",
         "['Kafe', 'Okul', 'Ulaşım']",
         "Çok mobil sinyal veren",
         "Göztepe Mahallesi",
         "11.175016790117605"
        ],
        [
         "35b845d0-fba5-412a-a8f1-f987fa94ffaa",
         "['Market', 'Okul', 'Otopark', 'Restoran', 'İçkili Mekan']",
         "Çok mobil sinyal veren",
         "Atatürk Mahallesi",
         "14.70486572496494"
        ],
        [
         "39ed42b2-4f6c-6c6f-185d-6912c0e2151d",
         "['Ulaşım', 'Kafe']",
         "Çok mobil sinyal veren",
         "Mehmet Akif Ersoy Mahallesi",
         "11.175016790117605"
        ],
        [
         "3c178966-1b80-4180-8eb9-782c1fb4f718",
         "['Park', 'İçkili Mekan', 'Ulaşım']",
         "Çok mobil sinyal veren",
         "Suadiye Mahallesi",
         "33.094864848242175"
        ],
        [
         "3ccd8371-c1c6-6d71-180f-578a9366763f",
         "['Okul']",
         "Çok mobil sinyal veren",
         "Feneryolu Mahallesi",
         "11.175016790117605"
        ],
        [
         "3d0d3542-d428-425f-89a2-16e873350b25",
         "['Okul', 'Park']",
         "Çok mobil sinyal veren",
         "Kandilli Mahallesi",
         "18.26271225651692"
        ],
        [
         "44be75cd-bf73-4cf6-bde3-aba66c2374d3",
         "['Okul', 'Cami', 'Park']",
         "Çok mobil sinyal veren",
         "Dumlupınar Mahallesi",
         "11.175016790117605"
        ],
        [
         "44c482d2-d32b-4324-b6ac-acc1c230a2c3",
         "['Hastane']",
         "Çok mobil sinyal veren",
         "Merdivenköy Mahallesi",
         "11.175016790117605"
        ],
        [
         "4d4b939f-3f71-4366-aea0-ebfbb1906b9f",
         "['İçkili Mekan', 'Ulaşım']",
         "Çok mobil sinyal veren",
         "Caferağa Mahallesi",
         "41.07004755123098"
        ],
        [
         "4ff3b4ae-b167-4bf0-ae84-38f791e1b76c",
         "['Okul']",
         "Çok mobil sinyal veren",
         "Esatpaşa Mahallesi",
         "0.0"
        ],
        [
         "56437dbb-f7c6-48ed-8adf-59fc28147213",
         "['Park', 'Veteriner']",
         "Çok mobil sinyal veren",
         "Fenerbahçe Mahallesi",
         "13.391342407111678"
        ],
        [
         "5b3760b6-82b0-4057-99ac-b7b56260d977",
         "['Ulaşım']",
         "Çok mobil sinyal veren",
         "Yukarı Dudullu Mahallesi",
         "0.0"
        ],
        [
         "613e61d6-2791-46da-bbd7-e8ce58f57dd1",
         "['Okul', 'Park', 'Restoran']",
         "Çok mobil sinyal veren",
         "Kayışdağı Mahallesi",
         "1.1081628084970374"
        ],
        [
         "630f0bbd-d1e7-4df3-a8a0-27d4472ce2a3",
         "['Park', 'Okul', 'Ulaşım']",
         "Çok mobil sinyal veren",
         "Burhaniye Mahallesi",
         "11.831778449044233"
        ],
        [
         "64645842-a2d3-4ad5-a818-1b7357a40796",
         "['Hastane', 'Cami', 'Okul', 'Park']",
         "Çok mobil sinyal veren",
         "Cumhuriyet Mahallesi",
         "13.391342407111678"
        ],
        [
         "6f366300-3042-4f6f-a2eb-2ac694af3fc0",
         "['Market', 'Okul', 'Ulaşım', 'İçkili Mekan']",
         "Çok mobil sinyal veren",
         "Erenköy Mahallesi",
         "12.28317959861464"
        ],
        [
         "7200a895-bab5-4849-9dd2-07fa602c0f68",
         "['Park', 'Hastane', 'Ulaşım']",
         "Çok mobil sinyal veren",
         "Muratreis Mahallesi",
         "11.175016790117605"
        ],
        [
         "7277915a-3596-4883-8542-041cd3d81804",
         "['Hastane']",
         "Çok mobil sinyal veren",
         "Zühtüpaşa Mahallesi",
         "12.28317959861464"
        ],
        [
         "77a8c940-cabd-486d-b32d-eb098340d456",
         "['Park']",
         "Az mobil sinyal veren",
         "Barbaros Mahallesi",
         "100.0"
        ],
        [
         "7acaaa9b-3513-4e41-aab0-94f12ce0f9ab",
         "['Kamu Kurumu']",
         "Az mobil sinyal veren",
         "Cumhuriyet Mahallesi",
         "17.15454944801988"
        ],
        [
         "7c74ef44-1623-4567-a98b-6f815f6e2e67",
         "['Park']",
         "Az mobil sinyal veren",
         "İçerenköy Mahallesi",
         "11.175016790117605"
        ],
        [
         "7c8bac3a-7013-42a3-9ea0-962bed540e68",
         "['Hastane', 'Ulaşım']",
         "Çok mobil sinyal veren",
         "İçerenköy Mahallesi",
         "12.28317959861464"
        ],
        [
         "7ea1df8a-9ca6-496f-b98a-faab25980a67",
         "['Okul', 'Park', 'Ulaşım']",
         "Çok mobil sinyal veren",
         "Merdivenköy Mahallesi",
         "23.78779456160586"
        ],
        [
         "808d37e8-ebff-451a-adf0-16fc89c66d92",
         "['Park', 'Alışveriş Merkezi']",
         "Çok mobil sinyal veren",
         "Barbaros Mahallesi",
         "13.271740592519492"
        ]
       ],
       "shape": {
        "columns": 4,
        "rows": 99
       }
      },
      "text/html": [
       "<div>\n",
       "<style scoped>\n",
       "    .dataframe tbody tr th:only-of-type {\n",
       "        vertical-align: middle;\n",
       "    }\n",
       "\n",
       "    .dataframe tbody tr th {\n",
       "        vertical-align: top;\n",
       "    }\n",
       "\n",
       "    .dataframe thead th {\n",
       "        text-align: right;\n",
       "    }\n",
       "</style>\n",
       "<table border=\"1\" class=\"dataframe\">\n",
       "  <thead>\n",
       "    <tr style=\"text-align: right;\">\n",
       "      <th></th>\n",
       "      <th>favoriler</th>\n",
       "      <th>time_cluster</th>\n",
       "      <th>oturdugu_mahalle</th>\n",
       "      <th>rich_score</th>\n",
       "    </tr>\n",
       "    <tr>\n",
       "      <th>device_aid</th>\n",
       "      <th></th>\n",
       "      <th></th>\n",
       "      <th></th>\n",
       "      <th></th>\n",
       "    </tr>\n",
       "  </thead>\n",
       "  <tbody>\n",
       "    <tr>\n",
       "      <th>01069bba-c0ed-4999-8515-22754c3fee3e</th>\n",
       "      <td>['Park']</td>\n",
       "      <td>Az mobil sinyal veren</td>\n",
       "      <td>Atatürk Mahallesi</td>\n",
       "      <td>42.850287</td>\n",
       "    </tr>\n",
       "    <tr>\n",
       "      <th>02712699-4a57-400b-a04a-d39bd5c8eba1</th>\n",
       "      <td>['Ulaşım', 'Park', 'Market']</td>\n",
       "      <td>Çok mobil sinyal veren</td>\n",
       "      <td>İçerenköy Mahallesi</td>\n",
       "      <td>12.614979</td>\n",
       "    </tr>\n",
       "    <tr>\n",
       "      <th>02d49c46-cfba-4bfb-9a46-5fa417c4ac6e</th>\n",
       "      <td>['Park', 'Okul', 'Ulaşım']</td>\n",
       "      <td>Az mobil sinyal veren</td>\n",
       "      <td>Barbaros Mahallesi</td>\n",
       "      <td>33.307062</td>\n",
       "    </tr>\n",
       "    <tr>\n",
       "      <th>05e5adce-840a-430c-81d7-22a7ca96f534</th>\n",
       "      <td>['Park', 'Okul', 'İçkili Mekan', 'Veteriner']</td>\n",
       "      <td>Çok mobil sinyal veren</td>\n",
       "      <td>Suadiye Mahallesi</td>\n",
       "      <td>27.769045</td>\n",
       "    </tr>\n",
       "    <tr>\n",
       "      <th>0773956e-e6f8-459e-961f-ec1470c80462</th>\n",
       "      <td>['Park', 'Restoran']</td>\n",
       "      <td>Çok mobil sinyal veren</td>\n",
       "      <td>Yenişehir Mahallesi</td>\n",
       "      <td>18.919474</td>\n",
       "    </tr>\n",
       "    <tr>\n",
       "      <th>...</th>\n",
       "      <td>...</td>\n",
       "      <td>...</td>\n",
       "      <td>...</td>\n",
       "      <td>...</td>\n",
       "    </tr>\n",
       "    <tr>\n",
       "      <th>39f3c4df-99c3-4b55-a133-8870d1bd55a6</th>\n",
       "      <td>NaN</td>\n",
       "      <td>NaN</td>\n",
       "      <td>Dudullu OSB Mahallesi</td>\n",
       "      <td>11.175017</td>\n",
       "    </tr>\n",
       "    <tr>\n",
       "      <th>8b9d7288-fb75-461c-93b4-219d6af6e47f</th>\n",
       "      <td>NaN</td>\n",
       "      <td>NaN</td>\n",
       "      <td>Aşağı Dudullu Mahallesi</td>\n",
       "      <td>0.000000</td>\n",
       "    </tr>\n",
       "    <tr>\n",
       "      <th>8bc371a8-a449-405d-8844-7424734f75a7</th>\n",
       "      <td>NaN</td>\n",
       "      <td>NaN</td>\n",
       "      <td>Namık Kemal Mahallesi</td>\n",
       "      <td>5.587508</td>\n",
       "    </tr>\n",
       "    <tr>\n",
       "      <th>e4b72476-4edd-4802-af4e-9b50984b59a5</th>\n",
       "      <td>NaN</td>\n",
       "      <td>NaN</td>\n",
       "      <td>Esatpaşa Mahallesi</td>\n",
       "      <td>0.000000</td>\n",
       "    </tr>\n",
       "    <tr>\n",
       "      <th>e7c34dd6-912c-4ba5-b324-8d93092434cd</th>\n",
       "      <td>NaN</td>\n",
       "      <td>NaN</td>\n",
       "      <td>Esenkent Mahallesi</td>\n",
       "      <td>0.000000</td>\n",
       "    </tr>\n",
       "  </tbody>\n",
       "</table>\n",
       "<p>99 rows × 4 columns</p>\n",
       "</div>"
      ],
      "text/plain": [
       "                                                                          favoriler  \\\n",
       "device_aid                                                                            \n",
       "01069bba-c0ed-4999-8515-22754c3fee3e                                       ['Park']   \n",
       "02712699-4a57-400b-a04a-d39bd5c8eba1                   ['Ulaşım', 'Park', 'Market']   \n",
       "02d49c46-cfba-4bfb-9a46-5fa417c4ac6e                     ['Park', 'Okul', 'Ulaşım']   \n",
       "05e5adce-840a-430c-81d7-22a7ca96f534  ['Park', 'Okul', 'İçkili Mekan', 'Veteriner']   \n",
       "0773956e-e6f8-459e-961f-ec1470c80462                           ['Park', 'Restoran']   \n",
       "...                                                                             ...   \n",
       "39f3c4df-99c3-4b55-a133-8870d1bd55a6                                            NaN   \n",
       "8b9d7288-fb75-461c-93b4-219d6af6e47f                                            NaN   \n",
       "8bc371a8-a449-405d-8844-7424734f75a7                                            NaN   \n",
       "e4b72476-4edd-4802-af4e-9b50984b59a5                                            NaN   \n",
       "e7c34dd6-912c-4ba5-b324-8d93092434cd                                            NaN   \n",
       "\n",
       "                                                time_cluster  \\\n",
       "device_aid                                                     \n",
       "01069bba-c0ed-4999-8515-22754c3fee3e   Az mobil sinyal veren   \n",
       "02712699-4a57-400b-a04a-d39bd5c8eba1  Çok mobil sinyal veren   \n",
       "02d49c46-cfba-4bfb-9a46-5fa417c4ac6e   Az mobil sinyal veren   \n",
       "05e5adce-840a-430c-81d7-22a7ca96f534  Çok mobil sinyal veren   \n",
       "0773956e-e6f8-459e-961f-ec1470c80462  Çok mobil sinyal veren   \n",
       "...                                                      ...   \n",
       "39f3c4df-99c3-4b55-a133-8870d1bd55a6                     NaN   \n",
       "8b9d7288-fb75-461c-93b4-219d6af6e47f                     NaN   \n",
       "8bc371a8-a449-405d-8844-7424734f75a7                     NaN   \n",
       "e4b72476-4edd-4802-af4e-9b50984b59a5                     NaN   \n",
       "e7c34dd6-912c-4ba5-b324-8d93092434cd                     NaN   \n",
       "\n",
       "                                             oturdugu_mahalle  rich_score  \n",
       "device_aid                                                                 \n",
       "01069bba-c0ed-4999-8515-22754c3fee3e        Atatürk Mahallesi   42.850287  \n",
       "02712699-4a57-400b-a04a-d39bd5c8eba1      İçerenköy Mahallesi   12.614979  \n",
       "02d49c46-cfba-4bfb-9a46-5fa417c4ac6e       Barbaros Mahallesi   33.307062  \n",
       "05e5adce-840a-430c-81d7-22a7ca96f534        Suadiye Mahallesi   27.769045  \n",
       "0773956e-e6f8-459e-961f-ec1470c80462      Yenişehir Mahallesi   18.919474  \n",
       "...                                                       ...         ...  \n",
       "39f3c4df-99c3-4b55-a133-8870d1bd55a6    Dudullu OSB Mahallesi   11.175017  \n",
       "8b9d7288-fb75-461c-93b4-219d6af6e47f  Aşağı Dudullu Mahallesi    0.000000  \n",
       "8bc371a8-a449-405d-8844-7424734f75a7    Namık Kemal Mahallesi    5.587508  \n",
       "e4b72476-4edd-4802-af4e-9b50984b59a5       Esatpaşa Mahallesi    0.000000  \n",
       "e7c34dd6-912c-4ba5-b324-8d93092434cd       Esenkent Mahallesi    0.000000  \n",
       "\n",
       "[99 rows x 4 columns]"
      ]
     },
     "execution_count": 4,
     "metadata": {},
     "output_type": "execute_result"
    }
   ],
   "source": [
    "data = pd.concat([data, rich_scores], axis=1)\n",
    "data"
   ]
  },
  {
   "cell_type": "code",
   "execution_count": 5,
   "id": "297c31c8",
   "metadata": {},
   "outputs": [],
   "source": [
    "data.to_csv(\"final.csv\", index=True)"
   ]
  }
 ],
 "metadata": {
  "kernelspec": {
   "display_name": "venv",
   "language": "python",
   "name": "python3"
  },
  "language_info": {
   "codemirror_mode": {
    "name": "ipython",
    "version": 3
   },
   "file_extension": ".py",
   "mimetype": "text/x-python",
   "name": "python",
   "nbconvert_exporter": "python",
   "pygments_lexer": "ipython3",
   "version": "3.12.3"
  }
 },
 "nbformat": 4,
 "nbformat_minor": 5
}
