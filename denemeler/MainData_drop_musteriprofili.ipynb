{
 "cells": [
  {
   "cell_type": "code",
   "execution_count": 1,
   "id": "3dc9fcc9",
   "metadata": {},
   "outputs": [],
   "source": [
    "import pandas as pd"
   ]
  },
  {
   "cell_type": "code",
   "execution_count": 4,
   "id": "b7c1a535",
   "metadata": {},
   "outputs": [
    {
     "name": "stdout",
     "output_type": "stream",
     "text": [
      "   MusteriKodu              MusteriBolge1       MusteriBolge2  \\\n",
      "0       433249  Ulusal On-Trade Kanal MD.  İstanbul Modern OT   \n",
      "1       456855  Ulusal On-Trade Kanal MD.  İstanbul Modern OT   \n",
      "2       700932  Ulusal On-Trade Kanal MD.  İstanbul Modern OT   \n",
      "3   1000029700        Telesales Kanal Md.   Telesales OnTrade   \n",
      "4       720622  Ulusal On-Trade Kanal MD.  İstanbul Modern OT   \n",
      "\n",
      "      MusteriBolge3 MusteriBolge4 SatisKanali      lisansNo SatisHacmi  \\\n",
      "0  İstanbul Anadolu       KADIKÖY       HOTEL    34281647Aİ         S5   \n",
      "1  İstanbul Anadolu      ATAŞEHİR       HOTEL    34391592Aİ         S3   \n",
      "2  İstanbul Anadolu       ÜSKÜDAR       HOTEL  3434004743Aİ         S5   \n",
      "3   İstanbul Avrupa       ÜSKÜDAR      MODERN  3434004768Aİ         S3   \n",
      "4  İstanbul Anadolu       KADIKÖY      MODERN    34283862Aİ         S5   \n",
      "\n",
      "  DiageoSatisHacmi                                    RutAdi  ...  \\\n",
      "0               D3        Presell On İst.Mod Kadıköy Bölgesi  ...   \n",
      "1               D4       Presell On İst.Mod Ataşehir Bölgesi  ...   \n",
      "2               D4       Presell On İst.Mod Ataşehir Bölgesi  ...   \n",
      "3               D3  Presell Kayıkçı Telesell OnTrade Bölgesi  ...   \n",
      "4               D5    Presell On İst.Mod Caddebostan Bölgesi  ...   \n",
      "\n",
      "           lat          lng  MusteriProfili MapProfileScore  \\\n",
      "0  40,99544397  29,02480308               C             NaN   \n",
      "1  40,98091700  29,10137200              AB             NaN   \n",
      "2    41.054086    29.051875              A+             NaN   \n",
      "3  41,01910260  28,95795300               C         67.1815   \n",
      "4  40,96505120  29,07206820              AB         77.7405   \n",
      "\n",
      "   MapPopulationScore Mapin Segment         not      username   Url detay  \\\n",
      "0                 NaN            H2         NaN           NaN         var   \n",
      "1                 NaN            H1         NaN  marriottasia         var   \n",
      "2                 NaN            H1         NaN           NaN         var   \n",
      "3             54.2895          D4-C  Bulunamadı           NaN  Bulunamadı   \n",
      "4             62.0554          D3-B         NaN           NaN         BOŞ   \n",
      "\n",
      "                                                 url  \n",
      "0          https://maps.app.goo.gl/k39kVzHodETV1er16  \n",
      "1          https://maps.app.goo.gl/WMzAaa4tpqWqHDXL9  \n",
      "2  https://maps.google.com/?cid=11419511708799045238  \n",
      "3                                                NaN  \n",
      "4                                                NaN  \n",
      "\n",
      "[5 rows x 41 columns]\n"
     ]
    }
   ],
   "source": [
    "# Excel dosyasını oku\n",
    "df = pd.read_excel('data/Hackathon_MainData.xlsx', sheet_name='List')\n",
    "\n",
    "# Veriyi inceleyelim\n",
    "print(df.head())  # İlk 5 satırı gösterir"
   ]
  },
  {
   "cell_type": "code",
   "execution_count": null,
   "id": "a38bb80c",
   "metadata": {},
   "outputs": [],
   "source": [
    "df = df.drop([\"MusteriProfili\"], axis=1)"
   ]
  },
  {
   "cell_type": "code",
   "execution_count": null,
   "id": "3afc9f99",
   "metadata": {},
   "outputs": [],
   "source": [
    "df.to_excel('data/Hackathon_MainData.xlsx', index=False, sheet_name=\"List\")"
   ]
  }
 ],
 "metadata": {
  "kernelspec": {
   "display_name": "venv",
   "language": "python",
   "name": "python3"
  },
  "language_info": {
   "codemirror_mode": {
    "name": "ipython",
    "version": 3
   },
   "file_extension": ".py",
   "mimetype": "text/x-python",
   "name": "python",
   "nbconvert_exporter": "python",
   "pygments_lexer": "ipython3",
   "version": "3.12.3"
  }
 },
 "nbformat": 4,
 "nbformat_minor": 5
}
