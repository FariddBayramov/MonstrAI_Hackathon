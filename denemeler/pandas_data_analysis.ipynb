{
 "cells": [
  {
   "cell_type": "code",
   "execution_count": 1,
   "id": "f072e29f",
   "metadata": {},
   "outputs": [],
   "source": [
    "import pandas as pd"
   ]
  },
  {
   "cell_type": "code",
   "execution_count": 9,
   "id": "fc0b129a",
   "metadata": {},
   "outputs": [
    {
     "data": {
      "application/vnd.microsoft.datawrangler.viewer.v0+json": {
       "columns": [
        {
         "name": "index",
         "rawType": "int64",
         "type": "integer"
        },
        {
         "name": "isim",
         "rawType": "object",
         "type": "string"
        },
        {
         "name": "adres",
         "rawType": "object",
         "type": "string"
        },
        {
         "name": "latitude",
         "rawType": "object",
         "type": "string"
        },
        {
         "name": "longitude",
         "rawType": "object",
         "type": "string"
        },
        {
         "name": "google_maps_link",
         "rawType": "object",
         "type": "string"
        }
       ],
       "ref": "6914abd3-9652-458b-8fbb-e7e34f9669df",
       "rows": [
        [
         "0",
         "Arabica Coffee House Nev Çarşı",
         "Mimar Sinan; Cavuşdere Cd. No:35; 34672 Üsküdar/İstanbul; Türkiye",
         "'41.0205612",
         "'29.0195989",
         "https://www.google.com/maps?q=41.0205612;29.0195989"
        ],
        [
         "1",
         "Arabicano Coffee",
         "Kandilli; Fatinhoca Sokagi No:34684; 34684 Üsküdar/İstanbul; Türkiye",
         "'41.0716563",
         "'29.0606866",
         "https://www.google.com/maps?q=41.0716563;29.0606866"
        ],
        [
         "2",
         "Best Coffee Shop Lavazza",
         "Sahrayi Cedit; Batman Sk. No:18; 34734 Kadiköy/İstanbul; Türkiye",
         "'40.9875706",
         "'29.0834358",
         "https://www.google.com/maps?q=40.9875706;29.0834358"
        ],
        [
         "3",
         "Best Coffee Shop Lavazza",
         "Kozyatagi; 34742 Kadiköy/İstanbul; Türkiye",
         "'40.975549",
         "'29.0973478",
         "https://www.google.com/maps?q=40.975549;29.0973478"
        ],
        [
         "4",
         "Big Chef kahvaltı deniz manzaralı",
         "Caferaga; Küçükmoda Burnu Sk No:23; 34710 Kadiköy/İstanbul; Türkiye",
         "'40.9803687",
         "'29.0258854",
         "https://www.google.com/maps?q=40.9803687;29.0258854"
        ]
       ],
       "shape": {
        "columns": 5,
        "rows": 5
       }
      },
      "text/html": [
       "<div>\n",
       "<style scoped>\n",
       "    .dataframe tbody tr th:only-of-type {\n",
       "        vertical-align: middle;\n",
       "    }\n",
       "\n",
       "    .dataframe tbody tr th {\n",
       "        vertical-align: top;\n",
       "    }\n",
       "\n",
       "    .dataframe thead th {\n",
       "        text-align: right;\n",
       "    }\n",
       "</style>\n",
       "<table border=\"1\" class=\"dataframe\">\n",
       "  <thead>\n",
       "    <tr style=\"text-align: right;\">\n",
       "      <th></th>\n",
       "      <th>isim</th>\n",
       "      <th>adres</th>\n",
       "      <th>latitude</th>\n",
       "      <th>longitude</th>\n",
       "      <th>google_maps_link</th>\n",
       "    </tr>\n",
       "  </thead>\n",
       "  <tbody>\n",
       "    <tr>\n",
       "      <th>0</th>\n",
       "      <td>Arabica Coffee House Nev Çarşı</td>\n",
       "      <td>Mimar Sinan; Cavuşdere Cd. No:35; 34672 Üsküda...</td>\n",
       "      <td>'41.0205612</td>\n",
       "      <td>'29.0195989</td>\n",
       "      <td>https://www.google.com/maps?q=41.0205612;29.01...</td>\n",
       "    </tr>\n",
       "    <tr>\n",
       "      <th>1</th>\n",
       "      <td>Arabicano Coffee</td>\n",
       "      <td>Kandilli; Fatinhoca Sokagi No:34684; 34684 Üsk...</td>\n",
       "      <td>'41.0716563</td>\n",
       "      <td>'29.0606866</td>\n",
       "      <td>https://www.google.com/maps?q=41.0716563;29.06...</td>\n",
       "    </tr>\n",
       "    <tr>\n",
       "      <th>2</th>\n",
       "      <td>Best Coffee Shop Lavazza</td>\n",
       "      <td>Sahrayi Cedit; Batman Sk. No:18; 34734 Kadiköy...</td>\n",
       "      <td>'40.9875706</td>\n",
       "      <td>'29.0834358</td>\n",
       "      <td>https://www.google.com/maps?q=40.9875706;29.08...</td>\n",
       "    </tr>\n",
       "    <tr>\n",
       "      <th>3</th>\n",
       "      <td>Best Coffee Shop Lavazza</td>\n",
       "      <td>Kozyatagi; 34742 Kadiköy/İstanbul; Türkiye</td>\n",
       "      <td>'40.975549</td>\n",
       "      <td>'29.0973478</td>\n",
       "      <td>https://www.google.com/maps?q=40.975549;29.097...</td>\n",
       "    </tr>\n",
       "    <tr>\n",
       "      <th>4</th>\n",
       "      <td>Big Chef kahvaltı deniz manzaralı</td>\n",
       "      <td>Caferaga; Küçükmoda Burnu Sk No:23; 34710 Kadi...</td>\n",
       "      <td>'40.9803687</td>\n",
       "      <td>'29.0258854</td>\n",
       "      <td>https://www.google.com/maps?q=40.9803687;29.02...</td>\n",
       "    </tr>\n",
       "  </tbody>\n",
       "</table>\n",
       "</div>"
      ],
      "text/plain": [
       "                                isim  \\\n",
       "0     Arabica Coffee House Nev Çarşı   \n",
       "1                   Arabicano Coffee   \n",
       "2           Best Coffee Shop Lavazza   \n",
       "3           Best Coffee Shop Lavazza   \n",
       "4  Big Chef kahvaltı deniz manzaralı   \n",
       "\n",
       "                                               adres     latitude  \\\n",
       "0  Mimar Sinan; Cavuşdere Cd. No:35; 34672 Üsküda...  '41.0205612   \n",
       "1  Kandilli; Fatinhoca Sokagi No:34684; 34684 Üsk...  '41.0716563   \n",
       "2  Sahrayi Cedit; Batman Sk. No:18; 34734 Kadiköy...  '40.9875706   \n",
       "3         Kozyatagi; 34742 Kadiköy/İstanbul; Türkiye   '40.975549   \n",
       "4  Caferaga; Küçükmoda Burnu Sk No:23; 34710 Kadi...  '40.9803687   \n",
       "\n",
       "     longitude                                   google_maps_link  \n",
       "0  '29.0195989  https://www.google.com/maps?q=41.0205612;29.01...  \n",
       "1  '29.0606866  https://www.google.com/maps?q=41.0716563;29.06...  \n",
       "2  '29.0834358  https://www.google.com/maps?q=40.9875706;29.08...  \n",
       "3  '29.0973478  https://www.google.com/maps?q=40.975549;29.097...  \n",
       "4  '29.0258854  https://www.google.com/maps?q=40.9803687;29.02...  "
      ]
     },
     "execution_count": 9,
     "metadata": {},
     "output_type": "execute_result"
    }
   ],
   "source": [
    "df = pd.read_excel(\"data/kahve_zinciri_anadolu_yakasi.xlsx\")\n",
    "df.head()"
   ]
  },
  {
   "cell_type": "code",
   "execution_count": 10,
   "id": "b3dfd246",
   "metadata": {},
   "outputs": [
    {
     "name": "stdout",
     "output_type": "stream",
     "text": [
      "Index nesnesi olarak sütun isimleri: isim                object\n",
      "adres               object\n",
      "latitude            object\n",
      "longitude           object\n",
      "google_maps_link    object\n",
      "dtype: object\n",
      "Length: 5\n"
     ]
    }
   ],
   "source": [
    "column_names_index = df.columns\n",
    "print(f\"Index nesnesi olarak sütun isimleri: {df.dtypes}\")\n",
    "print(f\"Length: {len(column_names_index)}\")"
   ]
  },
  {
   "cell_type": "code",
   "execution_count": 11,
   "id": "1bf4a2e8",
   "metadata": {},
   "outputs": [
    {
     "name": "stdout",
     "output_type": "stream",
     "text": [
      "DataFrame'in şekli (shape): (241, 5)\n",
      "Satır sayısı: 241\n",
      "Sütun sayısı: 5\n"
     ]
    }
   ],
   "source": [
    "df_shape = df.shape\n",
    "print(f\"DataFrame'in şekli (shape): {df_shape}\")\n",
    "print(f\"Satır sayısı: {df_shape[0]}\")\n",
    "print(f\"Sütun sayısı: {df_shape[1]}\")"
   ]
  }
 ],
 "metadata": {
  "kernelspec": {
   "display_name": "venv",
   "language": "python",
   "name": "python3"
  },
  "language_info": {
   "codemirror_mode": {
    "name": "ipython",
    "version": 3
   },
   "file_extension": ".py",
   "mimetype": "text/x-python",
   "name": "python",
   "nbconvert_exporter": "python",
   "pygments_lexer": "ipython3",
   "version": "3.12.3"
  }
 },
 "nbformat": 4,
 "nbformat_minor": 5
}
